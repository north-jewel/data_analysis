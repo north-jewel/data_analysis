{
 "cells": [
  {
   "cell_type": "markdown",
   "metadata": {},
   "source": [
    "## 回顾"
   ]
  },
  {
   "cell_type": "code",
   "execution_count": 1,
   "metadata": {},
   "outputs": [],
   "source": [
    "import numpy as np"
   ]
  },
  {
   "cell_type": "markdown",
   "metadata": {},
   "source": [
    "遍历array,得到元素"
   ]
  },
  {
   "cell_type": "code",
   "execution_count": 2,
   "metadata": {},
   "outputs": [],
   "source": [
    "a  = np.arange(12).reshape(3,4)"
   ]
  },
  {
   "cell_type": "code",
   "execution_count": 3,
   "metadata": {},
   "outputs": [
    {
     "data": {
      "text/plain": [
       "array([[ 0,  1,  2,  3],\n",
       "       [ 4,  5,  6,  7],\n",
       "       [ 8,  9, 10, 11]])"
      ]
     },
     "execution_count": 3,
     "metadata": {},
     "output_type": "execute_result"
    }
   ],
   "source": [
    "a"
   ]
  },
  {
   "cell_type": "code",
   "execution_count": 8,
   "metadata": {},
   "outputs": [
    {
     "name": "stdout",
     "output_type": "stream",
     "text": [
      "0 ,1 ,2 ,3 ,4 ,5 ,6 ,7 ,8 ,9 ,10 ,11 ,"
     ]
    }
   ],
   "source": [
    "for i in a.flat:\n",
    "    print(i,end=' ,')"
   ]
  },
  {
   "cell_type": "markdown",
   "metadata": {},
   "source": [
    "轴axis操作"
   ]
  },
  {
   "cell_type": "code",
   "execution_count": 9,
   "metadata": {},
   "outputs": [
    {
     "data": {
      "text/plain": [
       "66"
      ]
     },
     "execution_count": 9,
     "metadata": {},
     "output_type": "execute_result"
    }
   ],
   "source": [
    "a.sum()"
   ]
  },
  {
   "cell_type": "code",
   "execution_count": 10,
   "metadata": {},
   "outputs": [
    {
     "data": {
      "text/plain": [
       "array([12, 15, 18, 21])"
      ]
     },
     "execution_count": 10,
     "metadata": {},
     "output_type": "execute_result"
    }
   ],
   "source": [
    "a.sum(axis=0)"
   ]
  },
  {
   "cell_type": "markdown",
   "metadata": {},
   "source": [
    "切片操作"
   ]
  },
  {
   "cell_type": "code",
   "execution_count": 12,
   "metadata": {},
   "outputs": [
    {
     "data": {
      "text/plain": [
       "array([5, 6])"
      ]
     },
     "execution_count": 12,
     "metadata": {},
     "output_type": "execute_result"
    }
   ],
   "source": [
    "a[1,1:3]"
   ]
  },
  {
   "cell_type": "code",
   "execution_count": 13,
   "metadata": {},
   "outputs": [
    {
     "data": {
      "text/plain": [
       "array([4, 5, 6, 7])"
      ]
     },
     "execution_count": 13,
     "metadata": {},
     "output_type": "execute_result"
    }
   ],
   "source": [
    "a[1,:]"
   ]
  },
  {
   "cell_type": "markdown",
   "metadata": {},
   "source": [
    "索引"
   ]
  },
  {
   "cell_type": "code",
   "execution_count": 14,
   "metadata": {},
   "outputs": [
    {
     "data": {
      "text/plain": [
       "array([4, 5, 6, 7])"
      ]
     },
     "execution_count": 14,
     "metadata": {},
     "output_type": "execute_result"
    }
   ],
   "source": [
    "a[1,...]"
   ]
  },
  {
   "cell_type": "code",
   "execution_count": 15,
   "metadata": {},
   "outputs": [
    {
     "data": {
      "text/plain": [
       "array([4, 5, 6, 7])"
      ]
     },
     "execution_count": 15,
     "metadata": {},
     "output_type": "execute_result"
    }
   ],
   "source": [
    "a[1]"
   ]
  },
  {
   "cell_type": "markdown",
   "metadata": {},
   "source": [
    "数组a和b,  a += b  和 np.add(a,b) 这两种操作有何异同?"
   ]
  },
  {
   "cell_type": "markdown",
   "metadata": {},
   "source": [
    "# 新的开始"
   ]
  },
  {
   "cell_type": "code",
   "execution_count": 16,
   "metadata": {},
   "outputs": [],
   "source": [
    "import math"
   ]
  },
  {
   "cell_type": "code",
   "execution_count": 17,
   "metadata": {},
   "outputs": [
    {
     "data": {
      "text/plain": [
       "3"
      ]
     },
     "execution_count": 17,
     "metadata": {},
     "output_type": "execute_result"
    }
   ],
   "source": [
    "math.floor(3.1)"
   ]
  },
  {
   "cell_type": "code",
   "execution_count": 18,
   "metadata": {},
   "outputs": [
    {
     "data": {
      "text/plain": [
       "3"
      ]
     },
     "execution_count": 18,
     "metadata": {},
     "output_type": "execute_result"
    }
   ],
   "source": [
    "math.floor(3.9)"
   ]
  },
  {
   "cell_type": "code",
   "execution_count": 19,
   "metadata": {},
   "outputs": [
    {
     "data": {
      "text/plain": [
       "-4"
      ]
     },
     "execution_count": 19,
     "metadata": {},
     "output_type": "execute_result"
    }
   ],
   "source": [
    "math.floor(-3.1)"
   ]
  },
  {
   "cell_type": "code",
   "execution_count": 20,
   "metadata": {},
   "outputs": [
    {
     "data": {
      "text/plain": [
       "-4"
      ]
     },
     "execution_count": 20,
     "metadata": {},
     "output_type": "execute_result"
    }
   ],
   "source": [
    "math.floor(-3.9)"
   ]
  },
  {
   "cell_type": "code",
   "execution_count": 21,
   "metadata": {},
   "outputs": [
    {
     "data": {
      "text/plain": [
       "4"
      ]
     },
     "execution_count": 21,
     "metadata": {},
     "output_type": "execute_result"
    }
   ],
   "source": [
    "math.ceil(3.1)"
   ]
  },
  {
   "cell_type": "code",
   "execution_count": 22,
   "metadata": {},
   "outputs": [
    {
     "data": {
      "text/plain": [
       "-3"
      ]
     },
     "execution_count": 22,
     "metadata": {},
     "output_type": "execute_result"
    }
   ],
   "source": [
    "math.ceil(-3.1)"
   ]
  },
  {
   "cell_type": "code",
   "execution_count": 27,
   "metadata": {},
   "outputs": [
    {
     "data": {
      "text/plain": [
       "4"
      ]
     },
     "execution_count": 27,
     "metadata": {},
     "output_type": "execute_result"
    }
   ],
   "source": [
    "round(3.6)"
   ]
  },
  {
   "cell_type": "code",
   "execution_count": 28,
   "metadata": {},
   "outputs": [
    {
     "name": "stdout",
     "output_type": "stream",
     "text": [
      "Help on built-in function round in module builtins:\n",
      "\n",
      "round(...)\n",
      "    round(number[, ndigits]) -> number\n",
      "    \n",
      "    Round a number to a given precision in decimal digits (default 0 digits).\n",
      "    This returns an int when called with one argument, otherwise the\n",
      "    same type as the number. ndigits may be negative.\n",
      "\n"
     ]
    }
   ],
   "source": [
    "help(round)"
   ]
  },
  {
   "cell_type": "code",
   "execution_count": 29,
   "metadata": {},
   "outputs": [
    {
     "data": {
      "text/plain": [
       "3"
      ]
     },
     "execution_count": 29,
     "metadata": {},
     "output_type": "execute_result"
    }
   ],
   "source": [
    "round(3.4)"
   ]
  },
  {
   "cell_type": "code",
   "execution_count": 30,
   "metadata": {},
   "outputs": [],
   "source": [
    "a = np.floor(10*np.random.random((3,4)))"
   ]
  },
  {
   "cell_type": "code",
   "execution_count": 31,
   "metadata": {},
   "outputs": [
    {
     "data": {
      "text/plain": [
       "array([[1., 9., 9., 1.],\n",
       "       [5., 7., 8., 5.],\n",
       "       [7., 5., 8., 8.]])"
      ]
     },
     "execution_count": 31,
     "metadata": {},
     "output_type": "execute_result"
    }
   ],
   "source": [
    "a"
   ]
  },
  {
   "cell_type": "code",
   "execution_count": 32,
   "metadata": {},
   "outputs": [
    {
     "data": {
      "text/plain": [
       "dtype('float64')"
      ]
     },
     "execution_count": 32,
     "metadata": {},
     "output_type": "execute_result"
    }
   ],
   "source": [
    "a.dtype"
   ]
  },
  {
   "cell_type": "code",
   "execution_count": 33,
   "metadata": {},
   "outputs": [
    {
     "data": {
      "text/plain": [
       "array([1., 9., 9., 1., 5., 7., 8., 5., 7., 5., 8., 8.])"
      ]
     },
     "execution_count": 33,
     "metadata": {},
     "output_type": "execute_result"
    }
   ],
   "source": [
    "a.ravel()"
   ]
  },
  {
   "cell_type": "code",
   "execution_count": 34,
   "metadata": {},
   "outputs": [
    {
     "data": {
      "text/plain": [
       "array([[1., 9., 9., 1.],\n",
       "       [5., 7., 8., 5.],\n",
       "       [7., 5., 8., 8.]])"
      ]
     },
     "execution_count": 34,
     "metadata": {},
     "output_type": "execute_result"
    }
   ],
   "source": [
    "a"
   ]
  },
  {
   "cell_type": "code",
   "execution_count": 35,
   "metadata": {},
   "outputs": [
    {
     "data": {
      "text/plain": [
       "array([[1., 9., 9., 1., 5., 7.],\n",
       "       [8., 5., 7., 5., 8., 8.]])"
      ]
     },
     "execution_count": 35,
     "metadata": {},
     "output_type": "execute_result"
    }
   ],
   "source": [
    "a.reshape(2,6)"
   ]
  },
  {
   "cell_type": "code",
   "execution_count": 36,
   "metadata": {},
   "outputs": [
    {
     "data": {
      "text/plain": [
       "array([[1., 9., 9., 1.],\n",
       "       [5., 7., 8., 5.],\n",
       "       [7., 5., 8., 8.]])"
      ]
     },
     "execution_count": 36,
     "metadata": {},
     "output_type": "execute_result"
    }
   ],
   "source": [
    "a"
   ]
  },
  {
   "cell_type": "code",
   "execution_count": 37,
   "metadata": {},
   "outputs": [
    {
     "data": {
      "text/plain": [
       "array([[1., 9., 9.],\n",
       "       [1., 5., 7.],\n",
       "       [8., 5., 7.],\n",
       "       [5., 8., 8.]])"
      ]
     },
     "execution_count": 37,
     "metadata": {},
     "output_type": "execute_result"
    }
   ],
   "source": [
    "a.reshape(4,-1)"
   ]
  },
  {
   "cell_type": "code",
   "execution_count": 38,
   "metadata": {},
   "outputs": [
    {
     "data": {
      "text/plain": [
       "array([[1., 5., 7.],\n",
       "       [9., 7., 5.],\n",
       "       [9., 8., 8.],\n",
       "       [1., 5., 8.]])"
      ]
     },
     "execution_count": 38,
     "metadata": {},
     "output_type": "execute_result"
    }
   ],
   "source": [
    "a.T"
   ]
  },
  {
   "cell_type": "code",
   "execution_count": 39,
   "metadata": {},
   "outputs": [
    {
     "data": {
      "text/plain": [
       "array([[1., 9., 9., 1.],\n",
       "       [5., 7., 8., 5.],\n",
       "       [7., 5., 8., 8.]])"
      ]
     },
     "execution_count": 39,
     "metadata": {},
     "output_type": "execute_result"
    }
   ],
   "source": [
    "a"
   ]
  },
  {
   "cell_type": "code",
   "execution_count": 40,
   "metadata": {},
   "outputs": [
    {
     "data": {
      "text/plain": [
       "(4, 3)"
      ]
     },
     "execution_count": 40,
     "metadata": {},
     "output_type": "execute_result"
    }
   ],
   "source": [
    "a.T.shape"
   ]
  },
  {
   "cell_type": "code",
   "execution_count": 41,
   "metadata": {},
   "outputs": [],
   "source": [
    "a.resize(2,6)"
   ]
  },
  {
   "cell_type": "code",
   "execution_count": 42,
   "metadata": {},
   "outputs": [
    {
     "data": {
      "text/plain": [
       "array([[1., 9., 9., 1., 5., 7.],\n",
       "       [8., 5., 7., 5., 8., 8.]])"
      ]
     },
     "execution_count": 42,
     "metadata": {},
     "output_type": "execute_result"
    }
   ],
   "source": [
    "a"
   ]
  },
  {
   "cell_type": "code",
   "execution_count": 46,
   "metadata": {},
   "outputs": [
    {
     "ename": "ValueError",
     "evalue": "cannot reshape array of size 13 into shape (3,newaxis)",
     "output_type": "error",
     "traceback": [
      "\u001b[1;31m---------------------------------------------------------------------------\u001b[0m",
      "\u001b[1;31mValueError\u001b[0m                                Traceback (most recent call last)",
      "\u001b[1;32m<ipython-input-46-53833cb7b55d>\u001b[0m in \u001b[0;36m<module>\u001b[1;34m()\u001b[0m\n\u001b[1;32m----> 1\u001b[1;33m \u001b[0mb\u001b[0m\u001b[1;33m=\u001b[0m\u001b[0mnp\u001b[0m\u001b[1;33m.\u001b[0m\u001b[0marange\u001b[0m\u001b[1;33m(\u001b[0m\u001b[1;36m13\u001b[0m\u001b[1;33m)\u001b[0m\u001b[1;33m.\u001b[0m\u001b[0mreshape\u001b[0m\u001b[1;33m(\u001b[0m\u001b[1;36m3\u001b[0m\u001b[1;33m,\u001b[0m\u001b[1;33m-\u001b[0m\u001b[1;36m1\u001b[0m\u001b[1;33m)\u001b[0m\u001b[1;33m\u001b[0m\u001b[0m\n\u001b[0m",
      "\u001b[1;31mValueError\u001b[0m: cannot reshape array of size 13 into shape (3,newaxis)"
     ]
    }
   ],
   "source": [
    "b=np.arange(13).reshape(3,-1)"
   ]
  },
  {
   "cell_type": "code",
   "execution_count": 47,
   "metadata": {},
   "outputs": [],
   "source": [
    "a = np.floor(10*np.random.random((2,2)))"
   ]
  },
  {
   "cell_type": "code",
   "execution_count": 48,
   "metadata": {},
   "outputs": [],
   "source": [
    "b = np.floor(10*np.random.random((2,2)))"
   ]
  },
  {
   "cell_type": "code",
   "execution_count": 49,
   "metadata": {},
   "outputs": [
    {
     "data": {
      "text/plain": [
       "array([[3., 1.],\n",
       "       [4., 4.],\n",
       "       [6., 3.],\n",
       "       [4., 9.]])"
      ]
     },
     "execution_count": 49,
     "metadata": {},
     "output_type": "execute_result"
    }
   ],
   "source": [
    "np.vstack((a,b))"
   ]
  },
  {
   "cell_type": "code",
   "execution_count": 50,
   "metadata": {},
   "outputs": [
    {
     "data": {
      "text/plain": [
       "array([[3., 1., 6., 3.],\n",
       "       [4., 4., 4., 9.]])"
      ]
     },
     "execution_count": 50,
     "metadata": {},
     "output_type": "execute_result"
    }
   ],
   "source": [
    "np.hstack((a,b))"
   ]
  },
  {
   "cell_type": "code",
   "execution_count": 51,
   "metadata": {},
   "outputs": [
    {
     "data": {
      "text/plain": [
       "array([[3., 1.],\n",
       "       [4., 4.]])"
      ]
     },
     "execution_count": 51,
     "metadata": {},
     "output_type": "execute_result"
    }
   ],
   "source": [
    "a"
   ]
  },
  {
   "cell_type": "code",
   "execution_count": 52,
   "metadata": {},
   "outputs": [
    {
     "data": {
      "text/plain": [
       "array([[6., 3.],\n",
       "       [4., 9.]])"
      ]
     },
     "execution_count": 52,
     "metadata": {},
     "output_type": "execute_result"
    }
   ],
   "source": [
    "b"
   ]
  },
  {
   "cell_type": "code",
   "execution_count": 53,
   "metadata": {},
   "outputs": [],
   "source": [
    "from numpy import newaxis"
   ]
  },
  {
   "cell_type": "code",
   "execution_count": 54,
   "metadata": {},
   "outputs": [
    {
     "data": {
      "text/plain": [
       "array([[3., 1., 6., 3.],\n",
       "       [4., 4., 4., 9.]])"
      ]
     },
     "execution_count": 54,
     "metadata": {},
     "output_type": "execute_result"
    }
   ],
   "source": [
    "np.column_stack((a,b))"
   ]
  },
  {
   "cell_type": "code",
   "execution_count": 70,
   "metadata": {},
   "outputs": [],
   "source": [
    "a = np.array([4.,2.])"
   ]
  },
  {
   "cell_type": "code",
   "execution_count": 71,
   "metadata": {},
   "outputs": [],
   "source": [
    "b = np.array([3.,8.])"
   ]
  },
  {
   "cell_type": "code",
   "execution_count": 72,
   "metadata": {},
   "outputs": [
    {
     "data": {
      "text/plain": [
       "array([[4., 3.],\n",
       "       [2., 8.]])"
      ]
     },
     "execution_count": 72,
     "metadata": {},
     "output_type": "execute_result"
    }
   ],
   "source": [
    "np.column_stack((a,b))"
   ]
  },
  {
   "cell_type": "code",
   "execution_count": 73,
   "metadata": {},
   "outputs": [
    {
     "data": {
      "text/plain": [
       "array([4., 2., 3., 8.])"
      ]
     },
     "execution_count": 73,
     "metadata": {},
     "output_type": "execute_result"
    }
   ],
   "source": [
    "np.hstack((a,b))"
   ]
  },
  {
   "cell_type": "code",
   "execution_count": 74,
   "metadata": {},
   "outputs": [
    {
     "data": {
      "text/plain": [
       "array([4., 2.])"
      ]
     },
     "execution_count": 74,
     "metadata": {},
     "output_type": "execute_result"
    }
   ],
   "source": [
    "a"
   ]
  },
  {
   "cell_type": "code",
   "execution_count": 75,
   "metadata": {},
   "outputs": [
    {
     "data": {
      "text/plain": [
       "array([[4.],\n",
       "       [2.]])"
      ]
     },
     "execution_count": 75,
     "metadata": {},
     "output_type": "execute_result"
    }
   ],
   "source": [
    "a[:,newaxis] "
   ]
  },
  {
   "cell_type": "code",
   "execution_count": 76,
   "metadata": {},
   "outputs": [
    {
     "data": {
      "text/plain": [
       "array([3., 8.])"
      ]
     },
     "execution_count": 76,
     "metadata": {},
     "output_type": "execute_result"
    }
   ],
   "source": [
    "b"
   ]
  },
  {
   "cell_type": "code",
   "execution_count": 79,
   "metadata": {},
   "outputs": [
    {
     "data": {
      "text/plain": [
       "array([[3.],\n",
       "       [8.]])"
      ]
     },
     "execution_count": 79,
     "metadata": {},
     "output_type": "execute_result"
    }
   ],
   "source": [
    "b[:,newaxis]"
   ]
  },
  {
   "cell_type": "code",
   "execution_count": 77,
   "metadata": {},
   "outputs": [
    {
     "data": {
      "text/plain": [
       "array([4., 2.])"
      ]
     },
     "execution_count": 77,
     "metadata": {},
     "output_type": "execute_result"
    }
   ],
   "source": [
    "a"
   ]
  },
  {
   "cell_type": "code",
   "execution_count": 78,
   "metadata": {},
   "outputs": [
    {
     "data": {
      "text/plain": [
       "array([[4., 3.],\n",
       "       [2., 8.]])"
      ]
     },
     "execution_count": 78,
     "metadata": {},
     "output_type": "execute_result"
    }
   ],
   "source": [
    "np.column_stack((a[:,newaxis],b[:,newaxis]))"
   ]
  },
  {
   "cell_type": "code",
   "execution_count": 80,
   "metadata": {},
   "outputs": [
    {
     "data": {
      "text/plain": [
       "array([[4., 3.],\n",
       "       [2., 8.]])"
      ]
     },
     "execution_count": 80,
     "metadata": {},
     "output_type": "execute_result"
    }
   ],
   "source": [
    "np.hstack((a[:,newaxis],b[:,newaxis]))"
   ]
  },
  {
   "cell_type": "code",
   "execution_count": 82,
   "metadata": {},
   "outputs": [
    {
     "data": {
      "text/plain": [
       "array([[4., 2.],\n",
       "       [3., 8.]])"
      ]
     },
     "execution_count": 82,
     "metadata": {},
     "output_type": "execute_result"
    }
   ],
   "source": [
    "np.row_stack((a,b)) # vstack"
   ]
  },
  {
   "cell_type": "code",
   "execution_count": 83,
   "metadata": {},
   "outputs": [
    {
     "data": {
      "text/plain": [
       "array([1, 2, 3, 0, 4])"
      ]
     },
     "execution_count": 83,
     "metadata": {},
     "output_type": "execute_result"
    }
   ],
   "source": [
    "np.r_[1:4,0,4]"
   ]
  },
  {
   "cell_type": "code",
   "execution_count": 85,
   "metadata": {},
   "outputs": [
    {
     "name": "stdout",
     "output_type": "stream",
     "text": [
      "Help on CClass in module numpy.lib.index_tricks object:\n",
      "\n",
      "class CClass(AxisConcatenator)\n",
      " |  Translates slice objects to concatenation along the second axis.\n",
      " |  \n",
      " |  This is short-hand for ``np.r_['-1,2,0', index expression]``, which is\n",
      " |  useful because of its common occurrence. In particular, arrays will be\n",
      " |  stacked along their last axis after being upgraded to at least 2-D with\n",
      " |  1's post-pended to the shape (column vectors made out of 1-D arrays).\n",
      " |  \n",
      " |  See Also\n",
      " |  --------\n",
      " |  column_stack : Stack 1-D arrays as columns into a 2-D array.\n",
      " |  r_ : For more detailed documentation.\n",
      " |  \n",
      " |  Examples\n",
      " |  --------\n",
      " |  >>> np.c_[np.array([1,2,3]), np.array([4,5,6])]\n",
      " |  array([[1, 4],\n",
      " |         [2, 5],\n",
      " |         [3, 6]])\n",
      " |  >>> np.c_[np.array([[1,2,3]]), 0, 0, np.array([[4,5,6]])]\n",
      " |  array([[1, 2, 3, 0, 0, 4, 5, 6]])\n",
      " |  \n",
      " |  Method resolution order:\n",
      " |      CClass\n",
      " |      AxisConcatenator\n",
      " |      builtins.object\n",
      " |  \n",
      " |  Methods defined here:\n",
      " |  \n",
      " |  __init__(self)\n",
      " |      Initialize self.  See help(type(self)) for accurate signature.\n",
      " |  \n",
      " |  ----------------------------------------------------------------------\n",
      " |  Methods inherited from AxisConcatenator:\n",
      " |  \n",
      " |  __getitem__(self, key)\n",
      " |  \n",
      " |  __len__(self)\n",
      " |  \n",
      " |  ----------------------------------------------------------------------\n",
      " |  Static methods inherited from AxisConcatenator:\n",
      " |  \n",
      " |  concatenate(...)\n",
      " |      concatenate((a1, a2, ...), axis=0, out=None)\n",
      " |      \n",
      " |      Join a sequence of arrays along an existing axis.\n",
      " |      \n",
      " |      Parameters\n",
      " |      ----------\n",
      " |      a1, a2, ... : sequence of array_like\n",
      " |          The arrays must have the same shape, except in the dimension\n",
      " |          corresponding to `axis` (the first, by default).\n",
      " |      axis : int, optional\n",
      " |          The axis along which the arrays will be joined.  Default is 0.\n",
      " |      out : ndarray, optional\n",
      " |          If provided, the destination to place the result. The shape must be\n",
      " |          correct, matching that of what concatenate would have returned if no\n",
      " |          out argument were specified.\n",
      " |      \n",
      " |      Returns\n",
      " |      -------\n",
      " |      res : ndarray\n",
      " |          The concatenated array.\n",
      " |      \n",
      " |      See Also\n",
      " |      --------\n",
      " |      ma.concatenate : Concatenate function that preserves input masks.\n",
      " |      array_split : Split an array into multiple sub-arrays of equal or\n",
      " |                    near-equal size.\n",
      " |      split : Split array into a list of multiple sub-arrays of equal size.\n",
      " |      hsplit : Split array into multiple sub-arrays horizontally (column wise)\n",
      " |      vsplit : Split array into multiple sub-arrays vertically (row wise)\n",
      " |      dsplit : Split array into multiple sub-arrays along the 3rd axis (depth).\n",
      " |      stack : Stack a sequence of arrays along a new axis.\n",
      " |      hstack : Stack arrays in sequence horizontally (column wise)\n",
      " |      vstack : Stack arrays in sequence vertically (row wise)\n",
      " |      dstack : Stack arrays in sequence depth wise (along third dimension)\n",
      " |      \n",
      " |      Notes\n",
      " |      -----\n",
      " |      When one or more of the arrays to be concatenated is a MaskedArray,\n",
      " |      this function will return a MaskedArray object instead of an ndarray,\n",
      " |      but the input masks are *not* preserved. In cases where a MaskedArray\n",
      " |      is expected as input, use the ma.concatenate function from the masked\n",
      " |      array module instead.\n",
      " |      \n",
      " |      Examples\n",
      " |      --------\n",
      " |      >>> a = np.array([[1, 2], [3, 4]])\n",
      " |      >>> b = np.array([[5, 6]])\n",
      " |      >>> np.concatenate((a, b), axis=0)\n",
      " |      array([[1, 2],\n",
      " |             [3, 4],\n",
      " |             [5, 6]])\n",
      " |      >>> np.concatenate((a, b.T), axis=1)\n",
      " |      array([[1, 2, 5],\n",
      " |             [3, 4, 6]])\n",
      " |      \n",
      " |      This function will not preserve masking of MaskedArray inputs.\n",
      " |      \n",
      " |      >>> a = np.ma.arange(3)\n",
      " |      >>> a[1] = np.ma.masked\n",
      " |      >>> b = np.arange(2, 5)\n",
      " |      >>> a\n",
      " |      masked_array(data = [0 -- 2],\n",
      " |                   mask = [False  True False],\n",
      " |             fill_value = 999999)\n",
      " |      >>> b\n",
      " |      array([2, 3, 4])\n",
      " |      >>> np.concatenate([a, b])\n",
      " |      masked_array(data = [0 1 2 2 3 4],\n",
      " |                   mask = False,\n",
      " |             fill_value = 999999)\n",
      " |      >>> np.ma.concatenate([a, b])\n",
      " |      masked_array(data = [0 -- 2 2 3 4],\n",
      " |                   mask = [False  True False False False False],\n",
      " |             fill_value = 999999)\n",
      " |  \n",
      " |  makemat = class matrix(numpy.ndarray)\n",
      " |   |  matrix(data, dtype=None, copy=True)\n",
      " |   |  \n",
      " |   |  Returns a matrix from an array-like object, or from a string of data.\n",
      " |   |  A matrix is a specialized 2-D array that retains its 2-D nature\n",
      " |   |  through operations.  It has certain special operators, such as ``*``\n",
      " |   |  (matrix multiplication) and ``**`` (matrix power).\n",
      " |   |  \n",
      " |   |  Parameters\n",
      " |   |  ----------\n",
      " |   |  data : array_like or string\n",
      " |   |     If `data` is a string, it is interpreted as a matrix with commas\n",
      " |   |     or spaces separating columns, and semicolons separating rows.\n",
      " |   |  dtype : data-type\n",
      " |   |     Data-type of the output matrix.\n",
      " |   |  copy : bool\n",
      " |   |     If `data` is already an `ndarray`, then this flag determines\n",
      " |   |     whether the data is copied (the default), or whether a view is\n",
      " |   |     constructed.\n",
      " |   |  \n",
      " |   |  See Also\n",
      " |   |  --------\n",
      " |   |  array\n",
      " |   |  \n",
      " |   |  Examples\n",
      " |   |  --------\n",
      " |   |  >>> a = np.matrix('1 2; 3 4')\n",
      " |   |  >>> print(a)\n",
      " |   |  [[1 2]\n",
      " |   |   [3 4]]\n",
      " |   |  \n",
      " |   |  >>> np.matrix([[1, 2], [3, 4]])\n",
      " |   |  matrix([[1, 2],\n",
      " |   |          [3, 4]])\n",
      " |   |  \n",
      " |   |  Method resolution order:\n",
      " |   |      matrix\n",
      " |   |      numpy.ndarray\n",
      " |   |      builtins.object\n",
      " |   |  \n",
      " |   |  Methods defined here:\n",
      " |   |  \n",
      " |   |  __array_finalize__(self, obj)\n",
      " |   |      None.\n",
      " |   |  \n",
      " |   |  __getitem__(self, index)\n",
      " |   |      Return self[key].\n",
      " |   |  \n",
      " |   |  __imul__(self, other)\n",
      " |   |      Return self*=value.\n",
      " |   |  \n",
      " |   |  __ipow__(self, other)\n",
      " |   |      Return self**=value.\n",
      " |   |  \n",
      " |   |  __mul__(self, other)\n",
      " |   |      Return self*value.\n",
      " |   |  \n",
      " |   |  __pow__(self, other)\n",
      " |   |      Return pow(self, value, mod).\n",
      " |   |  \n",
      " |   |  __rmul__(self, other)\n",
      " |   |      Return value*self.\n",
      " |   |  \n",
      " |   |  __rpow__(self, other)\n",
      " |   |      Return pow(value, self, mod).\n",
      " |   |  \n",
      " |   |  all(self, axis=None, out=None)\n",
      " |   |      Test whether all matrix elements along a given axis evaluate to True.\n",
      " |   |      \n",
      " |   |      Parameters\n",
      " |   |      ----------\n",
      " |   |      See `numpy.all` for complete descriptions\n",
      " |   |      \n",
      " |   |      See Also\n",
      " |   |      --------\n",
      " |   |      numpy.all\n",
      " |   |      \n",
      " |   |      Notes\n",
      " |   |      -----\n",
      " |   |      This is the same as `ndarray.all`, but it returns a `matrix` object.\n",
      " |   |      \n",
      " |   |      Examples\n",
      " |   |      --------\n",
      " |   |      >>> x = np.matrix(np.arange(12).reshape((3,4))); x\n",
      " |   |      matrix([[ 0,  1,  2,  3],\n",
      " |   |              [ 4,  5,  6,  7],\n",
      " |   |              [ 8,  9, 10, 11]])\n",
      " |   |      >>> y = x[0]; y\n",
      " |   |      matrix([[0, 1, 2, 3]])\n",
      " |   |      >>> (x == y)\n",
      " |   |      matrix([[ True,  True,  True,  True],\n",
      " |   |              [False, False, False, False],\n",
      " |   |              [False, False, False, False]])\n",
      " |   |      >>> (x == y).all()\n",
      " |   |      False\n",
      " |   |      >>> (x == y).all(0)\n",
      " |   |      matrix([[False, False, False, False]])\n",
      " |   |      >>> (x == y).all(1)\n",
      " |   |      matrix([[ True],\n",
      " |   |              [False],\n",
      " |   |              [False]])\n",
      " |   |  \n",
      " |   |  any(self, axis=None, out=None)\n",
      " |   |      Test whether any array element along a given axis evaluates to True.\n",
      " |   |      \n",
      " |   |      Refer to `numpy.any` for full documentation.\n",
      " |   |      \n",
      " |   |      Parameters\n",
      " |   |      ----------\n",
      " |   |      axis : int, optional\n",
      " |   |          Axis along which logical OR is performed\n",
      " |   |      out : ndarray, optional\n",
      " |   |          Output to existing array instead of creating new one, must have\n",
      " |   |          same shape as expected output\n",
      " |   |      \n",
      " |   |      Returns\n",
      " |   |      -------\n",
      " |   |          any : bool, ndarray\n",
      " |   |              Returns a single bool if `axis` is ``None``; otherwise,\n",
      " |   |              returns `ndarray`\n",
      " |   |  \n",
      " |   |  argmax(self, axis=None, out=None)\n",
      " |   |      Indexes of the maximum values along an axis.\n",
      " |   |      \n",
      " |   |      Return the indexes of the first occurrences of the maximum values\n",
      " |   |      along the specified axis.  If axis is None, the index is for the\n",
      " |   |      flattened matrix.\n",
      " |   |      \n",
      " |   |      Parameters\n",
      " |   |      ----------\n",
      " |   |      See `numpy.argmax` for complete descriptions\n",
      " |   |      \n",
      " |   |      See Also\n",
      " |   |      --------\n",
      " |   |      numpy.argmax\n",
      " |   |      \n",
      " |   |      Notes\n",
      " |   |      -----\n",
      " |   |      This is the same as `ndarray.argmax`, but returns a `matrix` object\n",
      " |   |      where `ndarray.argmax` would return an `ndarray`.\n",
      " |   |      \n",
      " |   |      Examples\n",
      " |   |      --------\n",
      " |   |      >>> x = np.matrix(np.arange(12).reshape((3,4))); x\n",
      " |   |      matrix([[ 0,  1,  2,  3],\n",
      " |   |              [ 4,  5,  6,  7],\n",
      " |   |              [ 8,  9, 10, 11]])\n",
      " |   |      >>> x.argmax()\n",
      " |   |      11\n",
      " |   |      >>> x.argmax(0)\n",
      " |   |      matrix([[2, 2, 2, 2]])\n",
      " |   |      >>> x.argmax(1)\n",
      " |   |      matrix([[3],\n",
      " |   |              [3],\n",
      " |   |              [3]])\n",
      " |   |  \n",
      " |   |  argmin(self, axis=None, out=None)\n",
      " |   |      Indexes of the minimum values along an axis.\n",
      " |   |      \n",
      " |   |      Return the indexes of the first occurrences of the minimum values\n",
      " |   |      along the specified axis.  If axis is None, the index is for the\n",
      " |   |      flattened matrix.\n",
      " |   |      \n",
      " |   |      Parameters\n",
      " |   |      ----------\n",
      " |   |      See `numpy.argmin` for complete descriptions.\n",
      " |   |      \n",
      " |   |      See Also\n",
      " |   |      --------\n",
      " |   |      numpy.argmin\n",
      " |   |      \n",
      " |   |      Notes\n",
      " |   |      -----\n",
      " |   |      This is the same as `ndarray.argmin`, but returns a `matrix` object\n",
      " |   |      where `ndarray.argmin` would return an `ndarray`.\n",
      " |   |      \n",
      " |   |      Examples\n",
      " |   |      --------\n",
      " |   |      >>> x = -np.matrix(np.arange(12).reshape((3,4))); x\n",
      " |   |      matrix([[  0,  -1,  -2,  -3],\n",
      " |   |              [ -4,  -5,  -6,  -7],\n",
      " |   |              [ -8,  -9, -10, -11]])\n",
      " |   |      >>> x.argmin()\n",
      " |   |      11\n",
      " |   |      >>> x.argmin(0)\n",
      " |   |      matrix([[2, 2, 2, 2]])\n",
      " |   |      >>> x.argmin(1)\n",
      " |   |      matrix([[3],\n",
      " |   |              [3],\n",
      " |   |              [3]])\n",
      " |   |  \n",
      " |   |  flatten(self, order='C')\n",
      " |   |      Return a flattened copy of the matrix.\n",
      " |   |      \n",
      " |   |      All `N` elements of the matrix are placed into a single row.\n",
      " |   |      \n",
      " |   |      Parameters\n",
      " |   |      ----------\n",
      " |   |      order : {'C', 'F', 'A', 'K'}, optional\n",
      " |   |          'C' means to flatten in row-major (C-style) order. 'F' means to\n",
      " |   |          flatten in column-major (Fortran-style) order. 'A' means to\n",
      " |   |          flatten in column-major order if `m` is Fortran *contiguous* in\n",
      " |   |          memory, row-major order otherwise. 'K' means to flatten `m` in\n",
      " |   |          the order the elements occur in memory. The default is 'C'.\n",
      " |   |      \n",
      " |   |      Returns\n",
      " |   |      -------\n",
      " |   |      y : matrix\n",
      " |   |          A copy of the matrix, flattened to a `(1, N)` matrix where `N`\n",
      " |   |          is the number of elements in the original matrix.\n",
      " |   |      \n",
      " |   |      See Also\n",
      " |   |      --------\n",
      " |   |      ravel : Return a flattened array.\n",
      " |   |      flat : A 1-D flat iterator over the matrix.\n",
      " |   |      \n",
      " |   |      Examples\n",
      " |   |      --------\n",
      " |   |      >>> m = np.matrix([[1,2], [3,4]])\n",
      " |   |      >>> m.flatten()\n",
      " |   |      matrix([[1, 2, 3, 4]])\n",
      " |   |      >>> m.flatten('F')\n",
      " |   |      matrix([[1, 3, 2, 4]])\n",
      " |   |  \n",
      " |   |  getA(self)\n",
      " |   |      Return `self` as an `ndarray` object.\n",
      " |   |      \n",
      " |   |      Equivalent to ``np.asarray(self)``.\n",
      " |   |      \n",
      " |   |      Parameters\n",
      " |   |      ----------\n",
      " |   |      None\n",
      " |   |      \n",
      " |   |      Returns\n",
      " |   |      -------\n",
      " |   |      ret : ndarray\n",
      " |   |          `self` as an `ndarray`\n",
      " |   |      \n",
      " |   |      Examples\n",
      " |   |      --------\n",
      " |   |      >>> x = np.matrix(np.arange(12).reshape((3,4))); x\n",
      " |   |      matrix([[ 0,  1,  2,  3],\n",
      " |   |              [ 4,  5,  6,  7],\n",
      " |   |              [ 8,  9, 10, 11]])\n",
      " |   |      >>> x.getA()\n",
      " |   |      array([[ 0,  1,  2,  3],\n",
      " |   |             [ 4,  5,  6,  7],\n",
      " |   |             [ 8,  9, 10, 11]])\n",
      " |   |  \n",
      " |   |  getA1(self)\n",
      " |   |      Return `self` as a flattened `ndarray`.\n",
      " |   |      \n",
      " |   |      Equivalent to ``np.asarray(x).ravel()``\n",
      " |   |      \n",
      " |   |      Parameters\n",
      " |   |      ----------\n",
      " |   |      None\n",
      " |   |      \n",
      " |   |      Returns\n",
      " |   |      -------\n",
      " |   |      ret : ndarray\n",
      " |   |          `self`, 1-D, as an `ndarray`\n",
      " |   |      \n",
      " |   |      Examples\n",
      " |   |      --------\n",
      " |   |      >>> x = np.matrix(np.arange(12).reshape((3,4))); x\n",
      " |   |      matrix([[ 0,  1,  2,  3],\n",
      " |   |              [ 4,  5,  6,  7],\n",
      " |   |              [ 8,  9, 10, 11]])\n",
      " |   |      >>> x.getA1()\n",
      " |   |      array([ 0,  1,  2,  3,  4,  5,  6,  7,  8,  9, 10, 11])\n",
      " |   |  \n",
      " |   |  getH(self)\n",
      " |   |      Returns the (complex) conjugate transpose of `self`.\n",
      " |   |      \n",
      " |   |      Equivalent to ``np.transpose(self)`` if `self` is real-valued.\n",
      " |   |      \n",
      " |   |      Parameters\n",
      " |   |      ----------\n",
      " |   |      None\n",
      " |   |      \n",
      " |   |      Returns\n",
      " |   |      -------\n",
      " |   |      ret : matrix object\n",
      " |   |          complex conjugate transpose of `self`\n",
      " |   |      \n",
      " |   |      Examples\n",
      " |   |      --------\n",
      " |   |      >>> x = np.matrix(np.arange(12).reshape((3,4)))\n",
      " |   |      >>> z = x - 1j*x; z\n",
      " |   |      matrix([[  0. +0.j,   1. -1.j,   2. -2.j,   3. -3.j],\n",
      " |   |              [  4. -4.j,   5. -5.j,   6. -6.j,   7. -7.j],\n",
      " |   |              [  8. -8.j,   9. -9.j,  10.-10.j,  11.-11.j]])\n",
      " |   |      >>> z.getH()\n",
      " |   |      matrix([[  0. +0.j,   4. +4.j,   8. +8.j],\n",
      " |   |              [  1. +1.j,   5. +5.j,   9. +9.j],\n",
      " |   |              [  2. +2.j,   6. +6.j,  10.+10.j],\n",
      " |   |              [  3. +3.j,   7. +7.j,  11.+11.j]])\n",
      " |   |  \n",
      " |   |  getI(self)\n",
      " |   |      Returns the (multiplicative) inverse of invertible `self`.\n",
      " |   |      \n",
      " |   |      Parameters\n",
      " |   |      ----------\n",
      " |   |      None\n",
      " |   |      \n",
      " |   |      Returns\n",
      " |   |      -------\n",
      " |   |      ret : matrix object\n",
      " |   |          If `self` is non-singular, `ret` is such that ``ret * self`` ==\n",
      " |   |          ``self * ret`` == ``np.matrix(np.eye(self[0,:].size)`` all return\n",
      " |   |          ``True``.\n",
      " |   |      \n",
      " |   |      Raises\n",
      " |   |      ------\n",
      " |   |      numpy.linalg.LinAlgError: Singular matrix\n",
      " |   |          If `self` is singular.\n",
      " |   |      \n",
      " |   |      See Also\n",
      " |   |      --------\n",
      " |   |      linalg.inv\n",
      " |   |      \n",
      " |   |      Examples\n",
      " |   |      --------\n",
      " |   |      >>> m = np.matrix('[1, 2; 3, 4]'); m\n",
      " |   |      matrix([[1, 2],\n",
      " |   |              [3, 4]])\n",
      " |   |      >>> m.getI()\n",
      " |   |      matrix([[-2. ,  1. ],\n",
      " |   |              [ 1.5, -0.5]])\n",
      " |   |      >>> m.getI() * m\n",
      " |   |      matrix([[ 1.,  0.],\n",
      " |   |              [ 0.,  1.]])\n",
      " |   |  \n",
      " |   |  getT(self)\n",
      " |   |      Returns the transpose of the matrix.\n",
      " |   |      \n",
      " |   |      Does *not* conjugate!  For the complex conjugate transpose, use ``.H``.\n",
      " |   |      \n",
      " |   |      Parameters\n",
      " |   |      ----------\n",
      " |   |      None\n",
      " |   |      \n",
      " |   |      Returns\n",
      " |   |      -------\n",
      " |   |      ret : matrix object\n",
      " |   |          The (non-conjugated) transpose of the matrix.\n",
      " |   |      \n",
      " |   |      See Also\n",
      " |   |      --------\n",
      " |   |      transpose, getH\n",
      " |   |      \n",
      " |   |      Examples\n",
      " |   |      --------\n",
      " |   |      >>> m = np.matrix('[1, 2; 3, 4]')\n",
      " |   |      >>> m\n",
      " |   |      matrix([[1, 2],\n",
      " |   |              [3, 4]])\n",
      " |   |      >>> m.getT()\n",
      " |   |      matrix([[1, 3],\n",
      " |   |              [2, 4]])\n",
      " |   |  \n",
      " |   |  max(self, axis=None, out=None)\n",
      " |   |      Return the maximum value along an axis.\n",
      " |   |      \n",
      " |   |      Parameters\n",
      " |   |      ----------\n",
      " |   |      See `amax` for complete descriptions\n",
      " |   |      \n",
      " |   |      See Also\n",
      " |   |      --------\n",
      " |   |      amax, ndarray.max\n",
      " |   |      \n",
      " |   |      Notes\n",
      " |   |      -----\n",
      " |   |      This is the same as `ndarray.max`, but returns a `matrix` object\n",
      " |   |      where `ndarray.max` would return an ndarray.\n",
      " |   |      \n",
      " |   |      Examples\n",
      " |   |      --------\n",
      " |   |      >>> x = np.matrix(np.arange(12).reshape((3,4))); x\n",
      " |   |      matrix([[ 0,  1,  2,  3],\n",
      " |   |              [ 4,  5,  6,  7],\n",
      " |   |              [ 8,  9, 10, 11]])\n",
      " |   |      >>> x.max()\n",
      " |   |      11\n",
      " |   |      >>> x.max(0)\n",
      " |   |      matrix([[ 8,  9, 10, 11]])\n",
      " |   |      >>> x.max(1)\n",
      " |   |      matrix([[ 3],\n",
      " |   |              [ 7],\n",
      " |   |              [11]])\n",
      " |   |  \n",
      " |   |  mean(self, axis=None, dtype=None, out=None)\n",
      " |   |      Returns the average of the matrix elements along the given axis.\n",
      " |   |      \n",
      " |   |      Refer to `numpy.mean` for full documentation.\n",
      " |   |      \n",
      " |   |      See Also\n",
      " |   |      --------\n",
      " |   |      numpy.mean\n",
      " |   |      \n",
      " |   |      Notes\n",
      " |   |      -----\n",
      " |   |      Same as `ndarray.mean` except that, where that returns an `ndarray`,\n",
      " |   |      this returns a `matrix` object.\n",
      " |   |      \n",
      " |   |      Examples\n",
      " |   |      --------\n",
      " |   |      >>> x = np.matrix(np.arange(12).reshape((3, 4)))\n",
      " |   |      >>> x\n",
      " |   |      matrix([[ 0,  1,  2,  3],\n",
      " |   |              [ 4,  5,  6,  7],\n",
      " |   |              [ 8,  9, 10, 11]])\n",
      " |   |      >>> x.mean()\n",
      " |   |      5.5\n",
      " |   |      >>> x.mean(0)\n",
      " |   |      matrix([[ 4.,  5.,  6.,  7.]])\n",
      " |   |      >>> x.mean(1)\n",
      " |   |      matrix([[ 1.5],\n",
      " |   |              [ 5.5],\n",
      " |   |              [ 9.5]])\n",
      " |   |  \n",
      " |   |  min(self, axis=None, out=None)\n",
      " |   |      Return the minimum value along an axis.\n",
      " |   |      \n",
      " |   |      Parameters\n",
      " |   |      ----------\n",
      " |   |      See `amin` for complete descriptions.\n",
      " |   |      \n",
      " |   |      See Also\n",
      " |   |      --------\n",
      " |   |      amin, ndarray.min\n",
      " |   |      \n",
      " |   |      Notes\n",
      " |   |      -----\n",
      " |   |      This is the same as `ndarray.min`, but returns a `matrix` object\n",
      " |   |      where `ndarray.min` would return an ndarray.\n",
      " |   |      \n",
      " |   |      Examples\n",
      " |   |      --------\n",
      " |   |      >>> x = -np.matrix(np.arange(12).reshape((3,4))); x\n",
      " |   |      matrix([[  0,  -1,  -2,  -3],\n",
      " |   |              [ -4,  -5,  -6,  -7],\n",
      " |   |              [ -8,  -9, -10, -11]])\n",
      " |   |      >>> x.min()\n",
      " |   |      -11\n",
      " |   |      >>> x.min(0)\n",
      " |   |      matrix([[ -8,  -9, -10, -11]])\n",
      " |   |      >>> x.min(1)\n",
      " |   |      matrix([[ -3],\n",
      " |   |              [ -7],\n",
      " |   |              [-11]])\n",
      " |   |  \n",
      " |   |  prod(self, axis=None, dtype=None, out=None)\n",
      " |   |      Return the product of the array elements over the given axis.\n",
      " |   |      \n",
      " |   |      Refer to `prod` for full documentation.\n",
      " |   |      \n",
      " |   |      See Also\n",
      " |   |      --------\n",
      " |   |      prod, ndarray.prod\n",
      " |   |      \n",
      " |   |      Notes\n",
      " |   |      -----\n",
      " |   |      Same as `ndarray.prod`, except, where that returns an `ndarray`, this\n",
      " |   |      returns a `matrix` object instead.\n",
      " |   |      \n",
      " |   |      Examples\n",
      " |   |      --------\n",
      " |   |      >>> x = np.matrix(np.arange(12).reshape((3,4))); x\n",
      " |   |      matrix([[ 0,  1,  2,  3],\n",
      " |   |              [ 4,  5,  6,  7],\n",
      " |   |              [ 8,  9, 10, 11]])\n",
      " |   |      >>> x.prod()\n",
      " |   |      0\n",
      " |   |      >>> x.prod(0)\n",
      " |   |      matrix([[  0,  45, 120, 231]])\n",
      " |   |      >>> x.prod(1)\n",
      " |   |      matrix([[   0],\n",
      " |   |              [ 840],\n",
      " |   |              [7920]])\n",
      " |   |  \n",
      " |   |  ptp(self, axis=None, out=None)\n",
      " |   |      Peak-to-peak (maximum - minimum) value along the given axis.\n",
      " |   |      \n",
      " |   |      Refer to `numpy.ptp` for full documentation.\n",
      " |   |      \n",
      " |   |      See Also\n",
      " |   |      --------\n",
      " |   |      numpy.ptp\n",
      " |   |      \n",
      " |   |      Notes\n",
      " |   |      -----\n",
      " |   |      Same as `ndarray.ptp`, except, where that would return an `ndarray` object,\n",
      " |   |      this returns a `matrix` object.\n",
      " |   |      \n",
      " |   |      Examples\n",
      " |   |      --------\n",
      " |   |      >>> x = np.matrix(np.arange(12).reshape((3,4))); x\n",
      " |   |      matrix([[ 0,  1,  2,  3],\n",
      " |   |              [ 4,  5,  6,  7],\n",
      " |   |              [ 8,  9, 10, 11]])\n",
      " |   |      >>> x.ptp()\n",
      " |   |      11\n",
      " |   |      >>> x.ptp(0)\n",
      " |   |      matrix([[8, 8, 8, 8]])\n",
      " |   |      >>> x.ptp(1)\n",
      " |   |      matrix([[3],\n",
      " |   |              [3],\n",
      " |   |              [3]])\n",
      " |   |  \n",
      " |   |  ravel(self, order='C')\n",
      " |   |      Return a flattened matrix.\n",
      " |   |      \n",
      " |   |      Refer to `numpy.ravel` for more documentation.\n",
      " |   |      \n",
      " |   |      Parameters\n",
      " |   |      ----------\n",
      " |   |      order : {'C', 'F', 'A', 'K'}, optional\n",
      " |   |          The elements of `m` are read using this index order. 'C' means to\n",
      " |   |          index the elements in C-like order, with the last axis index\n",
      " |   |          changing fastest, back to the first axis index changing slowest.\n",
      " |   |          'F' means to index the elements in Fortran-like index order, with\n",
      " |   |          the first index changing fastest, and the last index changing\n",
      " |   |          slowest. Note that the 'C' and 'F' options take no account of the\n",
      " |   |          memory layout of the underlying array, and only refer to the order\n",
      " |   |          of axis indexing.  'A' means to read the elements in Fortran-like\n",
      " |   |          index order if `m` is Fortran *contiguous* in memory, C-like order\n",
      " |   |          otherwise.  'K' means to read the elements in the order they occur\n",
      " |   |          in memory, except for reversing the data when strides are negative.\n",
      " |   |          By default, 'C' index order is used.\n",
      " |   |      \n",
      " |   |      Returns\n",
      " |   |      -------\n",
      " |   |      ret : matrix\n",
      " |   |          Return the matrix flattened to shape `(1, N)` where `N`\n",
      " |   |          is the number of elements in the original matrix.\n",
      " |   |          A copy is made only if necessary.\n",
      " |   |      \n",
      " |   |      See Also\n",
      " |   |      --------\n",
      " |   |      matrix.flatten : returns a similar output matrix but always a copy\n",
      " |   |      matrix.flat : a flat iterator on the array.\n",
      " |   |      numpy.ravel : related function which returns an ndarray\n",
      " |   |  \n",
      " |   |  squeeze(self, axis=None)\n",
      " |   |      Return a possibly reshaped matrix.\n",
      " |   |      \n",
      " |   |      Refer to `numpy.squeeze` for more documentation.\n",
      " |   |      \n",
      " |   |      Parameters\n",
      " |   |      ----------\n",
      " |   |      axis : None or int or tuple of ints, optional\n",
      " |   |          Selects a subset of the single-dimensional entries in the shape.\n",
      " |   |          If an axis is selected with shape entry greater than one,\n",
      " |   |          an error is raised.\n",
      " |   |      \n",
      " |   |      Returns\n",
      " |   |      -------\n",
      " |   |      squeezed : matrix\n",
      " |   |          The matrix, but as a (1, N) matrix if it had shape (N, 1).\n",
      " |   |      \n",
      " |   |      See Also\n",
      " |   |      --------\n",
      " |   |      numpy.squeeze : related function\n",
      " |   |      \n",
      " |   |      Notes\n",
      " |   |      -----\n",
      " |   |      If `m` has a single column then that column is returned\n",
      " |   |      as the single row of a matrix.  Otherwise `m` is returned.\n",
      " |   |      The returned matrix is always either `m` itself or a view into `m`.\n",
      " |   |      Supplying an axis keyword argument will not affect the returned matrix\n",
      " |   |      but it may cause an error to be raised.\n",
      " |   |      \n",
      " |   |      Examples\n",
      " |   |      --------\n",
      " |   |      >>> c = np.matrix([[1], [2]])\n",
      " |   |      >>> c\n",
      " |   |      matrix([[1],\n",
      " |   |              [2]])\n",
      " |   |      >>> c.squeeze()\n",
      " |   |      matrix([[1, 2]])\n",
      " |   |      >>> r = c.T\n",
      " |   |      >>> r\n",
      " |   |      matrix([[1, 2]])\n",
      " |   |      >>> r.squeeze()\n",
      " |   |      matrix([[1, 2]])\n",
      " |   |      >>> m = np.matrix([[1, 2], [3, 4]])\n",
      " |   |      >>> m.squeeze()\n",
      " |   |      matrix([[1, 2],\n",
      " |   |              [3, 4]])\n",
      " |   |  \n",
      " |   |  std(self, axis=None, dtype=None, out=None, ddof=0)\n",
      " |   |      Return the standard deviation of the array elements along the given axis.\n",
      " |   |      \n",
      " |   |      Refer to `numpy.std` for full documentation.\n",
      " |   |      \n",
      " |   |      See Also\n",
      " |   |      --------\n",
      " |   |      numpy.std\n",
      " |   |      \n",
      " |   |      Notes\n",
      " |   |      -----\n",
      " |   |      This is the same as `ndarray.std`, except that where an `ndarray` would\n",
      " |   |      be returned, a `matrix` object is returned instead.\n",
      " |   |      \n",
      " |   |      Examples\n",
      " |   |      --------\n",
      " |   |      >>> x = np.matrix(np.arange(12).reshape((3, 4)))\n",
      " |   |      >>> x\n",
      " |   |      matrix([[ 0,  1,  2,  3],\n",
      " |   |              [ 4,  5,  6,  7],\n",
      " |   |              [ 8,  9, 10, 11]])\n",
      " |   |      >>> x.std()\n",
      " |   |      3.4520525295346629\n",
      " |   |      >>> x.std(0)\n",
      " |   |      matrix([[ 3.26598632,  3.26598632,  3.26598632,  3.26598632]])\n",
      " |   |      >>> x.std(1)\n",
      " |   |      matrix([[ 1.11803399],\n",
      " |   |              [ 1.11803399],\n",
      " |   |              [ 1.11803399]])\n",
      " |   |  \n",
      " |   |  sum(self, axis=None, dtype=None, out=None)\n",
      " |   |      Returns the sum of the matrix elements, along the given axis.\n",
      " |   |      \n",
      " |   |      Refer to `numpy.sum` for full documentation.\n",
      " |   |      \n",
      " |   |      See Also\n",
      " |   |      --------\n",
      " |   |      numpy.sum\n",
      " |   |      \n",
      " |   |      Notes\n",
      " |   |      -----\n",
      " |   |      This is the same as `ndarray.sum`, except that where an `ndarray` would\n",
      " |   |      be returned, a `matrix` object is returned instead.\n",
      " |   |      \n",
      " |   |      Examples\n",
      " |   |      --------\n",
      " |   |      >>> x = np.matrix([[1, 2], [4, 3]])\n",
      " |   |      >>> x.sum()\n",
      " |   |      10\n",
      " |   |      >>> x.sum(axis=1)\n",
      " |   |      matrix([[3],\n",
      " |   |              [7]])\n",
      " |   |      >>> x.sum(axis=1, dtype='float')\n",
      " |   |      matrix([[ 3.],\n",
      " |   |              [ 7.]])\n",
      " |   |      >>> out = np.zeros((1, 2), dtype='float')\n",
      " |   |      >>> x.sum(axis=1, dtype='float', out=out)\n",
      " |   |      matrix([[ 3.],\n",
      " |   |              [ 7.]])\n",
      " |   |  \n",
      " |   |  tolist(self)\n",
      " |   |      Return the matrix as a (possibly nested) list.\n",
      " |   |      \n",
      " |   |      See `ndarray.tolist` for full documentation.\n",
      " |   |      \n",
      " |   |      See Also\n",
      " |   |      --------\n",
      " |   |      ndarray.tolist\n",
      " |   |      \n",
      " |   |      Examples\n",
      " |   |      --------\n",
      " |   |      >>> x = np.matrix(np.arange(12).reshape((3,4))); x\n",
      " |   |      matrix([[ 0,  1,  2,  3],\n",
      " |   |              [ 4,  5,  6,  7],\n",
      " |   |              [ 8,  9, 10, 11]])\n",
      " |   |      >>> x.tolist()\n",
      " |   |      [[0, 1, 2, 3], [4, 5, 6, 7], [8, 9, 10, 11]]\n",
      " |   |  \n",
      " |   |  var(self, axis=None, dtype=None, out=None, ddof=0)\n",
      " |   |      Returns the variance of the matrix elements, along the given axis.\n",
      " |   |      \n",
      " |   |      Refer to `numpy.var` for full documentation.\n",
      " |   |      \n",
      " |   |      See Also\n",
      " |   |      --------\n",
      " |   |      numpy.var\n",
      " |   |      \n",
      " |   |      Notes\n",
      " |   |      -----\n",
      " |   |      This is the same as `ndarray.var`, except that where an `ndarray` would\n",
      " |   |      be returned, a `matrix` object is returned instead.\n",
      " |   |      \n",
      " |   |      Examples\n",
      " |   |      --------\n",
      " |   |      >>> x = np.matrix(np.arange(12).reshape((3, 4)))\n",
      " |   |      >>> x\n",
      " |   |      matrix([[ 0,  1,  2,  3],\n",
      " |   |              [ 4,  5,  6,  7],\n",
      " |   |              [ 8,  9, 10, 11]])\n",
      " |   |      >>> x.var()\n",
      " |   |      11.916666666666666\n",
      " |   |      >>> x.var(0)\n",
      " |   |      matrix([[ 10.66666667,  10.66666667,  10.66666667,  10.66666667]])\n",
      " |   |      >>> x.var(1)\n",
      " |   |      matrix([[ 1.25],\n",
      " |   |              [ 1.25],\n",
      " |   |              [ 1.25]])\n",
      " |   |  \n",
      " |   |  ----------------------------------------------------------------------\n",
      " |   |  Static methods defined here:\n",
      " |   |  \n",
      " |   |  __new__(subtype, data, dtype=None, copy=True)\n",
      " |   |      Create and return a new object.  See help(type) for accurate signature.\n",
      " |   |  \n",
      " |   |  ----------------------------------------------------------------------\n",
      " |   |  Data descriptors defined here:\n",
      " |   |  \n",
      " |   |  A\n",
      " |   |      Return `self` as an `ndarray` object.\n",
      " |   |      \n",
      " |   |      Equivalent to ``np.asarray(self)``.\n",
      " |   |      \n",
      " |   |      Parameters\n",
      " |   |      ----------\n",
      " |   |      None\n",
      " |   |      \n",
      " |   |      Returns\n",
      " |   |      -------\n",
      " |   |      ret : ndarray\n",
      " |   |          `self` as an `ndarray`\n",
      " |   |      \n",
      " |   |      Examples\n",
      " |   |      --------\n",
      " |   |      >>> x = np.matrix(np.arange(12).reshape((3,4))); x\n",
      " |   |      matrix([[ 0,  1,  2,  3],\n",
      " |   |              [ 4,  5,  6,  7],\n",
      " |   |              [ 8,  9, 10, 11]])\n",
      " |   |      >>> x.getA()\n",
      " |   |      array([[ 0,  1,  2,  3],\n",
      " |   |             [ 4,  5,  6,  7],\n",
      " |   |             [ 8,  9, 10, 11]])\n",
      " |   |  \n",
      " |   |  A1\n",
      " |   |      Return `self` as a flattened `ndarray`.\n",
      " |   |      \n",
      " |   |      Equivalent to ``np.asarray(x).ravel()``\n",
      " |   |      \n",
      " |   |      Parameters\n",
      " |   |      ----------\n",
      " |   |      None\n",
      " |   |      \n",
      " |   |      Returns\n",
      " |   |      -------\n",
      " |   |      ret : ndarray\n",
      " |   |          `self`, 1-D, as an `ndarray`\n",
      " |   |      \n",
      " |   |      Examples\n",
      " |   |      --------\n",
      " |   |      >>> x = np.matrix(np.arange(12).reshape((3,4))); x\n",
      " |   |      matrix([[ 0,  1,  2,  3],\n",
      " |   |              [ 4,  5,  6,  7],\n",
      " |   |              [ 8,  9, 10, 11]])\n",
      " |   |      >>> x.getA1()\n",
      " |   |      array([ 0,  1,  2,  3,  4,  5,  6,  7,  8,  9, 10, 11])\n",
      " |   |  \n",
      " |   |  H\n",
      " |   |      Returns the (complex) conjugate transpose of `self`.\n",
      " |   |      \n",
      " |   |      Equivalent to ``np.transpose(self)`` if `self` is real-valued.\n",
      " |   |      \n",
      " |   |      Parameters\n",
      " |   |      ----------\n",
      " |   |      None\n",
      " |   |      \n",
      " |   |      Returns\n",
      " |   |      -------\n",
      " |   |      ret : matrix object\n",
      " |   |          complex conjugate transpose of `self`\n",
      " |   |      \n",
      " |   |      Examples\n",
      " |   |      --------\n",
      " |   |      >>> x = np.matrix(np.arange(12).reshape((3,4)))\n",
      " |   |      >>> z = x - 1j*x; z\n",
      " |   |      matrix([[  0. +0.j,   1. -1.j,   2. -2.j,   3. -3.j],\n",
      " |   |              [  4. -4.j,   5. -5.j,   6. -6.j,   7. -7.j],\n",
      " |   |              [  8. -8.j,   9. -9.j,  10.-10.j,  11.-11.j]])\n",
      " |   |      >>> z.getH()\n",
      " |   |      matrix([[  0. +0.j,   4. +4.j,   8. +8.j],\n",
      " |   |              [  1. +1.j,   5. +5.j,   9. +9.j],\n",
      " |   |              [  2. +2.j,   6. +6.j,  10.+10.j],\n",
      " |   |              [  3. +3.j,   7. +7.j,  11.+11.j]])\n",
      " |   |  \n",
      " |   |  I\n",
      " |   |      Returns the (multiplicative) inverse of invertible `self`.\n",
      " |   |      \n",
      " |   |      Parameters\n",
      " |   |      ----------\n",
      " |   |      None\n",
      " |   |      \n",
      " |   |      Returns\n",
      " |   |      -------\n",
      " |   |      ret : matrix object\n",
      " |   |          If `self` is non-singular, `ret` is such that ``ret * self`` ==\n",
      " |   |          ``self * ret`` == ``np.matrix(np.eye(self[0,:].size)`` all return\n",
      " |   |          ``True``.\n",
      " |   |      \n",
      " |   |      Raises\n",
      " |   |      ------\n",
      " |   |      numpy.linalg.LinAlgError: Singular matrix\n",
      " |   |          If `self` is singular.\n",
      " |   |      \n",
      " |   |      See Also\n",
      " |   |      --------\n",
      " |   |      linalg.inv\n",
      " |   |      \n",
      " |   |      Examples\n",
      " |   |      --------\n",
      " |   |      >>> m = np.matrix('[1, 2; 3, 4]'); m\n",
      " |   |      matrix([[1, 2],\n",
      " |   |              [3, 4]])\n",
      " |   |      >>> m.getI()\n",
      " |   |      matrix([[-2. ,  1. ],\n",
      " |   |              [ 1.5, -0.5]])\n",
      " |   |      >>> m.getI() * m\n",
      " |   |      matrix([[ 1.,  0.],\n",
      " |   |              [ 0.,  1.]])\n",
      " |   |  \n",
      " |   |  T\n",
      " |   |      Returns the transpose of the matrix.\n",
      " |   |      \n",
      " |   |      Does *not* conjugate!  For the complex conjugate transpose, use ``.H``.\n",
      " |   |      \n",
      " |   |      Parameters\n",
      " |   |      ----------\n",
      " |   |      None\n",
      " |   |      \n",
      " |   |      Returns\n",
      " |   |      -------\n",
      " |   |      ret : matrix object\n",
      " |   |          The (non-conjugated) transpose of the matrix.\n",
      " |   |      \n",
      " |   |      See Also\n",
      " |   |      --------\n",
      " |   |      transpose, getH\n",
      " |   |      \n",
      " |   |      Examples\n",
      " |   |      --------\n",
      " |   |      >>> m = np.matrix('[1, 2; 3, 4]')\n",
      " |   |      >>> m\n",
      " |   |      matrix([[1, 2],\n",
      " |   |              [3, 4]])\n",
      " |   |      >>> m.getT()\n",
      " |   |      matrix([[1, 3],\n",
      " |   |              [2, 4]])\n",
      " |   |  \n",
      " |   |  __dict__\n",
      " |   |      dictionary for instance variables (if defined)\n",
      " |   |  \n",
      " |   |  ----------------------------------------------------------------------\n",
      " |   |  Data and other attributes defined here:\n",
      " |   |  \n",
      " |   |  __array_priority__ = 10.0\n",
      " |   |  \n",
      " |   |  ----------------------------------------------------------------------\n",
      " |   |  Methods inherited from numpy.ndarray:\n",
      " |   |  \n",
      " |   |  __abs__(self, /)\n",
      " |   |      abs(self)\n",
      " |   |  \n",
      " |   |  __add__(self, value, /)\n",
      " |   |      Return self+value.\n",
      " |   |  \n",
      " |   |  __and__(self, value, /)\n",
      " |   |      Return self&value.\n",
      " |   |  \n",
      " |   |  __array__(...)\n",
      " |   |      a.__array__(|dtype) -> reference if type unchanged, copy otherwise.\n",
      " |   |      \n",
      " |   |      Returns either a new reference to self if dtype is not given or a new array\n",
      " |   |      of provided data type if dtype is different from the current dtype of the\n",
      " |   |      array.\n",
      " |   |  \n",
      " |   |  __array_prepare__(...)\n",
      " |   |      a.__array_prepare__(obj) -> Object of same type as ndarray object obj.\n",
      " |   |  \n",
      " |   |  __array_ufunc__(...)\n",
      " |   |  \n",
      " |   |  __array_wrap__(...)\n",
      " |   |      a.__array_wrap__(obj) -> Object of same type as ndarray object a.\n",
      " |   |  \n",
      " |   |  __bool__(self, /)\n",
      " |   |      self != 0\n",
      " |   |  \n",
      " |   |  __complex__(...)\n",
      " |   |  \n",
      " |   |  __contains__(self, key, /)\n",
      " |   |      Return key in self.\n",
      " |   |  \n",
      " |   |  __copy__(...)\n",
      " |   |      a.__copy__()\n",
      " |   |      \n",
      " |   |      Used if :func:`copy.copy` is called on an array. Returns a copy of the array.\n",
      " |   |      \n",
      " |   |      Equivalent to ``a.copy(order='K')``.\n",
      " |   |  \n",
      " |   |  __deepcopy__(...)\n",
      " |   |      a.__deepcopy__(memo, /) -> Deep copy of array.\n",
      " |   |      \n",
      " |   |      Used if :func:`copy.deepcopy` is called on an array.\n",
      " |   |  \n",
      " |   |  __delitem__(self, key, /)\n",
      " |   |      Delete self[key].\n",
      " |   |  \n",
      " |   |  __divmod__(self, value, /)\n",
      " |   |      Return divmod(self, value).\n",
      " |   |  \n",
      " |   |  __eq__(self, value, /)\n",
      " |   |      Return self==value.\n",
      " |   |  \n",
      " |   |  __float__(self, /)\n",
      " |   |      float(self)\n",
      " |   |  \n",
      " |   |  __floordiv__(self, value, /)\n",
      " |   |      Return self//value.\n",
      " |   |  \n",
      " |   |  __format__(...)\n",
      " |   |      default object formatter\n",
      " |   |  \n",
      " |   |  __ge__(self, value, /)\n",
      " |   |      Return self>=value.\n",
      " |   |  \n",
      " |   |  __gt__(self, value, /)\n",
      " |   |      Return self>value.\n",
      " |   |  \n",
      " |   |  __iadd__(self, value, /)\n",
      " |   |      Return self+=value.\n",
      " |   |  \n",
      " |   |  __iand__(self, value, /)\n",
      " |   |      Return self&=value.\n",
      " |   |  \n",
      " |   |  __ifloordiv__(self, value, /)\n",
      " |   |      Return self//=value.\n",
      " |   |  \n",
      " |   |  __ilshift__(self, value, /)\n",
      " |   |      Return self<<=value.\n",
      " |   |  \n",
      " |   |  __imatmul__(self, value, /)\n",
      " |   |      Return self@=value.\n",
      " |   |  \n",
      " |   |  __imod__(self, value, /)\n",
      " |   |      Return self%=value.\n",
      " |   |  \n",
      " |   |  __index__(self, /)\n",
      " |   |      Return self converted to an integer, if self is suitable for use as an index into a list.\n",
      " |   |  \n",
      " |   |  __int__(self, /)\n",
      " |   |      int(self)\n",
      " |   |  \n",
      " |   |  __invert__(self, /)\n",
      " |   |      ~self\n",
      " |   |  \n",
      " |   |  __ior__(self, value, /)\n",
      " |   |      Return self|=value.\n",
      " |   |  \n",
      " |   |  __irshift__(self, value, /)\n",
      " |   |      Return self>>=value.\n",
      " |   |  \n",
      " |   |  __isub__(self, value, /)\n",
      " |   |      Return self-=value.\n",
      " |   |  \n",
      " |   |  __iter__(self, /)\n",
      " |   |      Implement iter(self).\n",
      " |   |  \n",
      " |   |  __itruediv__(self, value, /)\n",
      " |   |      Return self/=value.\n",
      " |   |  \n",
      " |   |  __ixor__(self, value, /)\n",
      " |   |      Return self^=value.\n",
      " |   |  \n",
      " |   |  __le__(self, value, /)\n",
      " |   |      Return self<=value.\n",
      " |   |  \n",
      " |   |  __len__(self, /)\n",
      " |   |      Return len(self).\n",
      " |   |  \n",
      " |   |  __lshift__(self, value, /)\n",
      " |   |      Return self<<value.\n",
      " |   |  \n",
      " |   |  __lt__(self, value, /)\n",
      " |   |      Return self<value.\n",
      " |   |  \n",
      " |   |  __matmul__(self, value, /)\n",
      " |   |      Return self@value.\n",
      " |   |  \n",
      " |   |  __mod__(self, value, /)\n",
      " |   |      Return self%value.\n",
      " |   |  \n",
      " |   |  __ne__(self, value, /)\n",
      " |   |      Return self!=value.\n",
      " |   |  \n",
      " |   |  __neg__(self, /)\n",
      " |   |      -self\n",
      " |   |  \n",
      " |   |  __or__(self, value, /)\n",
      " |   |      Return self|value.\n",
      " |   |  \n",
      " |   |  __pos__(self, /)\n",
      " |   |      +self\n",
      " |   |  \n",
      " |   |  __radd__(self, value, /)\n",
      " |   |      Return value+self.\n",
      " |   |  \n",
      " |   |  __rand__(self, value, /)\n",
      " |   |      Return value&self.\n",
      " |   |  \n",
      " |   |  __rdivmod__(self, value, /)\n",
      " |   |      Return divmod(value, self).\n",
      " |   |  \n",
      " |   |  __reduce__(...)\n",
      " |   |      a.__reduce__()\n",
      " |   |      \n",
      " |   |      For pickling.\n",
      " |   |  \n",
      " |   |  __repr__(self, /)\n",
      " |   |      Return repr(self).\n",
      " |   |  \n",
      " |   |  __rfloordiv__(self, value, /)\n",
      " |   |      Return value//self.\n",
      " |   |  \n",
      " |   |  __rlshift__(self, value, /)\n",
      " |   |      Return value<<self.\n",
      " |   |  \n",
      " |   |  __rmatmul__(self, value, /)\n",
      " |   |      Return value@self.\n",
      " |   |  \n",
      " |   |  __rmod__(self, value, /)\n",
      " |   |      Return value%self.\n",
      " |   |  \n",
      " |   |  __ror__(self, value, /)\n",
      " |   |      Return value|self.\n",
      " |   |  \n",
      " |   |  __rrshift__(self, value, /)\n",
      " |   |      Return value>>self.\n",
      " |   |  \n",
      " |   |  __rshift__(self, value, /)\n",
      " |   |      Return self>>value.\n",
      " |   |  \n",
      " |   |  __rsub__(self, value, /)\n",
      " |   |      Return value-self.\n",
      " |   |  \n",
      " |   |  __rtruediv__(self, value, /)\n",
      " |   |      Return value/self.\n",
      " |   |  \n",
      " |   |  __rxor__(self, value, /)\n",
      " |   |      Return value^self.\n",
      " |   |  \n",
      " |   |  __setitem__(self, key, value, /)\n",
      " |   |      Set self[key] to value.\n",
      " |   |  \n",
      " |   |  __setstate__(...)\n",
      " |   |      a.__setstate__(state, /)\n",
      " |   |      \n",
      " |   |      For unpickling.\n",
      " |   |      \n",
      " |   |      The `state` argument must be a sequence that contains the following\n",
      " |   |      elements:\n",
      " |   |      \n",
      " |   |      Parameters\n",
      " |   |      ----------\n",
      " |   |      version : int\n",
      " |   |          optional pickle version. If omitted defaults to 0.\n",
      " |   |      shape : tuple\n",
      " |   |      dtype : data-type\n",
      " |   |      isFortran : bool\n",
      " |   |      rawdata : string or list\n",
      " |   |          a binary string with the data (or a list if 'a' is an object array)\n",
      " |   |  \n",
      " |   |  __sizeof__(...)\n",
      " |   |      __sizeof__() -> int\n",
      " |   |      size of object in memory, in bytes\n",
      " |   |  \n",
      " |   |  __str__(self, /)\n",
      " |   |      Return str(self).\n",
      " |   |  \n",
      " |   |  __sub__(self, value, /)\n",
      " |   |      Return self-value.\n",
      " |   |  \n",
      " |   |  __truediv__(self, value, /)\n",
      " |   |      Return self/value.\n",
      " |   |  \n",
      " |   |  __xor__(self, value, /)\n",
      " |   |      Return self^value.\n",
      " |   |  \n",
      " |   |  argpartition(...)\n",
      " |   |      a.argpartition(kth, axis=-1, kind='introselect', order=None)\n",
      " |   |      \n",
      " |   |      Returns the indices that would partition this array.\n",
      " |   |      \n",
      " |   |      Refer to `numpy.argpartition` for full documentation.\n",
      " |   |      \n",
      " |   |      .. versionadded:: 1.8.0\n",
      " |   |      \n",
      " |   |      See Also\n",
      " |   |      --------\n",
      " |   |      numpy.argpartition : equivalent function\n",
      " |   |  \n",
      " |   |  argsort(...)\n",
      " |   |      a.argsort(axis=-1, kind='quicksort', order=None)\n",
      " |   |      \n",
      " |   |      Returns the indices that would sort this array.\n",
      " |   |      \n",
      " |   |      Refer to `numpy.argsort` for full documentation.\n",
      " |   |      \n",
      " |   |      See Also\n",
      " |   |      --------\n",
      " |   |      numpy.argsort : equivalent function\n",
      " |   |  \n",
      " |   |  astype(...)\n",
      " |   |      a.astype(dtype, order='K', casting='unsafe', subok=True, copy=True)\n",
      " |   |      \n",
      " |   |      Copy of the array, cast to a specified type.\n",
      " |   |      \n",
      " |   |      Parameters\n",
      " |   |      ----------\n",
      " |   |      dtype : str or dtype\n",
      " |   |          Typecode or data-type to which the array is cast.\n",
      " |   |      order : {'C', 'F', 'A', 'K'}, optional\n",
      " |   |          Controls the memory layout order of the result.\n",
      " |   |          'C' means C order, 'F' means Fortran order, 'A'\n",
      " |   |          means 'F' order if all the arrays are Fortran contiguous,\n",
      " |   |          'C' order otherwise, and 'K' means as close to the\n",
      " |   |          order the array elements appear in memory as possible.\n",
      " |   |          Default is 'K'.\n",
      " |   |      casting : {'no', 'equiv', 'safe', 'same_kind', 'unsafe'}, optional\n",
      " |   |          Controls what kind of data casting may occur. Defaults to 'unsafe'\n",
      " |   |          for backwards compatibility.\n",
      " |   |      \n",
      " |   |            * 'no' means the data types should not be cast at all.\n",
      " |   |            * 'equiv' means only byte-order changes are allowed.\n",
      " |   |            * 'safe' means only casts which can preserve values are allowed.\n",
      " |   |            * 'same_kind' means only safe casts or casts within a kind,\n",
      " |   |              like float64 to float32, are allowed.\n",
      " |   |            * 'unsafe' means any data conversions may be done.\n",
      " |   |      subok : bool, optional\n",
      " |   |          If True, then sub-classes will be passed-through (default), otherwise\n",
      " |   |          the returned array will be forced to be a base-class array.\n",
      " |   |      copy : bool, optional\n",
      " |   |          By default, astype always returns a newly allocated array. If this\n",
      " |   |          is set to false, and the `dtype`, `order`, and `subok`\n",
      " |   |          requirements are satisfied, the input array is returned instead\n",
      " |   |          of a copy.\n",
      " |   |      \n",
      " |   |      Returns\n",
      " |   |      -------\n",
      " |   |      arr_t : ndarray\n",
      " |   |          Unless `copy` is False and the other conditions for returning the input\n",
      " |   |          array are satisfied (see description for `copy` input parameter), `arr_t`\n",
      " |   |          is a new array of the same shape as the input array, with dtype, order\n",
      " |   |          given by `dtype`, `order`.\n",
      " |   |      \n",
      " |   |      Notes\n",
      " |   |      -----\n",
      " |   |      Starting in NumPy 1.9, astype method now returns an error if the string\n",
      " |   |      dtype to cast to is not long enough in 'safe' casting mode to hold the max\n",
      " |   |      value of integer/float array that is being casted. Previously the casting\n",
      " |   |      was allowed even if the result was truncated.\n",
      " |   |      \n",
      " |   |      Raises\n",
      " |   |      ------\n",
      " |   |      ComplexWarning\n",
      " |   |          When casting from complex to float or int. To avoid this,\n",
      " |   |          one should use ``a.real.astype(t)``.\n",
      " |   |      \n",
      " |   |      Examples\n",
      " |   |      --------\n",
      " |   |      >>> x = np.array([1, 2, 2.5])\n",
      " |   |      >>> x\n",
      " |   |      array([ 1. ,  2. ,  2.5])\n",
      " |   |      \n",
      " |   |      >>> x.astype(int)\n",
      " |   |      array([1, 2, 2])\n",
      " |   |  \n",
      " |   |  byteswap(...)\n",
      " |   |      a.byteswap(inplace=False)\n",
      " |   |      \n",
      " |   |      Swap the bytes of the array elements\n",
      " |   |      \n",
      " |   |      Toggle between low-endian and big-endian data representation by\n",
      " |   |      returning a byteswapped array, optionally swapped in-place.\n",
      " |   |      \n",
      " |   |      Parameters\n",
      " |   |      ----------\n",
      " |   |      inplace : bool, optional\n",
      " |   |          If ``True``, swap bytes in-place, default is ``False``.\n",
      " |   |      \n",
      " |   |      Returns\n",
      " |   |      -------\n",
      " |   |      out : ndarray\n",
      " |   |          The byteswapped array. If `inplace` is ``True``, this is\n",
      " |   |          a view to self.\n",
      " |   |      \n",
      " |   |      Examples\n",
      " |   |      --------\n",
      " |   |      >>> A = np.array([1, 256, 8755], dtype=np.int16)\n",
      " |   |      >>> map(hex, A)\n",
      " |   |      ['0x1', '0x100', '0x2233']\n",
      " |   |      >>> A.byteswap(inplace=True)\n",
      " |   |      array([  256,     1, 13090], dtype=int16)\n",
      " |   |      >>> map(hex, A)\n",
      " |   |      ['0x100', '0x1', '0x3322']\n",
      " |   |      \n",
      " |   |      Arrays of strings are not swapped\n",
      " |   |      \n",
      " |   |      >>> A = np.array(['ceg', 'fac'])\n",
      " |   |      >>> A.byteswap()\n",
      " |   |      array(['ceg', 'fac'],\n",
      " |   |            dtype='|S3')\n",
      " |   |  \n",
      " |   |  choose(...)\n",
      " |   |      a.choose(choices, out=None, mode='raise')\n",
      " |   |      \n",
      " |   |      Use an index array to construct a new array from a set of choices.\n",
      " |   |      \n",
      " |   |      Refer to `numpy.choose` for full documentation.\n",
      " |   |      \n",
      " |   |      See Also\n",
      " |   |      --------\n",
      " |   |      numpy.choose : equivalent function\n",
      " |   |  \n",
      " |   |  clip(...)\n",
      " |   |      a.clip(min=None, max=None, out=None)\n",
      " |   |      \n",
      " |   |      Return an array whose values are limited to ``[min, max]``.\n",
      " |   |      One of max or min must be given.\n",
      " |   |      \n",
      " |   |      Refer to `numpy.clip` for full documentation.\n",
      " |   |      \n",
      " |   |      See Also\n",
      " |   |      --------\n",
      " |   |      numpy.clip : equivalent function\n",
      " |   |  \n",
      " |   |  compress(...)\n",
      " |   |      a.compress(condition, axis=None, out=None)\n",
      " |   |      \n",
      " |   |      Return selected slices of this array along given axis.\n",
      " |   |      \n",
      " |   |      Refer to `numpy.compress` for full documentation.\n",
      " |   |      \n",
      " |   |      See Also\n",
      " |   |      --------\n",
      " |   |      numpy.compress : equivalent function\n",
      " |   |  \n",
      " |   |  conj(...)\n",
      " |   |      a.conj()\n",
      " |   |      \n",
      " |   |      Complex-conjugate all elements.\n",
      " |   |      \n",
      " |   |      Refer to `numpy.conjugate` for full documentation.\n",
      " |   |      \n",
      " |   |      See Also\n",
      " |   |      --------\n",
      " |   |      numpy.conjugate : equivalent function\n",
      " |   |  \n",
      " |   |  conjugate(...)\n",
      " |   |      a.conjugate()\n",
      " |   |      \n",
      " |   |      Return the complex conjugate, element-wise.\n",
      " |   |      \n",
      " |   |      Refer to `numpy.conjugate` for full documentation.\n",
      " |   |      \n",
      " |   |      See Also\n",
      " |   |      --------\n",
      " |   |      numpy.conjugate : equivalent function\n",
      " |   |  \n",
      " |   |  copy(...)\n",
      " |   |      a.copy(order='C')\n",
      " |   |      \n",
      " |   |      Return a copy of the array.\n",
      " |   |      \n",
      " |   |      Parameters\n",
      " |   |      ----------\n",
      " |   |      order : {'C', 'F', 'A', 'K'}, optional\n",
      " |   |          Controls the memory layout of the copy. 'C' means C-order,\n",
      " |   |          'F' means F-order, 'A' means 'F' if `a` is Fortran contiguous,\n",
      " |   |          'C' otherwise. 'K' means match the layout of `a` as closely\n",
      " |   |          as possible. (Note that this function and :func:`numpy.copy` are very\n",
      " |   |          similar, but have different default values for their order=\n",
      " |   |          arguments.)\n",
      " |   |      \n",
      " |   |      See also\n",
      " |   |      --------\n",
      " |   |      numpy.copy\n",
      " |   |      numpy.copyto\n",
      " |   |      \n",
      " |   |      Examples\n",
      " |   |      --------\n",
      " |   |      >>> x = np.array([[1,2,3],[4,5,6]], order='F')\n",
      " |   |      \n",
      " |   |      >>> y = x.copy()\n",
      " |   |      \n",
      " |   |      >>> x.fill(0)\n",
      " |   |      \n",
      " |   |      >>> x\n",
      " |   |      array([[0, 0, 0],\n",
      " |   |             [0, 0, 0]])\n",
      " |   |      \n",
      " |   |      >>> y\n",
      " |   |      array([[1, 2, 3],\n",
      " |   |             [4, 5, 6]])\n",
      " |   |      \n",
      " |   |      >>> y.flags['C_CONTIGUOUS']\n",
      " |   |      True\n",
      " |   |  \n",
      " |   |  cumprod(...)\n",
      " |   |      a.cumprod(axis=None, dtype=None, out=None)\n",
      " |   |      \n",
      " |   |      Return the cumulative product of the elements along the given axis.\n",
      " |   |      \n",
      " |   |      Refer to `numpy.cumprod` for full documentation.\n",
      " |   |      \n",
      " |   |      See Also\n",
      " |   |      --------\n",
      " |   |      numpy.cumprod : equivalent function\n",
      " |   |  \n",
      " |   |  cumsum(...)\n",
      " |   |      a.cumsum(axis=None, dtype=None, out=None)\n",
      " |   |      \n",
      " |   |      Return the cumulative sum of the elements along the given axis.\n",
      " |   |      \n",
      " |   |      Refer to `numpy.cumsum` for full documentation.\n",
      " |   |      \n",
      " |   |      See Also\n",
      " |   |      --------\n",
      " |   |      numpy.cumsum : equivalent function\n",
      " |   |  \n",
      " |   |  diagonal(...)\n",
      " |   |      a.diagonal(offset=0, axis1=0, axis2=1)\n",
      " |   |      \n",
      " |   |      Return specified diagonals. In NumPy 1.9 the returned array is a\n",
      " |   |      read-only view instead of a copy as in previous NumPy versions.  In\n",
      " |   |      a future version the read-only restriction will be removed.\n",
      " |   |      \n",
      " |   |      Refer to :func:`numpy.diagonal` for full documentation.\n",
      " |   |      \n",
      " |   |      See Also\n",
      " |   |      --------\n",
      " |   |      numpy.diagonal : equivalent function\n",
      " |   |  \n",
      " |   |  dot(...)\n",
      " |   |      a.dot(b, out=None)\n",
      " |   |      \n",
      " |   |      Dot product of two arrays.\n",
      " |   |      \n",
      " |   |      Refer to `numpy.dot` for full documentation.\n",
      " |   |      \n",
      " |   |      See Also\n",
      " |   |      --------\n",
      " |   |      numpy.dot : equivalent function\n",
      " |   |      \n",
      " |   |      Examples\n",
      " |   |      --------\n",
      " |   |      >>> a = np.eye(2)\n",
      " |   |      >>> b = np.ones((2, 2)) * 2\n",
      " |   |      >>> a.dot(b)\n",
      " |   |      array([[ 2.,  2.],\n",
      " |   |             [ 2.,  2.]])\n",
      " |   |      \n",
      " |   |      This array method can be conveniently chained:\n",
      " |   |      \n",
      " |   |      >>> a.dot(b).dot(b)\n",
      " |   |      array([[ 8.,  8.],\n",
      " |   |             [ 8.,  8.]])\n",
      " |   |  \n",
      " |   |  dump(...)\n",
      " |   |      a.dump(file)\n",
      " |   |      \n",
      " |   |      Dump a pickle of the array to the specified file.\n",
      " |   |      The array can be read back with pickle.load or numpy.load.\n",
      " |   |      \n",
      " |   |      Parameters\n",
      " |   |      ----------\n",
      " |   |      file : str\n",
      " |   |          A string naming the dump file.\n",
      " |   |  \n",
      " |   |  dumps(...)\n",
      " |   |      a.dumps()\n",
      " |   |      \n",
      " |   |      Returns the pickle of the array as a string.\n",
      " |   |      pickle.loads or numpy.loads will convert the string back to an array.\n",
      " |   |      \n",
      " |   |      Parameters\n",
      " |   |      ----------\n",
      " |   |      None\n",
      " |   |  \n",
      " |   |  fill(...)\n",
      " |   |      a.fill(value)\n",
      " |   |      \n",
      " |   |      Fill the array with a scalar value.\n",
      " |   |      \n",
      " |   |      Parameters\n",
      " |   |      ----------\n",
      " |   |      value : scalar\n",
      " |   |          All elements of `a` will be assigned this value.\n",
      " |   |      \n",
      " |   |      Examples\n",
      " |   |      --------\n",
      " |   |      >>> a = np.array([1, 2])\n",
      " |   |      >>> a.fill(0)\n",
      " |   |      >>> a\n",
      " |   |      array([0, 0])\n",
      " |   |      >>> a = np.empty(2)\n",
      " |   |      >>> a.fill(1)\n",
      " |   |      >>> a\n",
      " |   |      array([ 1.,  1.])\n",
      " |   |  \n",
      " |   |  getfield(...)\n",
      " |   |      a.getfield(dtype, offset=0)\n",
      " |   |      \n",
      " |   |      Returns a field of the given array as a certain type.\n",
      " |   |      \n",
      " |   |      A field is a view of the array data with a given data-type. The values in\n",
      " |   |      the view are determined by the given type and the offset into the current\n",
      " |   |      array in bytes. The offset needs to be such that the view dtype fits in the\n",
      " |   |      array dtype; for example an array of dtype complex128 has 16-byte elements.\n",
      " |   |      If taking a view with a 32-bit integer (4 bytes), the offset needs to be\n",
      " |   |      between 0 and 12 bytes.\n",
      " |   |      \n",
      " |   |      Parameters\n",
      " |   |      ----------\n",
      " |   |      dtype : str or dtype\n",
      " |   |          The data type of the view. The dtype size of the view can not be larger\n",
      " |   |          than that of the array itself.\n",
      " |   |      offset : int\n",
      " |   |          Number of bytes to skip before beginning the element view.\n",
      " |   |      \n",
      " |   |      Examples\n",
      " |   |      --------\n",
      " |   |      >>> x = np.diag([1.+1.j]*2)\n",
      " |   |      >>> x[1, 1] = 2 + 4.j\n",
      " |   |      >>> x\n",
      " |   |      array([[ 1.+1.j,  0.+0.j],\n",
      " |   |             [ 0.+0.j,  2.+4.j]])\n",
      " |   |      >>> x.getfield(np.float64)\n",
      " |   |      array([[ 1.,  0.],\n",
      " |   |             [ 0.,  2.]])\n",
      " |   |      \n",
      " |   |      By choosing an offset of 8 bytes we can select the complex part of the\n",
      " |   |      array for our view:\n",
      " |   |      \n",
      " |   |      >>> x.getfield(np.float64, offset=8)\n",
      " |   |      array([[ 1.,  0.],\n",
      " |   |         [ 0.,  4.]])\n",
      " |   |  \n",
      " |   |  item(...)\n",
      " |   |      a.item(*args)\n",
      " |   |      \n",
      " |   |      Copy an element of an array to a standard Python scalar and return it.\n",
      " |   |      \n",
      " |   |      Parameters\n",
      " |   |      ----------\n",
      " |   |      \\*args : Arguments (variable number and type)\n",
      " |   |      \n",
      " |   |          * none: in this case, the method only works for arrays\n",
      " |   |            with one element (`a.size == 1`), which element is\n",
      " |   |            copied into a standard Python scalar object and returned.\n",
      " |   |      \n",
      " |   |          * int_type: this argument is interpreted as a flat index into\n",
      " |   |            the array, specifying which element to copy and return.\n",
      " |   |      \n",
      " |   |          * tuple of int_types: functions as does a single int_type argument,\n",
      " |   |            except that the argument is interpreted as an nd-index into the\n",
      " |   |            array.\n",
      " |   |      \n",
      " |   |      Returns\n",
      " |   |      -------\n",
      " |   |      z : Standard Python scalar object\n",
      " |   |          A copy of the specified element of the array as a suitable\n",
      " |   |          Python scalar\n",
      " |   |      \n",
      " |   |      Notes\n",
      " |   |      -----\n",
      " |   |      When the data type of `a` is longdouble or clongdouble, item() returns\n",
      " |   |      a scalar array object because there is no available Python scalar that\n",
      " |   |      would not lose information. Void arrays return a buffer object for item(),\n",
      " |   |      unless fields are defined, in which case a tuple is returned.\n",
      " |   |      \n",
      " |   |      `item` is very similar to a[args], except, instead of an array scalar,\n",
      " |   |      a standard Python scalar is returned. This can be useful for speeding up\n",
      " |   |      access to elements of the array and doing arithmetic on elements of the\n",
      " |   |      array using Python's optimized math.\n",
      " |   |      \n",
      " |   |      Examples\n",
      " |   |      --------\n",
      " |   |      >>> x = np.random.randint(9, size=(3, 3))\n",
      " |   |      >>> x\n",
      " |   |      array([[3, 1, 7],\n",
      " |   |             [2, 8, 3],\n",
      " |   |             [8, 5, 3]])\n",
      " |   |      >>> x.item(3)\n",
      " |   |      2\n",
      " |   |      >>> x.item(7)\n",
      " |   |      5\n",
      " |   |      >>> x.item((0, 1))\n",
      " |   |      1\n",
      " |   |      >>> x.item((2, 2))\n",
      " |   |      3\n",
      " |   |  \n",
      " |   |  itemset(...)\n",
      " |   |      a.itemset(*args)\n",
      " |   |      \n",
      " |   |      Insert scalar into an array (scalar is cast to array's dtype, if possible)\n",
      " |   |      \n",
      " |   |      There must be at least 1 argument, and define the last argument\n",
      " |   |      as *item*.  Then, ``a.itemset(*args)`` is equivalent to but faster\n",
      " |   |      than ``a[args] = item``.  The item should be a scalar value and `args`\n",
      " |   |      must select a single item in the array `a`.\n",
      " |   |      \n",
      " |   |      Parameters\n",
      " |   |      ----------\n",
      " |   |      \\*args : Arguments\n",
      " |   |          If one argument: a scalar, only used in case `a` is of size 1.\n",
      " |   |          If two arguments: the last argument is the value to be set\n",
      " |   |          and must be a scalar, the first argument specifies a single array\n",
      " |   |          element location. It is either an int or a tuple.\n",
      " |   |      \n",
      " |   |      Notes\n",
      " |   |      -----\n",
      " |   |      Compared to indexing syntax, `itemset` provides some speed increase\n",
      " |   |      for placing a scalar into a particular location in an `ndarray`,\n",
      " |   |      if you must do this.  However, generally this is discouraged:\n",
      " |   |      among other problems, it complicates the appearance of the code.\n",
      " |   |      Also, when using `itemset` (and `item`) inside a loop, be sure\n",
      " |   |      to assign the methods to a local variable to avoid the attribute\n",
      " |   |      look-up at each loop iteration.\n",
      " |   |      \n",
      " |   |      Examples\n",
      " |   |      --------\n",
      " |   |      >>> x = np.random.randint(9, size=(3, 3))\n",
      " |   |      >>> x\n",
      " |   |      array([[3, 1, 7],\n",
      " |   |             [2, 8, 3],\n",
      " |   |             [8, 5, 3]])\n",
      " |   |      >>> x.itemset(4, 0)\n",
      " |   |      >>> x.itemset((2, 2), 9)\n",
      " |   |      >>> x\n",
      " |   |      array([[3, 1, 7],\n",
      " |   |             [2, 0, 3],\n",
      " |   |             [8, 5, 9]])\n",
      " |   |  \n",
      " |   |  newbyteorder(...)\n",
      " |   |      arr.newbyteorder(new_order='S')\n",
      " |   |      \n",
      " |   |      Return the array with the same data viewed with a different byte order.\n",
      " |   |      \n",
      " |   |      Equivalent to::\n",
      " |   |      \n",
      " |   |          arr.view(arr.dtype.newbytorder(new_order))\n",
      " |   |      \n",
      " |   |      Changes are also made in all fields and sub-arrays of the array data\n",
      " |   |      type.\n",
      " |   |      \n",
      " |   |      \n",
      " |   |      \n",
      " |   |      Parameters\n",
      " |   |      ----------\n",
      " |   |      new_order : string, optional\n",
      " |   |          Byte order to force; a value from the byte order specifications\n",
      " |   |          below. `new_order` codes can be any of:\n",
      " |   |      \n",
      " |   |          * 'S' - swap dtype from current to opposite endian\n",
      " |   |          * {'<', 'L'} - little endian\n",
      " |   |          * {'>', 'B'} - big endian\n",
      " |   |          * {'=', 'N'} - native order\n",
      " |   |          * {'|', 'I'} - ignore (no change to byte order)\n",
      " |   |      \n",
      " |   |          The default value ('S') results in swapping the current\n",
      " |   |          byte order. The code does a case-insensitive check on the first\n",
      " |   |          letter of `new_order` for the alternatives above.  For example,\n",
      " |   |          any of 'B' or 'b' or 'biggish' are valid to specify big-endian.\n",
      " |   |      \n",
      " |   |      \n",
      " |   |      Returns\n",
      " |   |      -------\n",
      " |   |      new_arr : array\n",
      " |   |          New array object with the dtype reflecting given change to the\n",
      " |   |          byte order.\n",
      " |   |  \n",
      " |   |  nonzero(...)\n",
      " |   |      a.nonzero()\n",
      " |   |      \n",
      " |   |      Return the indices of the elements that are non-zero.\n",
      " |   |      \n",
      " |   |      Refer to `numpy.nonzero` for full documentation.\n",
      " |   |      \n",
      " |   |      See Also\n",
      " |   |      --------\n",
      " |   |      numpy.nonzero : equivalent function\n",
      " |   |  \n",
      " |   |  partition(...)\n",
      " |   |      a.partition(kth, axis=-1, kind='introselect', order=None)\n",
      " |   |      \n",
      " |   |      Rearranges the elements in the array in such a way that value of the\n",
      " |   |      element in kth position is in the position it would be in a sorted array.\n",
      " |   |      All elements smaller than the kth element are moved before this element and\n",
      " |   |      all equal or greater are moved behind it. The ordering of the elements in\n",
      " |   |      the two partitions is undefined.\n",
      " |   |      \n",
      " |   |      .. versionadded:: 1.8.0\n",
      " |   |      \n",
      " |   |      Parameters\n",
      " |   |      ----------\n",
      " |   |      kth : int or sequence of ints\n",
      " |   |          Element index to partition by. The kth element value will be in its\n",
      " |   |          final sorted position and all smaller elements will be moved before it\n",
      " |   |          and all equal or greater elements behind it.\n",
      " |   |          The order all elements in the partitions is undefined.\n",
      " |   |          If provided with a sequence of kth it will partition all elements\n",
      " |   |          indexed by kth of them into their sorted position at once.\n",
      " |   |      axis : int, optional\n",
      " |   |          Axis along which to sort. Default is -1, which means sort along the\n",
      " |   |          last axis.\n",
      " |   |      kind : {'introselect'}, optional\n",
      " |   |          Selection algorithm. Default is 'introselect'.\n",
      " |   |      order : str or list of str, optional\n",
      " |   |          When `a` is an array with fields defined, this argument specifies\n",
      " |   |          which fields to compare first, second, etc.  A single field can\n",
      " |   |          be specified as a string, and not all fields need be specified,\n",
      " |   |          but unspecified fields will still be used, in the order in which\n",
      " |   |          they come up in the dtype, to break ties.\n",
      " |   |      \n",
      " |   |      See Also\n",
      " |   |      --------\n",
      " |   |      numpy.partition : Return a parititioned copy of an array.\n",
      " |   |      argpartition : Indirect partition.\n",
      " |   |      sort : Full sort.\n",
      " |   |      \n",
      " |   |      Notes\n",
      " |   |      -----\n",
      " |   |      See ``np.partition`` for notes on the different algorithms.\n",
      " |   |      \n",
      " |   |      Examples\n",
      " |   |      --------\n",
      " |   |      >>> a = np.array([3, 4, 2, 1])\n",
      " |   |      >>> a.partition(3)\n",
      " |   |      >>> a\n",
      " |   |      array([2, 1, 3, 4])\n",
      " |   |      \n",
      " |   |      >>> a.partition((1, 3))\n",
      " |   |      array([1, 2, 3, 4])\n",
      " |   |  \n",
      " |   |  put(...)\n",
      " |   |      a.put(indices, values, mode='raise')\n",
      " |   |      \n",
      " |   |      Set ``a.flat[n] = values[n]`` for all `n` in indices.\n",
      " |   |      \n",
      " |   |      Refer to `numpy.put` for full documentation.\n",
      " |   |      \n",
      " |   |      See Also\n",
      " |   |      --------\n",
      " |   |      numpy.put : equivalent function\n",
      " |   |  \n",
      " |   |  repeat(...)\n",
      " |   |      a.repeat(repeats, axis=None)\n",
      " |   |      \n",
      " |   |      Repeat elements of an array.\n",
      " |   |      \n",
      " |   |      Refer to `numpy.repeat` for full documentation.\n",
      " |   |      \n",
      " |   |      See Also\n",
      " |   |      --------\n",
      " |   |      numpy.repeat : equivalent function\n",
      " |   |  \n",
      " |   |  reshape(...)\n",
      " |   |      a.reshape(shape, order='C')\n",
      " |   |      \n",
      " |   |      Returns an array containing the same data with a new shape.\n",
      " |   |      \n",
      " |   |      Refer to `numpy.reshape` for full documentation.\n",
      " |   |      \n",
      " |   |      See Also\n",
      " |   |      --------\n",
      " |   |      numpy.reshape : equivalent function\n",
      " |   |      \n",
      " |   |      Notes\n",
      " |   |      -----\n",
      " |   |      Unlike the free function `numpy.reshape`, this method on `ndarray` allows\n",
      " |   |      the elements of the shape parameter to be passed in as separate arguments.\n",
      " |   |      For example, ``a.reshape(10, 11)`` is equivalent to\n",
      " |   |      ``a.reshape((10, 11))``.\n",
      " |   |  \n",
      " |   |  resize(...)\n",
      " |   |      a.resize(new_shape, refcheck=True)\n",
      " |   |      \n",
      " |   |      Change shape and size of array in-place.\n",
      " |   |      \n",
      " |   |      Parameters\n",
      " |   |      ----------\n",
      " |   |      new_shape : tuple of ints, or `n` ints\n",
      " |   |          Shape of resized array.\n",
      " |   |      refcheck : bool, optional\n",
      " |   |          If False, reference count will not be checked. Default is True.\n",
      " |   |      \n",
      " |   |      Returns\n",
      " |   |      -------\n",
      " |   |      None\n",
      " |   |      \n",
      " |   |      Raises\n",
      " |   |      ------\n",
      " |   |      ValueError\n",
      " |   |          If `a` does not own its own data or references or views to it exist,\n",
      " |   |          and the data memory must be changed.\n",
      " |   |          PyPy only: will always raise if the data memory must be changed, since\n",
      " |   |          there is no reliable way to determine if references or views to it\n",
      " |   |          exist.\n",
      " |   |      \n",
      " |   |      SystemError\n",
      " |   |          If the `order` keyword argument is specified. This behaviour is a\n",
      " |   |          bug in NumPy.\n",
      " |   |      \n",
      " |   |      See Also\n",
      " |   |      --------\n",
      " |   |      resize : Return a new array with the specified shape.\n",
      " |   |      \n",
      " |   |      Notes\n",
      " |   |      -----\n",
      " |   |      This reallocates space for the data area if necessary.\n",
      " |   |      \n",
      " |   |      Only contiguous arrays (data elements consecutive in memory) can be\n",
      " |   |      resized.\n",
      " |   |      \n",
      " |   |      The purpose of the reference count check is to make sure you\n",
      " |   |      do not use this array as a buffer for another Python object and then\n",
      " |   |      reallocate the memory. However, reference counts can increase in\n",
      " |   |      other ways so if you are sure that you have not shared the memory\n",
      " |   |      for this array with another Python object, then you may safely set\n",
      " |   |      `refcheck` to False.\n",
      " |   |      \n",
      " |   |      Examples\n",
      " |   |      --------\n",
      " |   |      Shrinking an array: array is flattened (in the order that the data are\n",
      " |   |      stored in memory), resized, and reshaped:\n",
      " |   |      \n",
      " |   |      >>> a = np.array([[0, 1], [2, 3]], order='C')\n",
      " |   |      >>> a.resize((2, 1))\n",
      " |   |      >>> a\n",
      " |   |      array([[0],\n",
      " |   |             [1]])\n",
      " |   |      \n",
      " |   |      >>> a = np.array([[0, 1], [2, 3]], order='F')\n",
      " |   |      >>> a.resize((2, 1))\n",
      " |   |      >>> a\n",
      " |   |      array([[0],\n",
      " |   |             [2]])\n",
      " |   |      \n",
      " |   |      Enlarging an array: as above, but missing entries are filled with zeros:\n",
      " |   |      \n",
      " |   |      >>> b = np.array([[0, 1], [2, 3]])\n",
      " |   |      >>> b.resize(2, 3) # new_shape parameter doesn't have to be a tuple\n",
      " |   |      >>> b\n",
      " |   |      array([[0, 1, 2],\n",
      " |   |             [3, 0, 0]])\n",
      " |   |      \n",
      " |   |      Referencing an array prevents resizing...\n",
      " |   |      \n",
      " |   |      >>> c = a\n",
      " |   |      >>> a.resize((1, 1))\n",
      " |   |      Traceback (most recent call last):\n",
      " |   |      ...\n",
      " |   |      ValueError: cannot resize an array that has been referenced ...\n",
      " |   |      \n",
      " |   |      Unless `refcheck` is False:\n",
      " |   |      \n",
      " |   |      >>> a.resize((1, 1), refcheck=False)\n",
      " |   |      >>> a\n",
      " |   |      array([[0]])\n",
      " |   |      >>> c\n",
      " |   |      array([[0]])\n",
      " |   |  \n",
      " |   |  round(...)\n",
      " |   |      a.round(decimals=0, out=None)\n",
      " |   |      \n",
      " |   |      Return `a` with each element rounded to the given number of decimals.\n",
      " |   |      \n",
      " |   |      Refer to `numpy.around` for full documentation.\n",
      " |   |      \n",
      " |   |      See Also\n",
      " |   |      --------\n",
      " |   |      numpy.around : equivalent function\n",
      " |   |  \n",
      " |   |  searchsorted(...)\n",
      " |   |      a.searchsorted(v, side='left', sorter=None)\n",
      " |   |      \n",
      " |   |      Find indices where elements of v should be inserted in a to maintain order.\n",
      " |   |      \n",
      " |   |      For full documentation, see `numpy.searchsorted`\n",
      " |   |      \n",
      " |   |      See Also\n",
      " |   |      --------\n",
      " |   |      numpy.searchsorted : equivalent function\n",
      " |   |  \n",
      " |   |  setfield(...)\n",
      " |   |      a.setfield(val, dtype, offset=0)\n",
      " |   |      \n",
      " |   |      Put a value into a specified place in a field defined by a data-type.\n",
      " |   |      \n",
      " |   |      Place `val` into `a`'s field defined by `dtype` and beginning `offset`\n",
      " |   |      bytes into the field.\n",
      " |   |      \n",
      " |   |      Parameters\n",
      " |   |      ----------\n",
      " |   |      val : object\n",
      " |   |          Value to be placed in field.\n",
      " |   |      dtype : dtype object\n",
      " |   |          Data-type of the field in which to place `val`.\n",
      " |   |      offset : int, optional\n",
      " |   |          The number of bytes into the field at which to place `val`.\n",
      " |   |      \n",
      " |   |      Returns\n",
      " |   |      -------\n",
      " |   |      None\n",
      " |   |      \n",
      " |   |      See Also\n",
      " |   |      --------\n",
      " |   |      getfield\n",
      " |   |      \n",
      " |   |      Examples\n",
      " |   |      --------\n",
      " |   |      >>> x = np.eye(3)\n",
      " |   |      >>> x.getfield(np.float64)\n",
      " |   |      array([[ 1.,  0.,  0.],\n",
      " |   |             [ 0.,  1.,  0.],\n",
      " |   |             [ 0.,  0.,  1.]])\n",
      " |   |      >>> x.setfield(3, np.int32)\n",
      " |   |      >>> x.getfield(np.int32)\n",
      " |   |      array([[3, 3, 3],\n",
      " |   |             [3, 3, 3],\n",
      " |   |             [3, 3, 3]])\n",
      " |   |      >>> x\n",
      " |   |      array([[  1.00000000e+000,   1.48219694e-323,   1.48219694e-323],\n",
      " |   |             [  1.48219694e-323,   1.00000000e+000,   1.48219694e-323],\n",
      " |   |             [  1.48219694e-323,   1.48219694e-323,   1.00000000e+000]])\n",
      " |   |      >>> x.setfield(np.eye(3), np.int32)\n",
      " |   |      >>> x\n",
      " |   |      array([[ 1.,  0.,  0.],\n",
      " |   |             [ 0.,  1.,  0.],\n",
      " |   |             [ 0.,  0.,  1.]])\n",
      " |   |  \n",
      " |   |  setflags(...)\n",
      " |   |      a.setflags(write=None, align=None, uic=None)\n",
      " |   |      \n",
      " |   |      Set array flags WRITEABLE, ALIGNED, (WRITEBACKIFCOPY and UPDATEIFCOPY),\n",
      " |   |      respectively.\n",
      " |   |      \n",
      " |   |      These Boolean-valued flags affect how numpy interprets the memory\n",
      " |   |      area used by `a` (see Notes below). The ALIGNED flag can only\n",
      " |   |      be set to True if the data is actually aligned according to the type.\n",
      " |   |      The WRITEBACKIFCOPY and (deprecated) UPDATEIFCOPY flags can never be set\n",
      " |   |      to True. The flag WRITEABLE can only be set to True if the array owns its\n",
      " |   |      own memory, or the ultimate owner of the memory exposes a writeable buffer\n",
      " |   |      interface, or is a string. (The exception for string is made so that\n",
      " |   |      unpickling can be done without copying memory.)\n",
      " |   |      \n",
      " |   |      Parameters\n",
      " |   |      ----------\n",
      " |   |      write : bool, optional\n",
      " |   |          Describes whether or not `a` can be written to.\n",
      " |   |      align : bool, optional\n",
      " |   |          Describes whether or not `a` is aligned properly for its type.\n",
      " |   |      uic : bool, optional\n",
      " |   |          Describes whether or not `a` is a copy of another \"base\" array.\n",
      " |   |      \n",
      " |   |      Notes\n",
      " |   |      -----\n",
      " |   |      Array flags provide information about how the memory area used\n",
      " |   |      for the array is to be interpreted. There are 7 Boolean flags\n",
      " |   |      in use, only four of which can be changed by the user:\n",
      " |   |      WRITEBACKIFCOPY, UPDATEIFCOPY, WRITEABLE, and ALIGNED.\n",
      " |   |      \n",
      " |   |      WRITEABLE (W) the data area can be written to;\n",
      " |   |      \n",
      " |   |      ALIGNED (A) the data and strides are aligned appropriately for the hardware\n",
      " |   |      (as determined by the compiler);\n",
      " |   |      \n",
      " |   |      UPDATEIFCOPY (U) (deprecated), replaced by WRITEBACKIFCOPY;\n",
      " |   |      \n",
      " |   |      WRITEBACKIFCOPY (X) this array is a copy of some other array (referenced\n",
      " |   |      by .base). When the C-API function PyArray_ResolveWritebackIfCopy is\n",
      " |   |      called, the base array will be updated with the contents of this array.\n",
      " |   |      \n",
      " |   |      All flags can be accessed using the single (upper case) letter as well\n",
      " |   |      as the full name.\n",
      " |   |      \n",
      " |   |      Examples\n",
      " |   |      --------\n",
      " |   |      >>> y\n",
      " |   |      array([[3, 1, 7],\n",
      " |   |             [2, 0, 0],\n",
      " |   |             [8, 5, 9]])\n",
      " |   |      >>> y.flags\n",
      " |   |        C_CONTIGUOUS : True\n",
      " |   |        F_CONTIGUOUS : False\n",
      " |   |        OWNDATA : True\n",
      " |   |        WRITEABLE : True\n",
      " |   |        ALIGNED : True\n",
      " |   |        WRITEBACKIFCOPY : False\n",
      " |   |        UPDATEIFCOPY : False\n",
      " |   |      >>> y.setflags(write=0, align=0)\n",
      " |   |      >>> y.flags\n",
      " |   |        C_CONTIGUOUS : True\n",
      " |   |        F_CONTIGUOUS : False\n",
      " |   |        OWNDATA : True\n",
      " |   |        WRITEABLE : False\n",
      " |   |        ALIGNED : False\n",
      " |   |        WRITEBACKIFCOPY : False\n",
      " |   |        UPDATEIFCOPY : False\n",
      " |   |      >>> y.setflags(uic=1)\n",
      " |   |      Traceback (most recent call last):\n",
      " |   |        File \"<stdin>\", line 1, in <module>\n",
      " |   |      ValueError: cannot set WRITEBACKIFCOPY flag to True\n",
      " |   |  \n",
      " |   |  sort(...)\n",
      " |   |      a.sort(axis=-1, kind='quicksort', order=None)\n",
      " |   |      \n",
      " |   |      Sort an array, in-place.\n",
      " |   |      \n",
      " |   |      Parameters\n",
      " |   |      ----------\n",
      " |   |      axis : int, optional\n",
      " |   |          Axis along which to sort. Default is -1, which means sort along the\n",
      " |   |          last axis.\n",
      " |   |      kind : {'quicksort', 'mergesort', 'heapsort'}, optional\n",
      " |   |          Sorting algorithm. Default is 'quicksort'.\n",
      " |   |      order : str or list of str, optional\n",
      " |   |          When `a` is an array with fields defined, this argument specifies\n",
      " |   |          which fields to compare first, second, etc.  A single field can\n",
      " |   |          be specified as a string, and not all fields need be specified,\n",
      " |   |          but unspecified fields will still be used, in the order in which\n",
      " |   |          they come up in the dtype, to break ties.\n",
      " |   |      \n",
      " |   |      See Also\n",
      " |   |      --------\n",
      " |   |      numpy.sort : Return a sorted copy of an array.\n",
      " |   |      argsort : Indirect sort.\n",
      " |   |      lexsort : Indirect stable sort on multiple keys.\n",
      " |   |      searchsorted : Find elements in sorted array.\n",
      " |   |      partition: Partial sort.\n",
      " |   |      \n",
      " |   |      Notes\n",
      " |   |      -----\n",
      " |   |      See ``sort`` for notes on the different sorting algorithms.\n",
      " |   |      \n",
      " |   |      Examples\n",
      " |   |      --------\n",
      " |   |      >>> a = np.array([[1,4], [3,1]])\n",
      " |   |      >>> a.sort(axis=1)\n",
      " |   |      >>> a\n",
      " |   |      array([[1, 4],\n",
      " |   |             [1, 3]])\n",
      " |   |      >>> a.sort(axis=0)\n",
      " |   |      >>> a\n",
      " |   |      array([[1, 3],\n",
      " |   |             [1, 4]])\n",
      " |   |      \n",
      " |   |      Use the `order` keyword to specify a field to use when sorting a\n",
      " |   |      structured array:\n",
      " |   |      \n",
      " |   |      >>> a = np.array([('a', 2), ('c', 1)], dtype=[('x', 'S1'), ('y', int)])\n",
      " |   |      >>> a.sort(order='y')\n",
      " |   |      >>> a\n",
      " |   |      array([('c', 1), ('a', 2)],\n",
      " |   |            dtype=[('x', '|S1'), ('y', '<i4')])\n",
      " |   |  \n",
      " |   |  swapaxes(...)\n",
      " |   |      a.swapaxes(axis1, axis2)\n",
      " |   |      \n",
      " |   |      Return a view of the array with `axis1` and `axis2` interchanged.\n",
      " |   |      \n",
      " |   |      Refer to `numpy.swapaxes` for full documentation.\n",
      " |   |      \n",
      " |   |      See Also\n",
      " |   |      --------\n",
      " |   |      numpy.swapaxes : equivalent function\n",
      " |   |  \n",
      " |   |  take(...)\n",
      " |   |      a.take(indices, axis=None, out=None, mode='raise')\n",
      " |   |      \n",
      " |   |      Return an array formed from the elements of `a` at the given indices.\n",
      " |   |      \n",
      " |   |      Refer to `numpy.take` for full documentation.\n",
      " |   |      \n",
      " |   |      See Also\n",
      " |   |      --------\n",
      " |   |      numpy.take : equivalent function\n",
      " |   |  \n",
      " |   |  tobytes(...)\n",
      " |   |      a.tobytes(order='C')\n",
      " |   |      \n",
      " |   |      Construct Python bytes containing the raw data bytes in the array.\n",
      " |   |      \n",
      " |   |      Constructs Python bytes showing a copy of the raw contents of\n",
      " |   |      data memory. The bytes object can be produced in either 'C' or 'Fortran',\n",
      " |   |      or 'Any' order (the default is 'C'-order). 'Any' order means C-order\n",
      " |   |      unless the F_CONTIGUOUS flag in the array is set, in which case it\n",
      " |   |      means 'Fortran' order.\n",
      " |   |      \n",
      " |   |      .. versionadded:: 1.9.0\n",
      " |   |      \n",
      " |   |      Parameters\n",
      " |   |      ----------\n",
      " |   |      order : {'C', 'F', None}, optional\n",
      " |   |          Order of the data for multidimensional arrays:\n",
      " |   |          C, Fortran, or the same as for the original array.\n",
      " |   |      \n",
      " |   |      Returns\n",
      " |   |      -------\n",
      " |   |      s : bytes\n",
      " |   |          Python bytes exhibiting a copy of `a`'s raw data.\n",
      " |   |      \n",
      " |   |      Examples\n",
      " |   |      --------\n",
      " |   |      >>> x = np.array([[0, 1], [2, 3]])\n",
      " |   |      >>> x.tobytes()\n",
      " |   |      b'\\x00\\x00\\x00\\x00\\x01\\x00\\x00\\x00\\x02\\x00\\x00\\x00\\x03\\x00\\x00\\x00'\n",
      " |   |      >>> x.tobytes('C') == x.tobytes()\n",
      " |   |      True\n",
      " |   |      >>> x.tobytes('F')\n",
      " |   |      b'\\x00\\x00\\x00\\x00\\x02\\x00\\x00\\x00\\x01\\x00\\x00\\x00\\x03\\x00\\x00\\x00'\n",
      " |   |  \n",
      " |   |  tofile(...)\n",
      " |   |      a.tofile(fid, sep=\"\", format=\"%s\")\n",
      " |   |      \n",
      " |   |      Write array to a file as text or binary (default).\n",
      " |   |      \n",
      " |   |      Data is always written in 'C' order, independent of the order of `a`.\n",
      " |   |      The data produced by this method can be recovered using the function\n",
      " |   |      fromfile().\n",
      " |   |      \n",
      " |   |      Parameters\n",
      " |   |      ----------\n",
      " |   |      fid : file or str\n",
      " |   |          An open file object, or a string containing a filename.\n",
      " |   |      sep : str\n",
      " |   |          Separator between array items for text output.\n",
      " |   |          If \"\" (empty), a binary file is written, equivalent to\n",
      " |   |          ``file.write(a.tobytes())``.\n",
      " |   |      format : str\n",
      " |   |          Format string for text file output.\n",
      " |   |          Each entry in the array is formatted to text by first converting\n",
      " |   |          it to the closest Python type, and then using \"format\" % item.\n",
      " |   |      \n",
      " |   |      Notes\n",
      " |   |      -----\n",
      " |   |      This is a convenience function for quick storage of array data.\n",
      " |   |      Information on endianness and precision is lost, so this method is not a\n",
      " |   |      good choice for files intended to archive data or transport data between\n",
      " |   |      machines with different endianness. Some of these problems can be overcome\n",
      " |   |      by outputting the data as text files, at the expense of speed and file\n",
      " |   |      size.\n",
      " |   |  \n",
      " |   |  tostring(...)\n",
      " |   |      a.tostring(order='C')\n",
      " |   |      \n",
      " |   |      Construct Python bytes containing the raw data bytes in the array.\n",
      " |   |      \n",
      " |   |      Constructs Python bytes showing a copy of the raw contents of\n",
      " |   |      data memory. The bytes object can be produced in either 'C' or 'Fortran',\n",
      " |   |      or 'Any' order (the default is 'C'-order). 'Any' order means C-order\n",
      " |   |      unless the F_CONTIGUOUS flag in the array is set, in which case it\n",
      " |   |      means 'Fortran' order.\n",
      " |   |      \n",
      " |   |      This function is a compatibility alias for tobytes. Despite its name it returns bytes not strings.\n",
      " |   |      \n",
      " |   |      Parameters\n",
      " |   |      ----------\n",
      " |   |      order : {'C', 'F', None}, optional\n",
      " |   |          Order of the data for multidimensional arrays:\n",
      " |   |          C, Fortran, or the same as for the original array.\n",
      " |   |      \n",
      " |   |      Returns\n",
      " |   |      -------\n",
      " |   |      s : bytes\n",
      " |   |          Python bytes exhibiting a copy of `a`'s raw data.\n",
      " |   |      \n",
      " |   |      Examples\n",
      " |   |      --------\n",
      " |   |      >>> x = np.array([[0, 1], [2, 3]])\n",
      " |   |      >>> x.tobytes()\n",
      " |   |      b'\\x00\\x00\\x00\\x00\\x01\\x00\\x00\\x00\\x02\\x00\\x00\\x00\\x03\\x00\\x00\\x00'\n",
      " |   |      >>> x.tobytes('C') == x.tobytes()\n",
      " |   |      True\n",
      " |   |      >>> x.tobytes('F')\n",
      " |   |      b'\\x00\\x00\\x00\\x00\\x02\\x00\\x00\\x00\\x01\\x00\\x00\\x00\\x03\\x00\\x00\\x00'\n",
      " |   |  \n",
      " |   |  trace(...)\n",
      " |   |      a.trace(offset=0, axis1=0, axis2=1, dtype=None, out=None)\n",
      " |   |      \n",
      " |   |      Return the sum along diagonals of the array.\n",
      " |   |      \n",
      " |   |      Refer to `numpy.trace` for full documentation.\n",
      " |   |      \n",
      " |   |      See Also\n",
      " |   |      --------\n",
      " |   |      numpy.trace : equivalent function\n",
      " |   |  \n",
      " |   |  transpose(...)\n",
      " |   |      a.transpose(*axes)\n",
      " |   |      \n",
      " |   |      Returns a view of the array with axes transposed.\n",
      " |   |      \n",
      " |   |      For a 1-D array, this has no effect. (To change between column and\n",
      " |   |      row vectors, first cast the 1-D array into a matrix object.)\n",
      " |   |      For a 2-D array, this is the usual matrix transpose.\n",
      " |   |      For an n-D array, if axes are given, their order indicates how the\n",
      " |   |      axes are permuted (see Examples). If axes are not provided and\n",
      " |   |      ``a.shape = (i[0], i[1], ... i[n-2], i[n-1])``, then\n",
      " |   |      ``a.transpose().shape = (i[n-1], i[n-2], ... i[1], i[0])``.\n",
      " |   |      \n",
      " |   |      Parameters\n",
      " |   |      ----------\n",
      " |   |      axes : None, tuple of ints, or `n` ints\n",
      " |   |      \n",
      " |   |       * None or no argument: reverses the order of the axes.\n",
      " |   |      \n",
      " |   |       * tuple of ints: `i` in the `j`-th place in the tuple means `a`'s\n",
      " |   |         `i`-th axis becomes `a.transpose()`'s `j`-th axis.\n",
      " |   |      \n",
      " |   |       * `n` ints: same as an n-tuple of the same ints (this form is\n",
      " |   |         intended simply as a \"convenience\" alternative to the tuple form)\n",
      " |   |      \n",
      " |   |      Returns\n",
      " |   |      -------\n",
      " |   |      out : ndarray\n",
      " |   |          View of `a`, with axes suitably permuted.\n",
      " |   |      \n",
      " |   |      See Also\n",
      " |   |      --------\n",
      " |   |      ndarray.T : Array property returning the array transposed.\n",
      " |   |      \n",
      " |   |      Examples\n",
      " |   |      --------\n",
      " |   |      >>> a = np.array([[1, 2], [3, 4]])\n",
      " |   |      >>> a\n",
      " |   |      array([[1, 2],\n",
      " |   |             [3, 4]])\n",
      " |   |      >>> a.transpose()\n",
      " |   |      array([[1, 3],\n",
      " |   |             [2, 4]])\n",
      " |   |      >>> a.transpose((1, 0))\n",
      " |   |      array([[1, 3],\n",
      " |   |             [2, 4]])\n",
      " |   |      >>> a.transpose(1, 0)\n",
      " |   |      array([[1, 3],\n",
      " |   |             [2, 4]])\n",
      " |   |  \n",
      " |   |  view(...)\n",
      " |   |      a.view(dtype=None, type=None)\n",
      " |   |      \n",
      " |   |      New view of array with the same data.\n",
      " |   |      \n",
      " |   |      Parameters\n",
      " |   |      ----------\n",
      " |   |      dtype : data-type or ndarray sub-class, optional\n",
      " |   |          Data-type descriptor of the returned view, e.g., float32 or int16. The\n",
      " |   |          default, None, results in the view having the same data-type as `a`.\n",
      " |   |          This argument can also be specified as an ndarray sub-class, which\n",
      " |   |          then specifies the type of the returned object (this is equivalent to\n",
      " |   |          setting the ``type`` parameter).\n",
      " |   |      type : Python type, optional\n",
      " |   |          Type of the returned view, e.g., ndarray or matrix.  Again, the\n",
      " |   |          default None results in type preservation.\n",
      " |   |      \n",
      " |   |      Notes\n",
      " |   |      -----\n",
      " |   |      ``a.view()`` is used two different ways:\n",
      " |   |      \n",
      " |   |      ``a.view(some_dtype)`` or ``a.view(dtype=some_dtype)`` constructs a view\n",
      " |   |      of the array's memory with a different data-type.  This can cause a\n",
      " |   |      reinterpretation of the bytes of memory.\n",
      " |   |      \n",
      " |   |      ``a.view(ndarray_subclass)`` or ``a.view(type=ndarray_subclass)`` just\n",
      " |   |      returns an instance of `ndarray_subclass` that looks at the same array\n",
      " |   |      (same shape, dtype, etc.)  This does not cause a reinterpretation of the\n",
      " |   |      memory.\n",
      " |   |      \n",
      " |   |      For ``a.view(some_dtype)``, if ``some_dtype`` has a different number of\n",
      " |   |      bytes per entry than the previous dtype (for example, converting a\n",
      " |   |      regular array to a structured array), then the behavior of the view\n",
      " |   |      cannot be predicted just from the superficial appearance of ``a`` (shown\n",
      " |   |      by ``print(a)``). It also depends on exactly how ``a`` is stored in\n",
      " |   |      memory. Therefore if ``a`` is C-ordered versus fortran-ordered, versus\n",
      " |   |      defined as a slice or transpose, etc., the view may give different\n",
      " |   |      results.\n",
      " |   |      \n",
      " |   |      \n",
      " |   |      Examples\n",
      " |   |      --------\n",
      " |   |      >>> x = np.array([(1, 2)], dtype=[('a', np.int8), ('b', np.int8)])\n",
      " |   |      \n",
      " |   |      Viewing array data using a different type and dtype:\n",
      " |   |      \n",
      " |   |      >>> y = x.view(dtype=np.int16, type=np.matrix)\n",
      " |   |      >>> y\n",
      " |   |      matrix([[513]], dtype=int16)\n",
      " |   |      >>> print(type(y))\n",
      " |   |      <class 'numpy.matrixlib.defmatrix.matrix'>\n",
      " |   |      \n",
      " |   |      Creating a view on a structured array so it can be used in calculations\n",
      " |   |      \n",
      " |   |      >>> x = np.array([(1, 2),(3,4)], dtype=[('a', np.int8), ('b', np.int8)])\n",
      " |   |      >>> xv = x.view(dtype=np.int8).reshape(-1,2)\n",
      " |   |      >>> xv\n",
      " |   |      array([[1, 2],\n",
      " |   |             [3, 4]], dtype=int8)\n",
      " |   |      >>> xv.mean(0)\n",
      " |   |      array([ 2.,  3.])\n",
      " |   |      \n",
      " |   |      Making changes to the view changes the underlying array\n",
      " |   |      \n",
      " |   |      >>> xv[0,1] = 20\n",
      " |   |      >>> print(x)\n",
      " |   |      [(1, 20) (3, 4)]\n",
      " |   |      \n",
      " |   |      Using a view to convert an array to a recarray:\n",
      " |   |      \n",
      " |   |      >>> z = x.view(np.recarray)\n",
      " |   |      >>> z.a\n",
      " |   |      array([1], dtype=int8)\n",
      " |   |      \n",
      " |   |      Views share data:\n",
      " |   |      \n",
      " |   |      >>> x[0] = (9, 10)\n",
      " |   |      >>> z[0]\n",
      " |   |      (9, 10)\n",
      " |   |      \n",
      " |   |      Views that change the dtype size (bytes per entry) should normally be\n",
      " |   |      avoided on arrays defined by slices, transposes, fortran-ordering, etc.:\n",
      " |   |      \n",
      " |   |      >>> x = np.array([[1,2,3],[4,5,6]], dtype=np.int16)\n",
      " |   |      >>> y = x[:, 0:2]\n",
      " |   |      >>> y\n",
      " |   |      array([[1, 2],\n",
      " |   |             [4, 5]], dtype=int16)\n",
      " |   |      >>> y.view(dtype=[('width', np.int16), ('length', np.int16)])\n",
      " |   |      Traceback (most recent call last):\n",
      " |   |        File \"<stdin>\", line 1, in <module>\n",
      " |   |      ValueError: new type not compatible with array.\n",
      " |   |      >>> z = y.copy()\n",
      " |   |      >>> z.view(dtype=[('width', np.int16), ('length', np.int16)])\n",
      " |   |      array([[(1, 2)],\n",
      " |   |             [(4, 5)]], dtype=[('width', '<i2'), ('length', '<i2')])\n",
      " |   |  \n",
      " |   |  ----------------------------------------------------------------------\n",
      " |   |  Data descriptors inherited from numpy.ndarray:\n",
      " |   |  \n",
      " |   |  __array_interface__\n",
      " |   |      Array protocol: Python side.\n",
      " |   |  \n",
      " |   |  __array_struct__\n",
      " |   |      Array protocol: C-struct side.\n",
      " |   |  \n",
      " |   |  base\n",
      " |   |      Base object if memory is from some other object.\n",
      " |   |      \n",
      " |   |      Examples\n",
      " |   |      --------\n",
      " |   |      The base of an array that owns its memory is None:\n",
      " |   |      \n",
      " |   |      >>> x = np.array([1,2,3,4])\n",
      " |   |      >>> x.base is None\n",
      " |   |      True\n",
      " |   |      \n",
      " |   |      Slicing creates a view, whose memory is shared with x:\n",
      " |   |      \n",
      " |   |      >>> y = x[2:]\n",
      " |   |      >>> y.base is x\n",
      " |   |      True\n",
      " |   |  \n",
      " |   |  ctypes\n",
      " |   |      An object to simplify the interaction of the array with the ctypes\n",
      " |   |      module.\n",
      " |   |      \n",
      " |   |      This attribute creates an object that makes it easier to use arrays\n",
      " |   |      when calling shared libraries with the ctypes module. The returned\n",
      " |   |      object has, among others, data, shape, and strides attributes (see\n",
      " |   |      Notes below) which themselves return ctypes objects that can be used\n",
      " |   |      as arguments to a shared library.\n",
      " |   |      \n",
      " |   |      Parameters\n",
      " |   |      ----------\n",
      " |   |      None\n",
      " |   |      \n",
      " |   |      Returns\n",
      " |   |      -------\n",
      " |   |      c : Python object\n",
      " |   |          Possessing attributes data, shape, strides, etc.\n",
      " |   |      \n",
      " |   |      See Also\n",
      " |   |      --------\n",
      " |   |      numpy.ctypeslib\n",
      " |   |      \n",
      " |   |      Notes\n",
      " |   |      -----\n",
      " |   |      Below are the public attributes of this object which were documented\n",
      " |   |      in \"Guide to NumPy\" (we have omitted undocumented public attributes,\n",
      " |   |      as well as documented private attributes):\n",
      " |   |      \n",
      " |   |      * data: A pointer to the memory area of the array as a Python integer.\n",
      " |   |        This memory area may contain data that is not aligned, or not in correct\n",
      " |   |        byte-order. The memory area may not even be writeable. The array\n",
      " |   |        flags and data-type of this array should be respected when passing this\n",
      " |   |        attribute to arbitrary C-code to avoid trouble that can include Python\n",
      " |   |        crashing. User Beware! The value of this attribute is exactly the same\n",
      " |   |        as self._array_interface_['data'][0].\n",
      " |   |      \n",
      " |   |      * shape (c_intp*self.ndim): A ctypes array of length self.ndim where\n",
      " |   |        the basetype is the C-integer corresponding to dtype('p') on this\n",
      " |   |        platform. This base-type could be c_int, c_long, or c_longlong\n",
      " |   |        depending on the platform. The c_intp type is defined accordingly in\n",
      " |   |        numpy.ctypeslib. The ctypes array contains the shape of the underlying\n",
      " |   |        array.\n",
      " |   |      \n",
      " |   |      * strides (c_intp*self.ndim): A ctypes array of length self.ndim where\n",
      " |   |        the basetype is the same as for the shape attribute. This ctypes array\n",
      " |   |        contains the strides information from the underlying array. This strides\n",
      " |   |        information is important for showing how many bytes must be jumped to\n",
      " |   |        get to the next element in the array.\n",
      " |   |      \n",
      " |   |      * data_as(obj): Return the data pointer cast to a particular c-types object.\n",
      " |   |        For example, calling self._as_parameter_ is equivalent to\n",
      " |   |        self.data_as(ctypes.c_void_p). Perhaps you want to use the data as a\n",
      " |   |        pointer to a ctypes array of floating-point data:\n",
      " |   |        self.data_as(ctypes.POINTER(ctypes.c_double)).\n",
      " |   |      \n",
      " |   |      * shape_as(obj): Return the shape tuple as an array of some other c-types\n",
      " |   |        type. For example: self.shape_as(ctypes.c_short).\n",
      " |   |      \n",
      " |   |      * strides_as(obj): Return the strides tuple as an array of some other\n",
      " |   |        c-types type. For example: self.strides_as(ctypes.c_longlong).\n",
      " |   |      \n",
      " |   |      Be careful using the ctypes attribute - especially on temporary\n",
      " |   |      arrays or arrays constructed on the fly. For example, calling\n",
      " |   |      ``(a+b).ctypes.data_as(ctypes.c_void_p)`` returns a pointer to memory\n",
      " |   |      that is invalid because the array created as (a+b) is deallocated\n",
      " |   |      before the next Python statement. You can avoid this problem using\n",
      " |   |      either ``c=a+b`` or ``ct=(a+b).ctypes``. In the latter case, ct will\n",
      " |   |      hold a reference to the array until ct is deleted or re-assigned.\n",
      " |   |      \n",
      " |   |      If the ctypes module is not available, then the ctypes attribute\n",
      " |   |      of array objects still returns something useful, but ctypes objects\n",
      " |   |      are not returned and errors may be raised instead. In particular,\n",
      " |   |      the object will still have the as parameter attribute which will\n",
      " |   |      return an integer equal to the data attribute.\n",
      " |   |      \n",
      " |   |      Examples\n",
      " |   |      --------\n",
      " |   |      >>> import ctypes\n",
      " |   |      >>> x\n",
      " |   |      array([[0, 1],\n",
      " |   |             [2, 3]])\n",
      " |   |      >>> x.ctypes.data\n",
      " |   |      30439712\n",
      " |   |      >>> x.ctypes.data_as(ctypes.POINTER(ctypes.c_long))\n",
      " |   |      <ctypes.LP_c_long object at 0x01F01300>\n",
      " |   |      >>> x.ctypes.data_as(ctypes.POINTER(ctypes.c_long)).contents\n",
      " |   |      c_long(0)\n",
      " |   |      >>> x.ctypes.data_as(ctypes.POINTER(ctypes.c_longlong)).contents\n",
      " |   |      c_longlong(4294967296L)\n",
      " |   |      >>> x.ctypes.shape\n",
      " |   |      <numpy.core._internal.c_long_Array_2 object at 0x01FFD580>\n",
      " |   |      >>> x.ctypes.shape_as(ctypes.c_long)\n",
      " |   |      <numpy.core._internal.c_long_Array_2 object at 0x01FCE620>\n",
      " |   |      >>> x.ctypes.strides\n",
      " |   |      <numpy.core._internal.c_long_Array_2 object at 0x01FCE620>\n",
      " |   |      >>> x.ctypes.strides_as(ctypes.c_longlong)\n",
      " |   |      <numpy.core._internal.c_longlong_Array_2 object at 0x01F01300>\n",
      " |   |  \n",
      " |   |  data\n",
      " |   |      Python buffer object pointing to the start of the array's data.\n",
      " |   |  \n",
      " |   |  dtype\n",
      " |   |      Data-type of the array's elements.\n",
      " |   |      \n",
      " |   |      Parameters\n",
      " |   |      ----------\n",
      " |   |      None\n",
      " |   |      \n",
      " |   |      Returns\n",
      " |   |      -------\n",
      " |   |      d : numpy dtype object\n",
      " |   |      \n",
      " |   |      See Also\n",
      " |   |      --------\n",
      " |   |      numpy.dtype\n",
      " |   |      \n",
      " |   |      Examples\n",
      " |   |      --------\n",
      " |   |      >>> x\n",
      " |   |      array([[0, 1],\n",
      " |   |             [2, 3]])\n",
      " |   |      >>> x.dtype\n",
      " |   |      dtype('int32')\n",
      " |   |      >>> type(x.dtype)\n",
      " |   |      <type 'numpy.dtype'>\n",
      " |   |  \n",
      " |   |  flags\n",
      " |   |      Information about the memory layout of the array.\n",
      " |   |      \n",
      " |   |      Attributes\n",
      " |   |      ----------\n",
      " |   |      C_CONTIGUOUS (C)\n",
      " |   |          The data is in a single, C-style contiguous segment.\n",
      " |   |      F_CONTIGUOUS (F)\n",
      " |   |          The data is in a single, Fortran-style contiguous segment.\n",
      " |   |      OWNDATA (O)\n",
      " |   |          The array owns the memory it uses or borrows it from another object.\n",
      " |   |      WRITEABLE (W)\n",
      " |   |          The data area can be written to.  Setting this to False locks\n",
      " |   |          the data, making it read-only.  A view (slice, etc.) inherits WRITEABLE\n",
      " |   |          from its base array at creation time, but a view of a writeable\n",
      " |   |          array may be subsequently locked while the base array remains writeable.\n",
      " |   |          (The opposite is not true, in that a view of a locked array may not\n",
      " |   |          be made writeable.  However, currently, locking a base object does not\n",
      " |   |          lock any views that already reference it, so under that circumstance it\n",
      " |   |          is possible to alter the contents of a locked array via a previously\n",
      " |   |          created writeable view onto it.)  Attempting to change a non-writeable\n",
      " |   |          array raises a RuntimeError exception.\n",
      " |   |      ALIGNED (A)\n",
      " |   |          The data and all elements are aligned appropriately for the hardware.\n",
      " |   |      WRITEBACKIFCOPY (X)\n",
      " |   |          This array is a copy of some other array. The C-API function\n",
      " |   |          PyArray_ResolveWritebackIfCopy must be called before deallocating\n",
      " |   |          to the base array will be updated with the contents of this array.\n",
      " |   |      UPDATEIFCOPY (U)\n",
      " |   |          (Deprecated, use WRITEBACKIFCOPY) This array is a copy of some other array.\n",
      " |   |          When this array is\n",
      " |   |          deallocated, the base array will be updated with the contents of\n",
      " |   |          this array.\n",
      " |   |      FNC\n",
      " |   |          F_CONTIGUOUS and not C_CONTIGUOUS.\n",
      " |   |      FORC\n",
      " |   |          F_CONTIGUOUS or C_CONTIGUOUS (one-segment test).\n",
      " |   |      BEHAVED (B)\n",
      " |   |          ALIGNED and WRITEABLE.\n",
      " |   |      CARRAY (CA)\n",
      " |   |          BEHAVED and C_CONTIGUOUS.\n",
      " |   |      FARRAY (FA)\n",
      " |   |          BEHAVED and F_CONTIGUOUS and not C_CONTIGUOUS.\n",
      " |   |      \n",
      " |   |      Notes\n",
      " |   |      -----\n",
      " |   |      The `flags` object can be accessed dictionary-like (as in ``a.flags['WRITEABLE']``),\n",
      " |   |      or by using lowercased attribute names (as in ``a.flags.writeable``). Short flag\n",
      " |   |      names are only supported in dictionary access.\n",
      " |   |      \n",
      " |   |      Only the WRITEBACKIFCOPY, UPDATEIFCOPY, WRITEABLE, and ALIGNED flags can be\n",
      " |   |      changed by the user, via direct assignment to the attribute or dictionary\n",
      " |   |      entry, or by calling `ndarray.setflags`.\n",
      " |   |      \n",
      " |   |      The array flags cannot be set arbitrarily:\n",
      " |   |      \n",
      " |   |      - UPDATEIFCOPY can only be set ``False``.\n",
      " |   |      - WRITEBACKIFCOPY can only be set ``False``.\n",
      " |   |      - ALIGNED can only be set ``True`` if the data is truly aligned.\n",
      " |   |      - WRITEABLE can only be set ``True`` if the array owns its own memory\n",
      " |   |        or the ultimate owner of the memory exposes a writeable buffer\n",
      " |   |        interface or is a string.\n",
      " |   |      \n",
      " |   |      Arrays can be both C-style and Fortran-style contiguous simultaneously.\n",
      " |   |      This is clear for 1-dimensional arrays, but can also be true for higher\n",
      " |   |      dimensional arrays.\n",
      " |   |      \n",
      " |   |      Even for contiguous arrays a stride for a given dimension\n",
      " |   |      ``arr.strides[dim]`` may be *arbitrary* if ``arr.shape[dim] == 1``\n",
      " |   |      or the array has no elements.\n",
      " |   |      It does *not* generally hold that ``self.strides[-1] == self.itemsize``\n",
      " |   |      for C-style contiguous arrays or ``self.strides[0] == self.itemsize`` for\n",
      " |   |      Fortran-style contiguous arrays is true.\n",
      " |   |  \n",
      " |   |  flat\n",
      " |   |      A 1-D iterator over the array.\n",
      " |   |      \n",
      " |   |      This is a `numpy.flatiter` instance, which acts similarly to, but is not\n",
      " |   |      a subclass of, Python's built-in iterator object.\n",
      " |   |      \n",
      " |   |      See Also\n",
      " |   |      --------\n",
      " |   |      flatten : Return a copy of the array collapsed into one dimension.\n",
      " |   |      \n",
      " |   |      flatiter\n",
      " |   |      \n",
      " |   |      Examples\n",
      " |   |      --------\n",
      " |   |      >>> x = np.arange(1, 7).reshape(2, 3)\n",
      " |   |      >>> x\n",
      " |   |      array([[1, 2, 3],\n",
      " |   |             [4, 5, 6]])\n",
      " |   |      >>> x.flat[3]\n",
      " |   |      4\n",
      " |   |      >>> x.T\n",
      " |   |      array([[1, 4],\n",
      " |   |             [2, 5],\n",
      " |   |             [3, 6]])\n",
      " |   |      >>> x.T.flat[3]\n",
      " |   |      5\n",
      " |   |      >>> type(x.flat)\n",
      " |   |      <type 'numpy.flatiter'>\n",
      " |   |      \n",
      " |   |      An assignment example:\n",
      " |   |      \n",
      " |   |      >>> x.flat = 3; x\n",
      " |   |      array([[3, 3, 3],\n",
      " |   |             [3, 3, 3]])\n",
      " |   |      >>> x.flat[[1,4]] = 1; x\n",
      " |   |      array([[3, 1, 3],\n",
      " |   |             [3, 1, 3]])\n",
      " |   |  \n",
      " |   |  imag\n",
      " |   |      The imaginary part of the array.\n",
      " |   |      \n",
      " |   |      Examples\n",
      " |   |      --------\n",
      " |   |      >>> x = np.sqrt([1+0j, 0+1j])\n",
      " |   |      >>> x.imag\n",
      " |   |      array([ 0.        ,  0.70710678])\n",
      " |   |      >>> x.imag.dtype\n",
      " |   |      dtype('float64')\n",
      " |   |  \n",
      " |   |  itemsize\n",
      " |   |      Length of one array element in bytes.\n",
      " |   |      \n",
      " |   |      Examples\n",
      " |   |      --------\n",
      " |   |      >>> x = np.array([1,2,3], dtype=np.float64)\n",
      " |   |      >>> x.itemsize\n",
      " |   |      8\n",
      " |   |      >>> x = np.array([1,2,3], dtype=np.complex128)\n",
      " |   |      >>> x.itemsize\n",
      " |   |      16\n",
      " |   |  \n",
      " |   |  nbytes\n",
      " |   |      Total bytes consumed by the elements of the array.\n",
      " |   |      \n",
      " |   |      Notes\n",
      " |   |      -----\n",
      " |   |      Does not include memory consumed by non-element attributes of the\n",
      " |   |      array object.\n",
      " |   |      \n",
      " |   |      Examples\n",
      " |   |      --------\n",
      " |   |      >>> x = np.zeros((3,5,2), dtype=np.complex128)\n",
      " |   |      >>> x.nbytes\n",
      " |   |      480\n",
      " |   |      >>> np.prod(x.shape) * x.itemsize\n",
      " |   |      480\n",
      " |   |  \n",
      " |   |  ndim\n",
      " |   |      Number of array dimensions.\n",
      " |   |      \n",
      " |   |      Examples\n",
      " |   |      --------\n",
      " |   |      >>> x = np.array([1, 2, 3])\n",
      " |   |      >>> x.ndim\n",
      " |   |      1\n",
      " |   |      >>> y = np.zeros((2, 3, 4))\n",
      " |   |      >>> y.ndim\n",
      " |   |      3\n",
      " |   |  \n",
      " |   |  real\n",
      " |   |      The real part of the array.\n",
      " |   |      \n",
      " |   |      Examples\n",
      " |   |      --------\n",
      " |   |      >>> x = np.sqrt([1+0j, 0+1j])\n",
      " |   |      >>> x.real\n",
      " |   |      array([ 1.        ,  0.70710678])\n",
      " |   |      >>> x.real.dtype\n",
      " |   |      dtype('float64')\n",
      " |   |      \n",
      " |   |      See Also\n",
      " |   |      --------\n",
      " |   |      numpy.real : equivalent function\n",
      " |   |  \n",
      " |   |  shape\n",
      " |   |      Tuple of array dimensions.\n",
      " |   |      \n",
      " |   |      The shape property is usually used to get the current shape of an array,\n",
      " |   |      but may also be used to reshape the array in-place by assigning a tuple of\n",
      " |   |      array dimensions to it.  As with `numpy.reshape`, one of the new shape\n",
      " |   |      dimensions can be -1, in which case its value is inferred from the size of\n",
      " |   |      the array and the remaining dimensions. Reshaping an array in-place will\n",
      " |   |      fail if a copy is required.\n",
      " |   |      \n",
      " |   |      Examples\n",
      " |   |      --------\n",
      " |   |      >>> x = np.array([1, 2, 3, 4])\n",
      " |   |      >>> x.shape\n",
      " |   |      (4,)\n",
      " |   |      >>> y = np.zeros((2, 3, 4))\n",
      " |   |      >>> y.shape\n",
      " |   |      (2, 3, 4)\n",
      " |   |      >>> y.shape = (3, 8)\n",
      " |   |      >>> y\n",
      " |   |      array([[ 0.,  0.,  0.,  0.,  0.,  0.,  0.,  0.],\n",
      " |   |             [ 0.,  0.,  0.,  0.,  0.,  0.,  0.,  0.],\n",
      " |   |             [ 0.,  0.,  0.,  0.,  0.,  0.,  0.,  0.]])\n",
      " |   |      >>> y.shape = (3, 6)\n",
      " |   |      Traceback (most recent call last):\n",
      " |   |        File \"<stdin>\", line 1, in <module>\n",
      " |   |      ValueError: total size of new array must be unchanged\n",
      " |   |      >>> np.zeros((4,2))[::2].shape = (-1,)\n",
      " |   |      Traceback (most recent call last):\n",
      " |   |        File \"<stdin>\", line 1, in <module>\n",
      " |   |      AttributeError: incompatible shape for a non-contiguous array\n",
      " |   |      \n",
      " |   |      See Also\n",
      " |   |      --------\n",
      " |   |      numpy.reshape : similar function\n",
      " |   |      ndarray.reshape : similar method\n",
      " |   |  \n",
      " |   |  size\n",
      " |   |      Number of elements in the array.\n",
      " |   |      \n",
      " |   |      Equivalent to ``np.prod(a.shape)``, i.e., the product of the array's\n",
      " |   |      dimensions.\n",
      " |   |      \n",
      " |   |      Examples\n",
      " |   |      --------\n",
      " |   |      >>> x = np.zeros((3, 5, 2), dtype=np.complex128)\n",
      " |   |      >>> x.size\n",
      " |   |      30\n",
      " |   |      >>> np.prod(x.shape)\n",
      " |   |      30\n",
      " |   |  \n",
      " |   |  strides\n",
      " |   |      Tuple of bytes to step in each dimension when traversing an array.\n",
      " |   |      \n",
      " |   |      The byte offset of element ``(i[0], i[1], ..., i[n])`` in an array `a`\n",
      " |   |      is::\n",
      " |   |      \n",
      " |   |          offset = sum(np.array(i) * a.strides)\n",
      " |   |      \n",
      " |   |      A more detailed explanation of strides can be found in the\n",
      " |   |      \"ndarray.rst\" file in the NumPy reference guide.\n",
      " |   |      \n",
      " |   |      Notes\n",
      " |   |      -----\n",
      " |   |      Imagine an array of 32-bit integers (each 4 bytes)::\n",
      " |   |      \n",
      " |   |        x = np.array([[0, 1, 2, 3, 4],\n",
      " |   |                      [5, 6, 7, 8, 9]], dtype=np.int32)\n",
      " |   |      \n",
      " |   |      This array is stored in memory as 40 bytes, one after the other\n",
      " |   |      (known as a contiguous block of memory).  The strides of an array tell\n",
      " |   |      us how many bytes we have to skip in memory to move to the next position\n",
      " |   |      along a certain axis.  For example, we have to skip 4 bytes (1 value) to\n",
      " |   |      move to the next column, but 20 bytes (5 values) to get to the same\n",
      " |   |      position in the next row.  As such, the strides for the array `x` will be\n",
      " |   |      ``(20, 4)``.\n",
      " |   |      \n",
      " |   |      See Also\n",
      " |   |      --------\n",
      " |   |      numpy.lib.stride_tricks.as_strided\n",
      " |   |      \n",
      " |   |      Examples\n",
      " |   |      --------\n",
      " |   |      >>> y = np.reshape(np.arange(2*3*4), (2,3,4))\n",
      " |   |      >>> y\n",
      " |   |      array([[[ 0,  1,  2,  3],\n",
      " |   |              [ 4,  5,  6,  7],\n",
      " |   |              [ 8,  9, 10, 11]],\n",
      " |   |             [[12, 13, 14, 15],\n",
      " |   |              [16, 17, 18, 19],\n",
      " |   |              [20, 21, 22, 23]]])\n",
      " |   |      >>> y.strides\n",
      " |   |      (48, 16, 4)\n",
      " |   |      >>> y[1,1,1]\n",
      " |   |      17\n",
      " |   |      >>> offset=sum(y.strides * np.array((1,1,1)))\n",
      " |   |      >>> offset/y.itemsize\n",
      " |   |      17\n",
      " |   |      \n",
      " |   |      >>> x = np.reshape(np.arange(5*6*7*8), (5,6,7,8)).transpose(2,3,1,0)\n",
      " |   |      >>> x.strides\n",
      " |   |      (32, 4, 224, 1344)\n",
      " |   |      >>> i = np.array([3,5,2,2])\n",
      " |   |      >>> offset = sum(i * x.strides)\n",
      " |   |      >>> x[3,5,2,2]\n",
      " |   |      813\n",
      " |   |      >>> offset / x.itemsize\n",
      " |   |      813\n",
      " |   |  \n",
      " |   |  ----------------------------------------------------------------------\n",
      " |   |  Data and other attributes inherited from numpy.ndarray:\n",
      " |   |  \n",
      " |   |  __hash__ = None\n",
      " |  \n",
      " |  ----------------------------------------------------------------------\n",
      " |  Data descriptors inherited from AxisConcatenator:\n",
      " |  \n",
      " |  __dict__\n",
      " |      dictionary for instance variables (if defined)\n",
      " |  \n",
      " |  __weakref__\n",
      " |      list of weak references to the object (if defined)\n",
      "\n"
     ]
    }
   ],
   "source": [
    "help(np.c_)"
   ]
  },
  {
   "cell_type": "code",
   "execution_count": 89,
   "metadata": {},
   "outputs": [
    {
     "data": {
      "text/plain": [
       "array([[1, 2, 1],\n",
       "       [2, 3, 2],\n",
       "       [3, 4, 3]])"
      ]
     },
     "execution_count": 89,
     "metadata": {},
     "output_type": "execute_result"
    }
   ],
   "source": [
    "np.c_[1:4,2:5,1:4]"
   ]
  },
  {
   "cell_type": "code",
   "execution_count": 90,
   "metadata": {},
   "outputs": [],
   "source": [
    "a = np.floor(10*np.random.random((2,12)))"
   ]
  },
  {
   "cell_type": "code",
   "execution_count": 91,
   "metadata": {},
   "outputs": [
    {
     "data": {
      "text/plain": [
       "array([[4., 1., 5., 7., 5., 0., 9., 8., 1., 8., 9., 6.],\n",
       "       [0., 1., 3., 7., 2., 9., 3., 3., 5., 0., 3., 3.]])"
      ]
     },
     "execution_count": 91,
     "metadata": {},
     "output_type": "execute_result"
    }
   ],
   "source": [
    "a"
   ]
  },
  {
   "cell_type": "code",
   "execution_count": 92,
   "metadata": {},
   "outputs": [
    {
     "data": {
      "text/plain": [
       "[array([[4., 1., 5., 7.],\n",
       "        [0., 1., 3., 7.]]), array([[5., 0., 9., 8.],\n",
       "        [2., 9., 3., 3.]]), array([[1., 8., 9., 6.],\n",
       "        [5., 0., 3., 3.]])]"
      ]
     },
     "execution_count": 92,
     "metadata": {},
     "output_type": "execute_result"
    }
   ],
   "source": [
    "np.hsplit(a,3)"
   ]
  },
  {
   "cell_type": "code",
   "execution_count": 94,
   "metadata": {},
   "outputs": [
    {
     "data": {
      "text/plain": [
       "array([[4., 1., 5., 7., 5., 0., 9., 8., 1., 8., 9., 6.],\n",
       "       [0., 1., 3., 7., 2., 9., 3., 3., 5., 0., 3., 3.]])"
      ]
     },
     "execution_count": 94,
     "metadata": {},
     "output_type": "execute_result"
    }
   ],
   "source": [
    "a"
   ]
  },
  {
   "cell_type": "code",
   "execution_count": 93,
   "metadata": {},
   "outputs": [
    {
     "data": {
      "text/plain": [
       "[array([[4., 1., 5.],\n",
       "        [0., 1., 3.]]), array([[7.],\n",
       "        [7.]]), array([[5., 0., 9., 8., 1., 8., 9., 6.],\n",
       "        [2., 9., 3., 3., 5., 0., 3., 3.]])]"
      ]
     },
     "execution_count": 93,
     "metadata": {},
     "output_type": "execute_result"
    }
   ],
   "source": [
    "np.hsplit(a,(3,4))"
   ]
  },
  {
   "cell_type": "code",
   "execution_count": 96,
   "metadata": {},
   "outputs": [],
   "source": [
    "list1 = np.hsplit(a,(3,5))"
   ]
  },
  {
   "cell_type": "code",
   "execution_count": 97,
   "metadata": {},
   "outputs": [
    {
     "data": {
      "text/plain": [
       "list"
      ]
     },
     "execution_count": 97,
     "metadata": {},
     "output_type": "execute_result"
    }
   ],
   "source": [
    "type(list1)"
   ]
  },
  {
   "cell_type": "code",
   "execution_count": 98,
   "metadata": {},
   "outputs": [
    {
     "data": {
      "text/plain": [
       "array([[0., 9., 8., 1., 8., 9., 6.],\n",
       "       [9., 3., 3., 5., 0., 3., 3.]])"
      ]
     },
     "execution_count": 98,
     "metadata": {},
     "output_type": "execute_result"
    }
   ],
   "source": [
    "list1[2]"
   ]
  },
  {
   "cell_type": "code",
   "execution_count": 100,
   "metadata": {},
   "outputs": [],
   "source": [
    "a.resize((6,4))"
   ]
  },
  {
   "cell_type": "code",
   "execution_count": 101,
   "metadata": {},
   "outputs": [
    {
     "data": {
      "text/plain": [
       "array([[4., 1., 5., 7.],\n",
       "       [5., 0., 9., 8.],\n",
       "       [1., 8., 9., 6.],\n",
       "       [0., 1., 3., 7.],\n",
       "       [2., 9., 3., 3.],\n",
       "       [5., 0., 3., 3.]])"
      ]
     },
     "execution_count": 101,
     "metadata": {},
     "output_type": "execute_result"
    }
   ],
   "source": [
    "a"
   ]
  },
  {
   "cell_type": "code",
   "execution_count": 102,
   "metadata": {},
   "outputs": [
    {
     "data": {
      "text/plain": [
       "[array([[4., 1., 5., 7.],\n",
       "        [5., 0., 9., 8.],\n",
       "        [1., 8., 9., 6.]]), array([[0., 1., 3., 7.],\n",
       "        [2., 9., 3., 3.],\n",
       "        [5., 0., 3., 3.]])]"
      ]
     },
     "execution_count": 102,
     "metadata": {},
     "output_type": "execute_result"
    }
   ],
   "source": [
    "np.vsplit(a,2)"
   ]
  },
  {
   "cell_type": "code",
   "execution_count": 103,
   "metadata": {},
   "outputs": [
    {
     "data": {
      "text/plain": [
       "[array([[4., 1., 5., 7.],\n",
       "        [5., 0., 9., 8.]]), array([[1., 8., 9., 6.]]), array([[0., 1., 3., 7.],\n",
       "        [2., 9., 3., 3.],\n",
       "        [5., 0., 3., 3.]])]"
      ]
     },
     "execution_count": 103,
     "metadata": {},
     "output_type": "execute_result"
    }
   ],
   "source": [
    "np.vsplit(a,(2,3))"
   ]
  },
  {
   "cell_type": "markdown",
   "metadata": {},
   "source": [
    "# 复制还是查看?"
   ]
  },
  {
   "cell_type": "markdown",
   "metadata": {},
   "source": [
    "根本没复制!"
   ]
  },
  {
   "cell_type": "markdown",
   "metadata": {},
   "source": [
    "先来一个原生的copy"
   ]
  },
  {
   "cell_type": "code",
   "execution_count": 121,
   "metadata": {},
   "outputs": [
    {
     "name": "stdout",
     "output_type": "stream",
     "text": [
      "d的值: [[1, 2, 3], 4, 5]\n",
      "c的值是: [[1, 2, 3], 4, 5]\n",
      "-->c的值是: [[1, 100, 3], 4, 5]\n",
      "-->d的值是: [[1, 2, 3], 4, 5]\n"
     ]
    }
   ],
   "source": [
    "a = [1,2,3]\n",
    "b = [a,4,5]\n",
    "c = b\n",
    "import copy\n",
    "\n",
    "d =copy.deepcopy(b)\n",
    "print('d的值:',d)\n",
    "print('c的值是:',c)\n",
    "a[1] = 100\n",
    "print('-->c的值是:',c)\n",
    "print('-->d的值是:',d)\n"
   ]
  },
  {
   "cell_type": "code",
   "execution_count": 116,
   "metadata": {},
   "outputs": [],
   "source": []
  },
  {
   "cell_type": "code",
   "execution_count": 117,
   "metadata": {},
   "outputs": [
    {
     "data": {
      "text/plain": [
       "[[1, 2], 4, 5]"
      ]
     },
     "execution_count": 117,
     "metadata": {},
     "output_type": "execute_result"
    }
   ],
   "source": [
    "b"
   ]
  },
  {
   "cell_type": "code",
   "execution_count": 107,
   "metadata": {},
   "outputs": [],
   "source": [
    "c = b"
   ]
  },
  {
   "cell_type": "code",
   "execution_count": 108,
   "metadata": {},
   "outputs": [
    {
     "data": {
      "text/plain": [
       "[[1, 2, 3], 4, 5]"
      ]
     },
     "execution_count": 108,
     "metadata": {},
     "output_type": "execute_result"
    }
   ],
   "source": [
    "c"
   ]
  },
  {
   "cell_type": "code",
   "execution_count": 109,
   "metadata": {},
   "outputs": [
    {
     "data": {
      "text/plain": [
       "True"
      ]
     },
     "execution_count": 109,
     "metadata": {},
     "output_type": "execute_result"
    }
   ],
   "source": [
    "c == b"
   ]
  },
  {
   "cell_type": "code",
   "execution_count": 110,
   "metadata": {},
   "outputs": [
    {
     "data": {
      "text/plain": [
       "True"
      ]
     },
     "execution_count": 110,
     "metadata": {},
     "output_type": "execute_result"
    }
   ],
   "source": [
    "c is b"
   ]
  },
  {
   "cell_type": "code",
   "execution_count": 112,
   "metadata": {},
   "outputs": [],
   "source": [
    "a = [1,2]"
   ]
  },
  {
   "cell_type": "code",
   "execution_count": 113,
   "metadata": {},
   "outputs": [
    {
     "data": {
      "text/plain": [
       "[[1, 2, 3], 4, 5]"
      ]
     },
     "execution_count": 113,
     "metadata": {},
     "output_type": "execute_result"
    }
   ],
   "source": [
    "c"
   ]
  },
  {
   "cell_type": "code",
   "execution_count": 114,
   "metadata": {},
   "outputs": [
    {
     "data": {
      "text/plain": [
       "[[1, 2, 3], 4, 5]"
      ]
     },
     "execution_count": 114,
     "metadata": {},
     "output_type": "execute_result"
    }
   ],
   "source": [
    "b"
   ]
  },
  {
   "cell_type": "code",
   "execution_count": 122,
   "metadata": {},
   "outputs": [],
   "source": [
    "a = np.arange(12)"
   ]
  },
  {
   "cell_type": "code",
   "execution_count": 123,
   "metadata": {},
   "outputs": [],
   "source": [
    "b = a"
   ]
  },
  {
   "cell_type": "code",
   "execution_count": 124,
   "metadata": {},
   "outputs": [
    {
     "data": {
      "text/plain": [
       "True"
      ]
     },
     "execution_count": 124,
     "metadata": {},
     "output_type": "execute_result"
    }
   ],
   "source": [
    "b is a"
   ]
  },
  {
   "cell_type": "code",
   "execution_count": 125,
   "metadata": {},
   "outputs": [],
   "source": [
    "b.shape = 3,4"
   ]
  },
  {
   "cell_type": "code",
   "execution_count": 126,
   "metadata": {},
   "outputs": [
    {
     "data": {
      "text/plain": [
       "array([[ 0,  1,  2,  3],\n",
       "       [ 4,  5,  6,  7],\n",
       "       [ 8,  9, 10, 11]])"
      ]
     },
     "execution_count": 126,
     "metadata": {},
     "output_type": "execute_result"
    }
   ],
   "source": [
    "a"
   ]
  },
  {
   "cell_type": "code",
   "execution_count": 127,
   "metadata": {},
   "outputs": [],
   "source": [
    "c = a.view()"
   ]
  },
  {
   "cell_type": "code",
   "execution_count": 128,
   "metadata": {},
   "outputs": [
    {
     "data": {
      "text/plain": [
       "array([[ 0,  1,  2,  3],\n",
       "       [ 4,  5,  6,  7],\n",
       "       [ 8,  9, 10, 11]])"
      ]
     },
     "execution_count": 128,
     "metadata": {},
     "output_type": "execute_result"
    }
   ],
   "source": [
    "c"
   ]
  },
  {
   "cell_type": "code",
   "execution_count": 129,
   "metadata": {},
   "outputs": [
    {
     "data": {
      "text/plain": [
       "False"
      ]
     },
     "execution_count": 129,
     "metadata": {},
     "output_type": "execute_result"
    }
   ],
   "source": [
    "a is c"
   ]
  },
  {
   "cell_type": "code",
   "execution_count": 130,
   "metadata": {},
   "outputs": [
    {
     "data": {
      "text/plain": [
       "array([[ True,  True,  True,  True],\n",
       "       [ True,  True,  True,  True],\n",
       "       [ True,  True,  True,  True]])"
      ]
     },
     "execution_count": 130,
     "metadata": {},
     "output_type": "execute_result"
    }
   ],
   "source": [
    "a == c"
   ]
  },
  {
   "cell_type": "code",
   "execution_count": 131,
   "metadata": {},
   "outputs": [
    {
     "data": {
      "text/plain": [
       "True"
      ]
     },
     "execution_count": 131,
     "metadata": {},
     "output_type": "execute_result"
    }
   ],
   "source": [
    "c.base is a"
   ]
  },
  {
   "cell_type": "code",
   "execution_count": 132,
   "metadata": {},
   "outputs": [
    {
     "data": {
      "text/plain": [
       "  C_CONTIGUOUS : True\n",
       "  F_CONTIGUOUS : False\n",
       "  OWNDATA : False\n",
       "  WRITEABLE : True\n",
       "  ALIGNED : True\n",
       "  WRITEBACKIFCOPY : False\n",
       "  UPDATEIFCOPY : False"
      ]
     },
     "execution_count": 132,
     "metadata": {},
     "output_type": "execute_result"
    }
   ],
   "source": [
    "c.flags"
   ]
  },
  {
   "cell_type": "code",
   "execution_count": 133,
   "metadata": {},
   "outputs": [
    {
     "data": {
      "text/plain": [
       "numpy.flagsobj"
      ]
     },
     "execution_count": 133,
     "metadata": {},
     "output_type": "execute_result"
    }
   ],
   "source": [
    "type(c.flags)"
   ]
  },
  {
   "cell_type": "code",
   "execution_count": 134,
   "metadata": {},
   "outputs": [
    {
     "data": {
      "text/plain": [
       "False"
      ]
     },
     "execution_count": 134,
     "metadata": {},
     "output_type": "execute_result"
    }
   ],
   "source": [
    "c.flags.owndata"
   ]
  },
  {
   "cell_type": "code",
   "execution_count": 136,
   "metadata": {},
   "outputs": [
    {
     "data": {
      "text/plain": [
       "True"
      ]
     },
     "execution_count": 136,
     "metadata": {},
     "output_type": "execute_result"
    }
   ],
   "source": [
    "c.flags.aligned"
   ]
  },
  {
   "cell_type": "code",
   "execution_count": 137,
   "metadata": {},
   "outputs": [],
   "source": [
    "c.shape = 2,6 "
   ]
  },
  {
   "cell_type": "code",
   "execution_count": 138,
   "metadata": {},
   "outputs": [
    {
     "data": {
      "text/plain": [
       "array([[ 0,  1,  2,  3],\n",
       "       [ 4,  5,  6,  7],\n",
       "       [ 8,  9, 10, 11]])"
      ]
     },
     "execution_count": 138,
     "metadata": {},
     "output_type": "execute_result"
    }
   ],
   "source": [
    "a"
   ]
  },
  {
   "cell_type": "code",
   "execution_count": 141,
   "metadata": {},
   "outputs": [
    {
     "data": {
      "text/plain": [
       "array([[   0,    1,    2,    3, 1234,    5],\n",
       "       [   6,    7,    8,    9,   10,   11]])"
      ]
     },
     "execution_count": 141,
     "metadata": {},
     "output_type": "execute_result"
    }
   ],
   "source": [
    "c"
   ]
  },
  {
   "cell_type": "code",
   "execution_count": 139,
   "metadata": {},
   "outputs": [],
   "source": [
    "c[0,4] = 1234"
   ]
  },
  {
   "cell_type": "code",
   "execution_count": 142,
   "metadata": {},
   "outputs": [],
   "source": [
    "c[1,0] = 100"
   ]
  },
  {
   "cell_type": "code",
   "execution_count": 143,
   "metadata": {},
   "outputs": [
    {
     "data": {
      "text/plain": [
       "array([[   0,    1,    2,    3],\n",
       "       [1234,    5,  100,    7],\n",
       "       [   8,    9,   10,   11]])"
      ]
     },
     "execution_count": 143,
     "metadata": {},
     "output_type": "execute_result"
    }
   ],
   "source": [
    "a"
   ]
  },
  {
   "cell_type": "code",
   "execution_count": 144,
   "metadata": {},
   "outputs": [],
   "source": [
    "s = a[ : , 1:3]"
   ]
  },
  {
   "cell_type": "code",
   "execution_count": 145,
   "metadata": {},
   "outputs": [
    {
     "data": {
      "text/plain": [
       "array([[  1,   2],\n",
       "       [  5, 100],\n",
       "       [  9,  10]])"
      ]
     },
     "execution_count": 145,
     "metadata": {},
     "output_type": "execute_result"
    }
   ],
   "source": [
    "s"
   ]
  },
  {
   "cell_type": "code",
   "execution_count": 146,
   "metadata": {},
   "outputs": [],
   "source": [
    "s[:] = 10"
   ]
  },
  {
   "cell_type": "code",
   "execution_count": 147,
   "metadata": {},
   "outputs": [
    {
     "data": {
      "text/plain": [
       "array([[10, 10],\n",
       "       [10, 10],\n",
       "       [10, 10]])"
      ]
     },
     "execution_count": 147,
     "metadata": {},
     "output_type": "execute_result"
    }
   ],
   "source": [
    "s"
   ]
  },
  {
   "cell_type": "code",
   "execution_count": 148,
   "metadata": {},
   "outputs": [
    {
     "data": {
      "text/plain": [
       "array([[   0,   10,   10,    3],\n",
       "       [1234,   10,   10,    7],\n",
       "       [   8,   10,   10,   11]])"
      ]
     },
     "execution_count": 148,
     "metadata": {},
     "output_type": "execute_result"
    }
   ],
   "source": [
    "a"
   ]
  },
  {
   "cell_type": "code",
   "execution_count": 149,
   "metadata": {},
   "outputs": [],
   "source": [
    "d = a.copy()"
   ]
  },
  {
   "cell_type": "code",
   "execution_count": 150,
   "metadata": {},
   "outputs": [
    {
     "data": {
      "text/plain": [
       "array([[   0,   10,   10,    3],\n",
       "       [1234,   10,   10,    7],\n",
       "       [   8,   10,   10,   11]])"
      ]
     },
     "execution_count": 150,
     "metadata": {},
     "output_type": "execute_result"
    }
   ],
   "source": [
    "d"
   ]
  },
  {
   "cell_type": "code",
   "execution_count": 151,
   "metadata": {},
   "outputs": [
    {
     "data": {
      "text/plain": [
       "False"
      ]
     },
     "execution_count": 151,
     "metadata": {},
     "output_type": "execute_result"
    }
   ],
   "source": [
    "d is a"
   ]
  },
  {
   "cell_type": "code",
   "execution_count": 152,
   "metadata": {},
   "outputs": [],
   "source": [
    "d[0,0] = 200"
   ]
  },
  {
   "cell_type": "code",
   "execution_count": 153,
   "metadata": {},
   "outputs": [
    {
     "data": {
      "text/plain": [
       "array([[ 200,   10,   10,    3],\n",
       "       [1234,   10,   10,    7],\n",
       "       [   8,   10,   10,   11]])"
      ]
     },
     "execution_count": 153,
     "metadata": {},
     "output_type": "execute_result"
    }
   ],
   "source": [
    "d"
   ]
  },
  {
   "cell_type": "code",
   "execution_count": 154,
   "metadata": {},
   "outputs": [
    {
     "data": {
      "text/plain": [
       "array([[   0,   10,   10,    3],\n",
       "       [1234,   10,   10,    7],\n",
       "       [   8,   10,   10,   11]])"
      ]
     },
     "execution_count": 154,
     "metadata": {},
     "output_type": "execute_result"
    }
   ],
   "source": [
    "a"
   ]
  },
  {
   "cell_type": "markdown",
   "metadata": {},
   "source": [
    "# 下午"
   ]
  },
  {
   "cell_type": "code",
   "execution_count": 155,
   "metadata": {},
   "outputs": [],
   "source": [
    "a = np.arange(12)**2 "
   ]
  },
  {
   "cell_type": "code",
   "execution_count": 156,
   "metadata": {},
   "outputs": [
    {
     "data": {
      "text/plain": [
       "array([  0,   1,   4,   9,  16,  25,  36,  49,  64,  81, 100, 121],\n",
       "      dtype=int32)"
      ]
     },
     "execution_count": 156,
     "metadata": {},
     "output_type": "execute_result"
    }
   ],
   "source": [
    "a"
   ]
  },
  {
   "cell_type": "code",
   "execution_count": 157,
   "metadata": {},
   "outputs": [],
   "source": [
    "i = np.array( [ 1,1,3,8,5 ] )"
   ]
  },
  {
   "cell_type": "code",
   "execution_count": 158,
   "metadata": {},
   "outputs": [
    {
     "data": {
      "text/plain": [
       "array([1, 1, 3, 8, 5])"
      ]
     },
     "execution_count": 158,
     "metadata": {},
     "output_type": "execute_result"
    }
   ],
   "source": [
    "i"
   ]
  },
  {
   "cell_type": "code",
   "execution_count": 159,
   "metadata": {},
   "outputs": [
    {
     "data": {
      "text/plain": [
       "array([ 1,  1,  9, 64, 25], dtype=int32)"
      ]
     },
     "execution_count": 159,
     "metadata": {},
     "output_type": "execute_result"
    }
   ],
   "source": [
    "a[i]"
   ]
  },
  {
   "cell_type": "code",
   "execution_count": 160,
   "metadata": {},
   "outputs": [],
   "source": [
    "j = np.array( [ [ 3, 4], [ 9, 7 ] ] )"
   ]
  },
  {
   "cell_type": "code",
   "execution_count": 161,
   "metadata": {},
   "outputs": [
    {
     "data": {
      "text/plain": [
       "array([[ 9, 16],\n",
       "       [81, 49]], dtype=int32)"
      ]
     },
     "execution_count": 161,
     "metadata": {},
     "output_type": "execute_result"
    }
   ],
   "source": [
    "a[j]"
   ]
  },
  {
   "cell_type": "code",
   "execution_count": 162,
   "metadata": {},
   "outputs": [],
   "source": [
    "palette = np.array( [ [0,0,0],                # black\n",
    "                       [255,0,0],              # red\n",
    "                       [0,255,0],              # green\n",
    "                       [0,0,255],              # blue\n",
    "                       [255,255,255] ] )       # white"
   ]
  },
  {
   "cell_type": "code",
   "execution_count": 163,
   "metadata": {},
   "outputs": [
    {
     "data": {
      "text/plain": [
       "array([[  0,   0,   0],\n",
       "       [255,   0,   0],\n",
       "       [  0, 255,   0],\n",
       "       [  0,   0, 255],\n",
       "       [255, 255, 255]])"
      ]
     },
     "execution_count": 163,
     "metadata": {},
     "output_type": "execute_result"
    }
   ],
   "source": [
    "palette"
   ]
  },
  {
   "cell_type": "code",
   "execution_count": 164,
   "metadata": {},
   "outputs": [],
   "source": [
    "image = np.array( [ [ 0, 1, 2, 0 ],           # each value corresponds to a color in the palette\n",
    "                     [ 0, 3, 4, 0 ]  ] )"
   ]
  },
  {
   "cell_type": "code",
   "execution_count": 165,
   "metadata": {},
   "outputs": [
    {
     "data": {
      "text/plain": [
       "array([[0, 1, 2, 0],\n",
       "       [0, 3, 4, 0]])"
      ]
     },
     "execution_count": 165,
     "metadata": {},
     "output_type": "execute_result"
    }
   ],
   "source": [
    "image"
   ]
  },
  {
   "cell_type": "code",
   "execution_count": 166,
   "metadata": {},
   "outputs": [
    {
     "data": {
      "text/plain": [
       "array([[[  0,   0,   0],\n",
       "        [255,   0,   0],\n",
       "        [  0, 255,   0],\n",
       "        [  0,   0,   0]],\n",
       "\n",
       "       [[  0,   0,   0],\n",
       "        [  0,   0, 255],\n",
       "        [255, 255, 255],\n",
       "        [  0,   0,   0]]])"
      ]
     },
     "execution_count": 166,
     "metadata": {},
     "output_type": "execute_result"
    }
   ],
   "source": [
    "palette[image]"
   ]
  },
  {
   "cell_type": "markdown",
   "metadata": {},
   "source": [
    "** 多维数组索引**"
   ]
  },
  {
   "cell_type": "code",
   "execution_count": 167,
   "metadata": {},
   "outputs": [],
   "source": [
    "a = np.arange(12).reshape(3,4)"
   ]
  },
  {
   "cell_type": "code",
   "execution_count": 169,
   "metadata": {},
   "outputs": [
    {
     "data": {
      "text/plain": [
       "array([[ 0,  1,  2,  3],\n",
       "       [ 4,  5,  6,  7],\n",
       "       [ 8,  9, 10, 11]])"
      ]
     },
     "execution_count": 169,
     "metadata": {},
     "output_type": "execute_result"
    }
   ],
   "source": [
    "a"
   ]
  },
  {
   "cell_type": "code",
   "execution_count": 168,
   "metadata": {},
   "outputs": [],
   "source": [
    "i = np.array( [ [0,1],                        # indices for the first dim of a\n",
    "                 [1,2] ] )"
   ]
  },
  {
   "cell_type": "code",
   "execution_count": 177,
   "metadata": {},
   "outputs": [],
   "source": [
    "j = np.array( [ [2,1],                        # indices for the second dim\n",
    "                 [3,3] ] )"
   ]
  },
  {
   "cell_type": "code",
   "execution_count": 178,
   "metadata": {},
   "outputs": [
    {
     "data": {
      "text/plain": [
       "array([[[ 0,  1,  2,  3],\n",
       "        [ 4,  5,  6,  7]],\n",
       "\n",
       "       [[ 4,  5,  6,  7],\n",
       "        [ 8,  9, 10, 11]]])"
      ]
     },
     "execution_count": 178,
     "metadata": {},
     "output_type": "execute_result"
    }
   ],
   "source": [
    "a[i]"
   ]
  },
  {
   "cell_type": "code",
   "execution_count": 179,
   "metadata": {},
   "outputs": [
    {
     "data": {
      "text/plain": [
       "array([[ 2,  5],\n",
       "       [ 7, 11]])"
      ]
     },
     "execution_count": 179,
     "metadata": {},
     "output_type": "execute_result"
    }
   ],
   "source": [
    "a[i,j]"
   ]
  },
  {
   "cell_type": "code",
   "execution_count": 180,
   "metadata": {},
   "outputs": [
    {
     "data": {
      "text/plain": [
       "array([[ 2,  6],\n",
       "       [ 6, 10]])"
      ]
     },
     "execution_count": 180,
     "metadata": {},
     "output_type": "execute_result"
    }
   ],
   "source": [
    "a[i,2]"
   ]
  },
  {
   "cell_type": "code",
   "execution_count": 182,
   "metadata": {},
   "outputs": [
    {
     "data": {
      "text/plain": [
       "array([[ 0,  1,  2,  3],\n",
       "       [ 4,  5,  6,  7],\n",
       "       [ 8,  9, 10, 11]])"
      ]
     },
     "execution_count": 182,
     "metadata": {},
     "output_type": "execute_result"
    }
   ],
   "source": [
    "a"
   ]
  },
  {
   "cell_type": "code",
   "execution_count": 183,
   "metadata": {},
   "outputs": [
    {
     "data": {
      "text/plain": [
       "array([[2, 1],\n",
       "       [3, 3]])"
      ]
     },
     "execution_count": 183,
     "metadata": {},
     "output_type": "execute_result"
    }
   ],
   "source": [
    "j"
   ]
  },
  {
   "cell_type": "code",
   "execution_count": 181,
   "metadata": {},
   "outputs": [
    {
     "data": {
      "text/plain": [
       "array([[[ 2,  1],\n",
       "        [ 3,  3]],\n",
       "\n",
       "       [[ 6,  5],\n",
       "        [ 7,  7]],\n",
       "\n",
       "       [[10,  9],\n",
       "        [11, 11]]])"
      ]
     },
     "execution_count": 181,
     "metadata": {},
     "output_type": "execute_result"
    }
   ],
   "source": [
    "a[:,j] "
   ]
  },
  {
   "cell_type": "code",
   "execution_count": 184,
   "metadata": {},
   "outputs": [],
   "source": [
    "l = [i,j]"
   ]
  },
  {
   "cell_type": "code",
   "execution_count": 187,
   "metadata": {},
   "outputs": [
    {
     "data": {
      "text/plain": [
       "array([[ 0,  1,  2,  3],\n",
       "       [ 4,  5,  6,  7],\n",
       "       [ 8,  9, 10, 11]])"
      ]
     },
     "execution_count": 187,
     "metadata": {},
     "output_type": "execute_result"
    }
   ],
   "source": [
    "a"
   ]
  },
  {
   "cell_type": "code",
   "execution_count": 185,
   "metadata": {},
   "outputs": [
    {
     "data": {
      "text/plain": [
       "[array([[0, 1],\n",
       "        [1, 2]]), array([[2, 1],\n",
       "        [3, 3]])]"
      ]
     },
     "execution_count": 185,
     "metadata": {},
     "output_type": "execute_result"
    }
   ],
   "source": [
    "l"
   ]
  },
  {
   "cell_type": "code",
   "execution_count": 186,
   "metadata": {},
   "outputs": [
    {
     "data": {
      "text/plain": [
       "array([[ 2,  5],\n",
       "       [ 7, 11]])"
      ]
     },
     "execution_count": 186,
     "metadata": {},
     "output_type": "execute_result"
    }
   ],
   "source": [
    "a[l]"
   ]
  },
  {
   "cell_type": "code",
   "execution_count": 188,
   "metadata": {},
   "outputs": [],
   "source": [
    "s = np.array( [i,j] )"
   ]
  },
  {
   "cell_type": "code",
   "execution_count": 189,
   "metadata": {},
   "outputs": [
    {
     "data": {
      "text/plain": [
       "array([[[0, 1],\n",
       "        [1, 2]],\n",
       "\n",
       "       [[2, 1],\n",
       "        [3, 3]]])"
      ]
     },
     "execution_count": 189,
     "metadata": {},
     "output_type": "execute_result"
    }
   ],
   "source": [
    "s"
   ]
  },
  {
   "cell_type": "code",
   "execution_count": 190,
   "metadata": {},
   "outputs": [
    {
     "ename": "IndexError",
     "evalue": "index 3 is out of bounds for axis 0 with size 3",
     "output_type": "error",
     "traceback": [
      "\u001b[1;31m---------------------------------------------------------------------------\u001b[0m",
      "\u001b[1;31mIndexError\u001b[0m                                Traceback (most recent call last)",
      "\u001b[1;32m<ipython-input-190-c057dc68e5fe>\u001b[0m in \u001b[0;36m<module>\u001b[1;34m()\u001b[0m\n\u001b[1;32m----> 1\u001b[1;33m \u001b[0ma\u001b[0m\u001b[1;33m[\u001b[0m\u001b[0ms\u001b[0m\u001b[1;33m]\u001b[0m\u001b[1;33m\u001b[0m\u001b[0m\n\u001b[0m",
      "\u001b[1;31mIndexError\u001b[0m: index 3 is out of bounds for axis 0 with size 3"
     ]
    }
   ],
   "source": [
    "a[s]"
   ]
  },
  {
   "cell_type": "code",
   "execution_count": 191,
   "metadata": {},
   "outputs": [
    {
     "data": {
      "text/plain": [
       "array([[ 2,  5],\n",
       "       [ 7, 11]])"
      ]
     },
     "execution_count": 191,
     "metadata": {},
     "output_type": "execute_result"
    }
   ],
   "source": [
    "a[tuple(s)]"
   ]
  },
  {
   "cell_type": "code",
   "execution_count": 192,
   "metadata": {},
   "outputs": [
    {
     "data": {
      "text/plain": [
       "(array([[0, 1],\n",
       "        [1, 2]]), array([[2, 1],\n",
       "        [3, 3]]))"
      ]
     },
     "execution_count": 192,
     "metadata": {},
     "output_type": "execute_result"
    }
   ],
   "source": [
    "tuple(s)"
   ]
  },
  {
   "cell_type": "markdown",
   "metadata": {},
   "source": [
    "## 时间相关"
   ]
  },
  {
   "cell_type": "code",
   "execution_count": 193,
   "metadata": {},
   "outputs": [],
   "source": [
    "time = np.linspace(20, 145, 5)"
   ]
  },
  {
   "cell_type": "code",
   "execution_count": 194,
   "metadata": {},
   "outputs": [
    {
     "data": {
      "text/plain": [
       "array([ 20.  ,  51.25,  82.5 , 113.75, 145.  ])"
      ]
     },
     "execution_count": 194,
     "metadata": {},
     "output_type": "execute_result"
    }
   ],
   "source": [
    "time"
   ]
  },
  {
   "cell_type": "code",
   "execution_count": 195,
   "metadata": {},
   "outputs": [],
   "source": [
    "data = np.sin(np.arange(20)).reshape(5,4)      # 4 time-dependent serie"
   ]
  },
  {
   "cell_type": "code",
   "execution_count": 196,
   "metadata": {},
   "outputs": [
    {
     "data": {
      "text/plain": [
       "array([[ 0.        ,  0.84147098,  0.90929743,  0.14112001],\n",
       "       [-0.7568025 , -0.95892427, -0.2794155 ,  0.6569866 ],\n",
       "       [ 0.98935825,  0.41211849, -0.54402111, -0.99999021],\n",
       "       [-0.53657292,  0.42016704,  0.99060736,  0.65028784],\n",
       "       [-0.28790332, -0.96139749, -0.75098725,  0.14987721]])"
      ]
     },
     "execution_count": 196,
     "metadata": {},
     "output_type": "execute_result"
    }
   ],
   "source": [
    "data"
   ]
  },
  {
   "cell_type": "code",
   "execution_count": 197,
   "metadata": {},
   "outputs": [],
   "source": [
    "ind = data.argmax(axis=0)                  # index of the maxima for each series"
   ]
  },
  {
   "cell_type": "code",
   "execution_count": 198,
   "metadata": {},
   "outputs": [
    {
     "data": {
      "text/plain": [
       "array([2, 0, 3, 1], dtype=int64)"
      ]
     },
     "execution_count": 198,
     "metadata": {},
     "output_type": "execute_result"
    }
   ],
   "source": [
    "ind"
   ]
  },
  {
   "cell_type": "code",
   "execution_count": 200,
   "metadata": {},
   "outputs": [
    {
     "name": "stdout",
     "output_type": "stream",
     "text": [
      "Help on built-in function argmax:\n",
      "\n",
      "argmax(...) method of numpy.ndarray instance\n",
      "    a.argmax(axis=None, out=None)\n",
      "    \n",
      "    Return indices of the maximum values along the given axis.\n",
      "    \n",
      "    Refer to `numpy.argmax` for full documentation.\n",
      "    \n",
      "    See Also\n",
      "    --------\n",
      "    numpy.argmax : equivalent function\n",
      "\n"
     ]
    }
   ],
   "source": [
    "help(data.argmax)"
   ]
  },
  {
   "cell_type": "code",
   "execution_count": 201,
   "metadata": {},
   "outputs": [],
   "source": [
    "max_value = data.max(axis=0)"
   ]
  },
  {
   "cell_type": "code",
   "execution_count": 202,
   "metadata": {},
   "outputs": [
    {
     "data": {
      "text/plain": [
       "array([0.98935825, 0.84147098, 0.99060736, 0.6569866 ])"
      ]
     },
     "execution_count": 202,
     "metadata": {},
     "output_type": "execute_result"
    }
   ],
   "source": [
    "max_value"
   ]
  },
  {
   "cell_type": "code",
   "execution_count": 203,
   "metadata": {},
   "outputs": [],
   "source": [
    "max_index = data.argmax(axis=0)"
   ]
  },
  {
   "cell_type": "code",
   "execution_count": 204,
   "metadata": {},
   "outputs": [
    {
     "data": {
      "text/plain": [
       "array([2, 0, 3, 1], dtype=int64)"
      ]
     },
     "execution_count": 204,
     "metadata": {},
     "output_type": "execute_result"
    }
   ],
   "source": [
    "max_index"
   ]
  },
  {
   "cell_type": "code",
   "execution_count": 207,
   "metadata": {},
   "outputs": [
    {
     "data": {
      "text/plain": [
       "array([ 20.  ,  51.25,  82.5 , 113.75, 145.  ])"
      ]
     },
     "execution_count": 207,
     "metadata": {},
     "output_type": "execute_result"
    }
   ],
   "source": [
    "time"
   ]
  },
  {
   "cell_type": "code",
   "execution_count": 208,
   "metadata": {},
   "outputs": [
    {
     "data": {
      "text/plain": [
       "array([2, 0, 3, 1], dtype=int64)"
      ]
     },
     "execution_count": 208,
     "metadata": {},
     "output_type": "execute_result"
    }
   ],
   "source": [
    "ind"
   ]
  },
  {
   "cell_type": "code",
   "execution_count": 205,
   "metadata": {},
   "outputs": [],
   "source": [
    "time_max = time[ind]"
   ]
  },
  {
   "cell_type": "code",
   "execution_count": 206,
   "metadata": {},
   "outputs": [
    {
     "data": {
      "text/plain": [
       "array([ 82.5 ,  20.  , 113.75,  51.25])"
      ]
     },
     "execution_count": 206,
     "metadata": {},
     "output_type": "execute_result"
    }
   ],
   "source": [
    "time_max"
   ]
  },
  {
   "cell_type": "code",
   "execution_count": 210,
   "metadata": {},
   "outputs": [
    {
     "data": {
      "text/plain": [
       "array([[ 0.        ,  0.84147098,  0.90929743,  0.14112001],\n",
       "       [-0.7568025 , -0.95892427, -0.2794155 ,  0.6569866 ],\n",
       "       [ 0.98935825,  0.41211849, -0.54402111, -0.99999021],\n",
       "       [-0.53657292,  0.42016704,  0.99060736,  0.65028784],\n",
       "       [-0.28790332, -0.96139749, -0.75098725,  0.14987721]])"
      ]
     },
     "execution_count": 210,
     "metadata": {},
     "output_type": "execute_result"
    }
   ],
   "source": [
    "data"
   ]
  },
  {
   "cell_type": "code",
   "execution_count": 209,
   "metadata": {},
   "outputs": [],
   "source": [
    "data_max = data[ind, range(data.shape[1])] # => data[ind[0],0], data[ind[1],1]..."
   ]
  },
  {
   "cell_type": "code",
   "execution_count": 214,
   "metadata": {},
   "outputs": [
    {
     "data": {
      "text/plain": [
       "4"
      ]
     },
     "execution_count": 214,
     "metadata": {},
     "output_type": "execute_result"
    }
   ],
   "source": [
    "data.shape[1]"
   ]
  },
  {
   "cell_type": "code",
   "execution_count": 215,
   "metadata": {},
   "outputs": [
    {
     "data": {
      "text/plain": [
       "array([0.98935825, 0.84147098, 0.99060736, 0.6569866 ])"
      ]
     },
     "execution_count": 215,
     "metadata": {},
     "output_type": "execute_result"
    }
   ],
   "source": [
    "data_max"
   ]
  },
  {
   "cell_type": "code",
   "execution_count": 216,
   "metadata": {},
   "outputs": [
    {
     "data": {
      "text/plain": [
       "True"
      ]
     },
     "execution_count": 216,
     "metadata": {},
     "output_type": "execute_result"
    }
   ],
   "source": [
    "np.all(data_max == data.max(axis=0))"
   ]
  },
  {
   "cell_type": "code",
   "execution_count": 217,
   "metadata": {},
   "outputs": [],
   "source": [
    "list1= [1,2,3]"
   ]
  },
  {
   "cell_type": "code",
   "execution_count": 218,
   "metadata": {},
   "outputs": [
    {
     "data": {
      "text/plain": [
       "True"
      ]
     },
     "execution_count": 218,
     "metadata": {},
     "output_type": "execute_result"
    }
   ],
   "source": [
    "all(list1)"
   ]
  },
  {
   "cell_type": "code",
   "execution_count": 224,
   "metadata": {},
   "outputs": [
    {
     "data": {
      "text/plain": [
       "False"
      ]
     },
     "execution_count": 224,
     "metadata": {},
     "output_type": "execute_result"
    }
   ],
   "source": [
    "all([0,None,'',7])"
   ]
  },
  {
   "cell_type": "code",
   "execution_count": 227,
   "metadata": {},
   "outputs": [
    {
     "data": {
      "text/plain": [
       "True"
      ]
     },
     "execution_count": 227,
     "metadata": {},
     "output_type": "execute_result"
    }
   ],
   "source": [
    "any([0,None,'',7])"
   ]
  },
  {
   "cell_type": "code",
   "execution_count": 228,
   "metadata": {},
   "outputs": [
    {
     "data": {
      "text/plain": [
       "False"
      ]
     },
     "execution_count": 228,
     "metadata": {},
     "output_type": "execute_result"
    }
   ],
   "source": [
    "np.all([[True,False],[True,True]])"
   ]
  },
  {
   "cell_type": "code",
   "execution_count": 229,
   "metadata": {},
   "outputs": [
    {
     "data": {
      "text/plain": [
       "True"
      ]
     },
     "execution_count": 229,
     "metadata": {},
     "output_type": "execute_result"
    }
   ],
   "source": [
    "np.all([np.nan,2])"
   ]
  },
  {
   "cell_type": "code",
   "execution_count": 230,
   "metadata": {},
   "outputs": [
    {
     "data": {
      "text/plain": [
       "False"
      ]
     },
     "execution_count": 230,
     "metadata": {},
     "output_type": "execute_result"
    }
   ],
   "source": [
    "np.all([0,1])"
   ]
  },
  {
   "cell_type": "code",
   "execution_count": 231,
   "metadata": {},
   "outputs": [
    {
     "data": {
      "text/plain": [
       "True"
      ]
     },
     "execution_count": 231,
     "metadata": {},
     "output_type": "execute_result"
    }
   ],
   "source": [
    "np.all([2,1])"
   ]
  },
  {
   "cell_type": "code",
   "execution_count": 232,
   "metadata": {},
   "outputs": [
    {
     "data": {
      "text/plain": [
       "array([0.98935825, 0.84147098, 0.99060736, 0.6569866 ])"
      ]
     },
     "execution_count": 232,
     "metadata": {},
     "output_type": "execute_result"
    }
   ],
   "source": [
    "data.max(axis=0)"
   ]
  },
  {
   "cell_type": "code",
   "execution_count": 233,
   "metadata": {},
   "outputs": [
    {
     "data": {
      "text/plain": [
       "array([0.98935825, 0.84147098, 0.99060736, 0.6569866 ])"
      ]
     },
     "execution_count": 233,
     "metadata": {},
     "output_type": "execute_result"
    }
   ],
   "source": [
    "data_max"
   ]
  },
  {
   "cell_type": "code",
   "execution_count": 234,
   "metadata": {},
   "outputs": [],
   "source": [
    "a = np.arange(5)"
   ]
  },
  {
   "cell_type": "code",
   "execution_count": 235,
   "metadata": {},
   "outputs": [
    {
     "data": {
      "text/plain": [
       "array([0, 1, 2, 3, 4])"
      ]
     },
     "execution_count": 235,
     "metadata": {},
     "output_type": "execute_result"
    }
   ],
   "source": [
    "a"
   ]
  },
  {
   "cell_type": "code",
   "execution_count": 236,
   "metadata": {},
   "outputs": [],
   "source": [
    "a[[1,3,4]] = 0"
   ]
  },
  {
   "cell_type": "code",
   "execution_count": 237,
   "metadata": {},
   "outputs": [
    {
     "data": {
      "text/plain": [
       "array([0, 0, 2, 0, 0])"
      ]
     },
     "execution_count": 237,
     "metadata": {},
     "output_type": "execute_result"
    }
   ],
   "source": [
    "a"
   ]
  },
  {
   "cell_type": "code",
   "execution_count": 248,
   "metadata": {},
   "outputs": [],
   "source": [
    "a = np.arange(5)"
   ]
  },
  {
   "cell_type": "code",
   "execution_count": 249,
   "metadata": {},
   "outputs": [
    {
     "data": {
      "text/plain": [
       "array([0, 1, 2, 3, 4])"
      ]
     },
     "execution_count": 249,
     "metadata": {},
     "output_type": "execute_result"
    }
   ],
   "source": [
    "a"
   ]
  },
  {
   "cell_type": "code",
   "execution_count": 268,
   "metadata": {},
   "outputs": [],
   "source": [
    "a[[0,1,2]]=[100,200,300]"
   ]
  },
  {
   "cell_type": "code",
   "execution_count": 269,
   "metadata": {},
   "outputs": [
    {
     "data": {
      "text/plain": [
       "array([100, 200, 300,   3,   4])"
      ]
     },
     "execution_count": 269,
     "metadata": {},
     "output_type": "execute_result"
    }
   ],
   "source": [
    "a"
   ]
  },
  {
   "cell_type": "code",
   "execution_count": 270,
   "metadata": {},
   "outputs": [],
   "source": [
    "a[[0,0,2]]=[100,200,300]"
   ]
  },
  {
   "cell_type": "code",
   "execution_count": 271,
   "metadata": {},
   "outputs": [
    {
     "data": {
      "text/plain": [
       "array([200, 200, 300,   3,   4])"
      ]
     },
     "execution_count": 271,
     "metadata": {},
     "output_type": "execute_result"
    }
   ],
   "source": [
    "a"
   ]
  },
  {
   "cell_type": "code",
   "execution_count": 284,
   "metadata": {},
   "outputs": [],
   "source": [
    "a = np.arange(5)"
   ]
  },
  {
   "cell_type": "code",
   "execution_count": 285,
   "metadata": {},
   "outputs": [
    {
     "data": {
      "text/plain": [
       "array([0, 1, 2, 3, 4])"
      ]
     },
     "execution_count": 285,
     "metadata": {},
     "output_type": "execute_result"
    }
   ],
   "source": [
    "a"
   ]
  },
  {
   "cell_type": "code",
   "execution_count": 286,
   "metadata": {},
   "outputs": [],
   "source": [
    "a[[0,0,2]]+=1"
   ]
  },
  {
   "cell_type": "code",
   "execution_count": 287,
   "metadata": {},
   "outputs": [
    {
     "data": {
      "text/plain": [
       "array([1, 1, 3, 3, 4])"
      ]
     },
     "execution_count": 287,
     "metadata": {},
     "output_type": "execute_result"
    }
   ],
   "source": [
    "a"
   ]
  },
  {
   "cell_type": "code",
   "execution_count": null,
   "metadata": {},
   "outputs": [],
   "source": []
  },
  {
   "cell_type": "code",
   "execution_count": null,
   "metadata": {},
   "outputs": [],
   "source": []
  }
 ],
 "metadata": {
  "kernelspec": {
   "display_name": "Python 3",
   "language": "python",
   "name": "python3"
  },
  "language_info": {
   "codemirror_mode": {
    "name": "ipython",
    "version": 3
   },
   "file_extension": ".py",
   "mimetype": "text/x-python",
   "name": "python",
   "nbconvert_exporter": "python",
   "pygments_lexer": "ipython3",
   "version": "3.6.4"
  }
 },
 "nbformat": 4,
 "nbformat_minor": 2
}
