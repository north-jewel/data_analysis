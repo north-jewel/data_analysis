{
 "cells": [
  {
   "cell_type": "code",
   "execution_count": 1,
   "metadata": {},
   "outputs": [],
   "source": [
    "#This is a brief introduction of how to use matplotlib :) \n",
    "#Information collected from https://matplotlib.org/"
   ]
  },
  {
   "cell_type": "code",
   "execution_count": 2,
   "metadata": {},
   "outputs": [],
   "source": [
    "import matplotlib \n",
    "\n",
    "\n",
    "import matplotlib.pyplot as plt\n",
    "import numpy as np\n",
    "import pandas as pd\n",
    "from IPython.display import Image\n",
    "from IPython.display import *\n",
    "\n",
    "%matplotlib inline"
   ]
  },
  {
   "cell_type": "markdown",
   "metadata": {},
   "source": [
    "## Installation"
   ]
  },
  {
   "cell_type": "code",
   "execution_count": 3,
   "metadata": {},
   "outputs": [],
   "source": [
    "#This should be included in the anacoda\n",
    "#otherwise...  https://matplotlib.org/users/installing.html"
   ]
  },
  {
   "cell_type": "markdown",
   "metadata": {},
   "source": [
    "## Version"
   ]
  },
  {
   "cell_type": "code",
   "execution_count": 4,
   "metadata": {},
   "outputs": [],
   "source": [
    "#2.1.1 Latest stable version.\n",
    "#2.x Latest git master (unstable)\n",
    "#2.0.2 Previous stable version\n",
    "#1.5.3 Older stable version"
   ]
  },
  {
   "cell_type": "code",
   "execution_count": 5,
   "metadata": {},
   "outputs": [
    {
     "data": {
      "text/plain": [
       "'2.2.2'"
      ]
     },
     "execution_count": 5,
     "metadata": {},
     "output_type": "execute_result"
    }
   ],
   "source": [
    "import matplotlib\n",
    "matplotlib.__version__"
   ]
  },
  {
   "cell_type": "markdown",
   "metadata": {
    "collapsed": true
   },
   "source": [
    "## Update"
   ]
  },
  {
   "cell_type": "code",
   "execution_count": 6,
   "metadata": {},
   "outputs": [],
   "source": [
    "# pip install --upgrade matplotlib"
   ]
  },
  {
   "cell_type": "markdown",
   "metadata": {
    "collapsed": true
   },
   "source": [
    "## simple plot"
   ]
  },
  {
   "cell_type": "code",
   "execution_count": null,
   "metadata": {},
   "outputs": [],
   "source": [
    "pd.set_option('display.mpl_style', 'default')\n",
    "#plt.rcParams['figure.figsize'] = (15, 3)\n",
    "#plt.rcParams['font.family'] = 'sans-serif'\n",
    "\n",
    "weather_2012_final = pd.read_csv('./data/weather_2012.csv', index_col='Date/Time')\n",
    "weather_2012_final['Temp (C)'].plot(figsize=(15, 6))"
   ]
  },
  {
   "cell_type": "code",
   "execution_count": null,
   "metadata": {},
   "outputs": [],
   "source": [
    "print(weather_2012_final.shape)\n",
    "weather_2012_final.head(5)"
   ]
  },
  {
   "cell_type": "code",
   "execution_count": null,
   "metadata": {},
   "outputs": [],
   "source": [
    "weather_2012_final.columns"
   ]
  },
  {
   "cell_type": "code",
   "execution_count": null,
   "metadata": {},
   "outputs": [],
   "source": [
    "weather_2012_final.describe()"
   ]
  },
  {
   "cell_type": "markdown",
   "metadata": {},
   "source": [
    "## Histogram"
   ]
  },
  {
   "cell_type": "code",
   "execution_count": null,
   "metadata": {},
   "outputs": [],
   "source": [
    "# Fixing random state for reproducibility\n",
    "np.random.seed(2018)\n",
    "\n",
    "mu, sigma = 100, 15\n",
    "x = mu + sigma * np.random.randn(10000)\n",
    "\n",
    "# the histogram of the data\n",
    "n, bins, patches = plt.hist(x, 50, normed=1, facecolor='b', alpha=0.5)\n",
    "\n",
    "print(\"n=\",n)\n",
    "print(\"bins=\",bins)\n",
    "\n",
    "\n",
    "plt.xlabel('Smarts')\n",
    "plt.ylabel('Probability')\n",
    "plt.title('Histogram of IQ')\n",
    "plt.text(60, .025, r'$\\mu=100,\\ \\sigma=15$')\n",
    "plt.axis([40, 160, 0, 0.03])\n",
    "plt.grid(True)\n",
    "plt.show()"
   ]
  },
  {
   "cell_type": "code",
   "execution_count": null,
   "metadata": {},
   "outputs": [],
   "source": [
    "# the histogram of the data\n",
    "n, bins, patches = plt.hist(weather_2012_final['Temp (C)'], 5, facecolor='g', alpha=0.5)\n",
    "\n",
    "plt.xlabel('Temperture in C')\n",
    "plt.ylabel('Counts of Days')\n",
    "plt.title('Histogram of Temperture in year 2012')\n",
    "\n",
    "plt.grid(True)\n",
    "plt.show()"
   ]
  },
  {
   "cell_type": "code",
   "execution_count": null,
   "metadata": {},
   "outputs": [],
   "source": [
    "print(n)\n",
    "print(bins)"
   ]
  },
  {
   "cell_type": "markdown",
   "metadata": {},
   "source": [
    "## What is patches?"
   ]
  },
  {
   "cell_type": "code",
   "execution_count": null,
   "metadata": {},
   "outputs": [],
   "source": [
    "x = np.random.normal(size=100)\n",
    "n, bins, patches = plt.hist(x)\n",
    "\n",
    "plt.setp(patches[0], 'facecolor', 'r',alpha=0.5)\n",
    "plt.show()"
   ]
  },
  {
   "cell_type": "markdown",
   "metadata": {
    "collapsed": true
   },
   "source": [
    "## Scatter Plot"
   ]
  },
  {
   "cell_type": "code",
   "execution_count": null,
   "metadata": {},
   "outputs": [],
   "source": [
    "N = 50\n",
    "x = np.random.rand(N)\n",
    "y = np.random.rand(N)\n",
    "colors = np.random.rand(N)\n",
    "area = np.pi * (15 * np.random.rand(N))**2  # 0 to 15 point radii"
   ]
  },
  {
   "cell_type": "code",
   "execution_count": null,
   "metadata": {},
   "outputs": [],
   "source": [
    "np.random.rand?"
   ]
  },
  {
   "cell_type": "code",
   "execution_count": null,
   "metadata": {},
   "outputs": [],
   "source": [
    "# notice np.random.randn [-1,1] and half open np.random.rand [0,1)"
   ]
  },
  {
   "cell_type": "code",
   "execution_count": null,
   "metadata": {},
   "outputs": [],
   "source": [
    "# Show\n",
    "plt.scatter(x, y, s=area, c=colors, alpha=0.5)\n",
    "plt.show()"
   ]
  },
  {
   "cell_type": "code",
   "execution_count": null,
   "metadata": {},
   "outputs": [],
   "source": [
    "weather_2012_final.columns"
   ]
  },
  {
   "cell_type": "code",
   "execution_count": null,
   "metadata": {},
   "outputs": [],
   "source": [
    "# Show\n",
    "N=weather_2012_final.shape[0]\n",
    "colors = np.random.rand(N)\n",
    "plt.scatter(weather_2012_final['Temp (C)'],weather_2012_final['Dew Point Temp (C)'],c=colors,alpha=0.5)\n",
    "plt.xlabel('Temp (C)')\n",
    "plt.ylabel('Dew Point Temp (C)')\n",
    "plt.title('Histogram of Temperture in year 2012')\n",
    "plt.show()"
   ]
  },
  {
   "cell_type": "markdown",
   "metadata": {
    "collapsed": true
   },
   "source": [
    "## Pie chart"
   ]
  },
  {
   "cell_type": "code",
   "execution_count": 8,
   "metadata": {},
   "outputs": [],
   "source": [
    "\n",
    "labels = 'Cats', 'Birds', 'Dogs', 'Pandas'\n",
    "sizes = [25, 35, 30, 10]\n",
    "explode = (0, 0.08, 0, 0)"
   ]
  },
  {
   "cell_type": "code",
   "execution_count": 14,
   "metadata": {},
   "outputs": [
    {
     "data": {
      "image/png": "[encoded data removed]",
      "text/plain": [
       "<Figure size 432x288 with 1 Axes>"
      ]
     },
     "metadata": {},
     "output_type": "display_data"
    }
   ],
   "source": [
    "fig1, ax1 = plt.subplots()\n",
    "\n",
    "plt.pie(sizes, explode=explode, labels=labels, autopct='%1.2f%%',\n",
    "        shadow=False, startangle=90)\n",
    "\n",
    "ax1.axis('equal')  # Equal aspect ratio ensures that pie is drawn as a circle.\n",
    "# Show\n",
    "plt.show()"
   ]
  },
  {
   "cell_type": "markdown",
   "metadata": {
    "collapsed": true
   },
   "source": [
    "## About Sub-plots"
   ]
  },
  {
   "cell_type": "code",
   "execution_count": 16,
   "metadata": {},
   "outputs": [
    {
     "data": {
      "image/png": "[encoded data removed]",
      "text/plain": [
       "<Figure size 432x288 with 1 Axes>"
      ]
     },
     "metadata": {},
     "output_type": "display_data"
    },
    {
     "data": {
      "text/plain": [
       "<matplotlib.axes._subplots.AxesSubplot at 0x2307d136c18>"
      ]
     },
     "execution_count": 16,
     "metadata": {},
     "output_type": "execute_result"
    },
    {
     "data": {
      "image/png": "[encoded data removed]",
      "text/plain": [
       "<Figure size 432x288 with 2 Axes>"
      ]
     },
     "metadata": {},
     "output_type": "display_data"
    }
   ],
   "source": [
    "# plot a line, implicitly creating a subplot(111)\n",
    "plt.plot([1,2,3])\n",
    "plt.show()\n",
    "# now create a subplot which represents the top plot of a grid\n",
    "# with 2 rows and 1 column. Since this subplot will overlap the\n",
    "# first, the plot (and its axes) previously created, will be removed\n",
    "plt.subplot(211)\n",
    "plt.plot(range(12))\n",
    "plt.subplot(212, facecolor='y') # creates 2nd subplot with yellow background"
   ]
  },
  {
   "cell_type": "code",
   "execution_count": null,
   "metadata": {},
   "outputs": [],
   "source": [
    "plt.axes?"
   ]
  },
  {
   "cell_type": "code",
   "execution_count": 18,
   "metadata": {},
   "outputs": [
    {
     "name": "stdout",
     "output_type": "stream",
     "text": [
      "-0.019068305987968593 0.03296239645726098\n"
     ]
    },
    {
     "name": "stderr",
     "output_type": "stream",
     "text": [
      "D:\\anacondainstall\\lib\\site-packages\\matplotlib\\axes\\_axes.py:6462: UserWarning: The 'normed' kwarg is deprecated, and has been replaced by the 'density' kwarg.\n",
      "  warnings.warn(\"The 'normed' kwarg is deprecated, and has been \"\n"
     ]
    },
    {
     "data": {
      "image/png": "[encoded data removed]",
      "text/plain": [
       "<Figure size 432x288 with 3 Axes>"
      ]
     },
     "metadata": {},
     "output_type": "display_data"
    }
   ],
   "source": [
    "# Fixing random state for reproducibility\n",
    "np.random.seed(19680801)\n",
    "\n",
    "\n",
    "# create some data to use for the plot\n",
    "#*rect* = [left, bottom, width, height] \n",
    "\n",
    "dt = 0.001\n",
    "t = np.arange(0.0, 10.0, dt)\n",
    "r = np.exp(-t[:1000] / 0.05)  # impulse response\n",
    "x = np.random.randn(len(t))\n",
    "s = np.convolve(x, r)[:len(x)] * dt  # colored noise\n",
    "\n",
    "# the main axes is subplot(111) by default\n",
    "plt.plot(t, s)\n",
    "plt.axis([0, 1, 1.1 * np.min(s), 2 * np.max(s)])\n",
    "print(1.1*np.min(s),2*np.max(s))\n",
    "plt.xlabel('time (s)')\n",
    "plt.ylabel('current (nA)')\n",
    "plt.title('Gaussian colored noise')\n",
    "\n",
    "# this is an inset axes over the main axes\n",
    "a = plt.axes([.65, .6, .2, .2], facecolor='k')\n",
    "n, bins, patches = plt.hist(s, 40, normed=1)\n",
    "plt.title('Probability')\n",
    "plt.xticks([])\n",
    "plt.yticks([])\n",
    "\n",
    "# this is another inset axes over the main axes\n",
    "a = plt.axes([0.2, 0.6, .2, .2], facecolor='k')\n",
    "plt.plot(t[:len(r)], r)\n",
    "plt.title('Impulse response')\n",
    "plt.xlim(0, 0.2)\n",
    "plt.xticks([])\n",
    "plt.yticks([])\n",
    "\n",
    "plt.show()"
   ]
  },
  {
   "cell_type": "code",
   "execution_count": null,
   "metadata": {},
   "outputs": [],
   "source": [
    "# gif referring from Brian Ambergderivative work: \n",
    "#CC BY-SA 3.0，https://commons.wikimedia.org/w/index.php?curid=11003835\n",
    "\n",
    "with open('./Convolution_of_box_signal_with_itself2.gif','rb') as f:\n",
    "    display(Image(data=f.read(), format='png'))"
   ]
  },
  {
   "cell_type": "markdown",
   "metadata": {
    "collapsed": true
   },
   "source": [
    "## Radar chart"
   ]
  },
  {
   "cell_type": "code",
   "execution_count": null,
   "metadata": {},
   "outputs": [],
   "source": [
    "plt.Circle((0.5, 0.5), 0.5)\n",
    "plt.show()"
   ]
  },
  {
   "cell_type": "code",
   "execution_count": null,
   "metadata": {},
   "outputs": [],
   "source": [
    "from matplotlib.path import Path\n",
    "from matplotlib.spines import Spine\n",
    "from matplotlib.projections.polar import PolarAxes\n",
    "from matplotlib.projections import register_projection\n",
    "\n",
    "\n",
    "def radar_factory(num_vars, frame='circle'):\n",
    "    \"\"\"Create a radar chart with `num_vars` axes.\n",
    "\n",
    "    This function creates a RadarAxes projection and registers it.\n",
    "\n",
    "    Parameters\n",
    "    ----------\n",
    "    num_vars : int\n",
    "        Number of variables for radar chart.\n",
    "    frame : {'circle' | 'polygon'}\n",
    "        Shape of frame surrounding axes.\n",
    "\n",
    "    \"\"\"\n",
    "    # calculate evenly-spaced axis angles\n",
    "    theta = np.linspace(0, 2*np.pi, num_vars, endpoint=False)\n",
    "\n",
    "    def draw_poly_patch(self):\n",
    "        # rotate theta such that the first axis is at the top\n",
    "        verts = unit_poly_verts(theta + np.pi / 2)\n",
    "        return plt.Polygon(verts, closed=True, edgecolor='k')\n",
    "\n",
    "    def draw_circle_patch(self):\n",
    "        # unit circle centered on (0.5, 0.5)\n",
    "        return plt.Circle((0.5, 0.5), 0.5)\n",
    "\n",
    "    patch_dict = {'polygon': draw_poly_patch, 'circle': draw_circle_patch}\n",
    "   \n",
    "    if frame not in patch_dict:\n",
    "        raise ValueError('unknown value for `frame`: %s' % frame)\n",
    "\n",
    "    class RadarAxes(PolarAxes):\n",
    "\n",
    "        name = 'radar'\n",
    "        # use 1 line segment to connect specified points\n",
    "        RESOLUTION = 1\n",
    "        # define draw_frame method\n",
    "        \n",
    "        draw_patch = patch_dict[frame]\n",
    "\n",
    "        def __init__(self, *args, **kwargs):\n",
    "            super(RadarAxes, self).__init__(*args, **kwargs)\n",
    "            # rotate plot such that the first axis is at the top\n",
    "            self.set_theta_zero_location('N')\n",
    "\n",
    "        def fill(self, *args, **kwargs):\n",
    "            \"\"\"Override fill so that line is closed by default\"\"\"\n",
    "            closed = kwargs.pop('closed', True)\n",
    "            return super(RadarAxes, self).fill(closed=closed, *args, **kwargs)\n",
    "\n",
    "        def plot(self, *args, **kwargs):\n",
    "            \"\"\"Override plot so that line is closed by default\"\"\"\n",
    "            lines = super(RadarAxes, self).plot(*args, **kwargs)\n",
    "            for line in lines:\n",
    "                self._close_line(line)\n",
    "\n",
    "        def _close_line(self, line):\n",
    "            x, y = line.get_data()\n",
    "            # FIXME: markers at x[0], y[0] get doubled-up\n",
    "            if x[0] != x[-1]:\n",
    "                x = np.concatenate((x, [x[0]]))\n",
    "                y = np.concatenate((y, [y[0]]))\n",
    "                line.set_data(x, y)\n",
    "\n",
    "        def set_varlabels(self, labels):\n",
    "            self.set_thetagrids(np.degrees(theta), labels)\n",
    "\n",
    "        def _gen_axes_patch(self):\n",
    "            return self.draw_patch()\n",
    "\n",
    "        def _gen_axes_spines(self):\n",
    "            if frame == 'circle':\n",
    "                return PolarAxes._gen_axes_spines(self)\n",
    "            # The following is a hack to get the spines (i.e. the axes frame)\n",
    "            # to draw correctly for a polygon frame.\n",
    "\n",
    "            # spine_type must be 'left', 'right', 'top', 'bottom', or `circle`.\n",
    "            spine_type = 'circle'\n",
    "            verts = unit_poly_verts(theta + np.pi / 2)\n",
    "            # close off polygon by repeating first vertex\n",
    "            verts.append(verts[0])\n",
    "            path = Path(verts)\n",
    "\n",
    "            spine = Spine(self, spine_type, path)\n",
    "            spine.set_transform(self.transAxes)\n",
    "            return {'polar': spine}\n",
    "\n",
    "    register_projection(RadarAxes)\n",
    "    return theta\n",
    "\n",
    "\n",
    "def unit_poly_verts(theta):\n",
    "    \"\"\"Return vertices of polygon for subplot axes.\n",
    "\n",
    "    This polygon is circumscribed by a unit circle centered at (0.5, 0.5)\n",
    "    \"\"\"\n",
    "    x0, y0, r = [0.5] * 3\n",
    "    verts = [(r*np.cos(t) + x0, r*np.sin(t) + y0) for t in theta]\n",
    "    return verts\n",
    "\n",
    "\n",
    "def example_data():\n",
    "    # The following data is from the Denver Aerosol Sources and Health study.\n",
    "    # See  doi:10.1016/j.atmosenv.2008.12.017\n",
    "    #\n",
    "    # The data are pollution source profile estimates for five modeled\n",
    "    # pollution sources (e.g., cars, wood-burning, etc) that emit 7-9 chemical\n",
    "    # species. The radar charts are experimented with here to see if we can\n",
    "    # nicely visualize how the modeled source profiles change across four\n",
    "    # scenarios:\n",
    "    #  1) No gas-phase species present, just seven particulate counts on\n",
    "    #     Sulfate\n",
    "    #     Nitrate\n",
    "    #     Elemental Carbon (EC)\n",
    "    #     Organic Carbon fraction 1 (OC)\n",
    "    #     Organic Carbon fraction 2 (OC2)\n",
    "    #     Organic Carbon fraction 3 (OC3)\n",
    "    #     Pyrolized Organic Carbon (OP)\n",
    "    #  2)Inclusion of gas-phase specie carbon monoxide (CO)\n",
    "    #  3)Inclusion of gas-phase specie ozone (O3).\n",
    "    #  4)Inclusion of both gas-phase species is present...\n",
    "    data = [\n",
    "        ['Sulfate', 'Nitrate', 'EC', 'OC1', 'OC2', 'OC3', 'OP', 'CO', 'O3'],\n",
    "        ('Basecase', [\n",
    "            [0.88, 0.01, 0.03, 0.03, 0.00, 0.06, 0.01, 0.00, 0.00],\n",
    "            [0.07, 0.95, 0.04, 0.05, 0.00, 0.02, 0.01, 0.00, 0.00],\n",
    "            [0.01, 0.02, 0.85, 0.19, 0.05, 0.10, 0.00, 0.00, 0.00],\n",
    "            [0.02, 0.01, 0.07, 0.01, 0.21, 0.12, 0.98, 0.00, 0.00],\n",
    "            [0.01, 0.01, 0.02, 0.71, 0.74, 0.70, 0.00, 0.00, 0.00]]),\n",
    "        ('With CO', [\n",
    "            [0.88, 0.02, 0.02, 0.02, 0.00, 0.05, 0.00, 0.05, 0.00],\n",
    "            [0.08, 0.94, 0.04, 0.02, 0.00, 0.01, 0.12, 0.04, 0.00],\n",
    "            [0.01, 0.01, 0.79, 0.10, 0.00, 0.05, 0.00, 0.31, 0.00],\n",
    "            [0.00, 0.02, 0.03, 0.38, 0.31, 0.31, 0.00, 0.59, 0.00],\n",
    "            [0.02, 0.02, 0.11, 0.47, 0.69, 0.58, 0.88, 0.00, 0.00]]),\n",
    "        ('With O3', [\n",
    "            [0.89, 0.01, 0.07, 0.00, 0.00, 0.05, 0.00, 0.00, 0.03],\n",
    "            [0.07, 0.95, 0.05, 0.04, 0.00, 0.02, 0.12, 0.00, 0.00],\n",
    "            [0.01, 0.02, 0.86, 0.27, 0.16, 0.19, 0.00, 0.00, 0.00],\n",
    "            [0.01, 0.03, 0.00, 0.32, 0.29, 0.27, 0.00, 0.00, 0.95],\n",
    "            [0.02, 0.00, 0.03, 0.37, 0.56, 0.47, 0.87, 0.00, 0.00]]),\n",
    "        ('CO & O3', [\n",
    "            [0.87, 0.01, 0.08, 0.00, 0.00, 0.04, 0.00, 0.00, 0.01],\n",
    "            [0.09, 0.95, 0.02, 0.03, 0.00, 0.01, 0.13, 0.06, 0.00],\n",
    "            [0.01, 0.02, 0.71, 0.24, 0.13, 0.16, 0.00, 0.50, 0.00],\n",
    "            [0.01, 0.03, 0.00, 0.28, 0.24, 0.23, 0.00, 0.44, 0.88],\n",
    "            [0.02, 0.00, 0.18, 0.45, 0.64, 0.55, 0.86, 0.00, 0.16]])\n",
    "    ]\n",
    "    return data\n",
    "\n",
    "\n",
    "if __name__ == '__main__':\n",
    "    N = 9\n",
    "    theta = radar_factory(N, frame='polygon')\n",
    "\n",
    "    data = example_data()\n",
    "    spoke_labels = data.pop(0)\n",
    "\n",
    "    fig, axes = plt.subplots(figsize=(9, 9), nrows=2, ncols=2,\n",
    "                             subplot_kw=dict(projection='radar'))\n",
    "    fig.subplots_adjust(wspace=0.25, hspace=0.20, top=0.85, bottom=0.05)\n",
    "\n",
    "    colors = ['b', 'r', 'g', 'm', 'y']\n",
    "    # Plot the four cases from the example data on separate axes\n",
    "    for ax, (title, case_data) in zip(axes.flatten(), data):\n",
    "        ax.set_rgrids([0.2, 0.4, 0.6, 0.8])\n",
    "        ax.set_title(title, weight='bold', size='medium', position=(0.5, 1.1),\n",
    "                     horizontalalignment='center', verticalalignment='center')\n",
    "        for d, color in zip(case_data, colors):\n",
    "            ax.plot(theta, d, color=color)\n",
    "            ax.fill(theta, d, facecolor=color, alpha=0.4)\n",
    "        ax.set_varlabels(spoke_labels)\n",
    "\n",
    "    # add legend relative to top-left plot\n",
    "    ax = axes[0, 0]\n",
    "    labels = ('Factor 1', 'Factor 2', 'Factor 3', 'Factor 4', 'Factor 5')\n",
    "    legend = ax.legend(labels, loc=(0.9, .95),\n",
    "                       labelspacing=0.1, fontsize='small')\n",
    "\n",
    "    fig.text(0.5, 0.965, '5-Factor Solution Profiles Across Four Scenarios',\n",
    "             horizontalalignment='center', color='black', weight='bold',\n",
    "             size='large')\n",
    "\n",
    "    plt.show()"
   ]
  },
  {
   "cell_type": "markdown",
   "metadata": {
    "collapsed": true
   },
   "source": [
    "## 3D plot"
   ]
  },
  {
   "cell_type": "code",
   "execution_count": null,
   "metadata": {},
   "outputs": [],
   "source": [
    "import numpy as np\n",
    "import matplotlib.pyplot as plt\n",
    "from matplotlib import cm\n",
    "from mpl_toolkits.mplot3d import Axes3D\n",
    "\n",
    "X = np.arange(-5, 5, 0.25)\n",
    "Y = np.arange(-5, 5, 0.25)\n",
    "X, Y = np.meshgrid(X, Y)\n",
    "R = np.sqrt(X**2 + Y**2)\n",
    "Z = np.sin(R)\n",
    "\n",
    "fig = plt.figure()\n",
    "ax = Axes3D(fig)\n",
    "ax.plot_surface(X, Y, Z, rstride=1, cstride=1, cmap=cm.viridis)\n",
    "\n",
    "plt.show()"
   ]
  },
  {
   "cell_type": "markdown",
   "metadata": {
    "collapsed": true
   },
   "source": [
    "## What about Math Functions?"
   ]
  },
  {
   "cell_type": "code",
   "execution_count": null,
   "metadata": {},
   "outputs": [],
   "source": [
    "import numpy as np\n",
    "import matplotlib.pyplot as plt\n",
    "t = np.arange(0.0, 2.0, 0.01)\n",
    "s = np.sin(2*np.pi*t)\n",
    "\n",
    "plt.plot(t,s)\n",
    "plt.title(r'$\\alpha_i > \\beta_i$', fontsize=20)\n",
    "plt.text(1, -0.6, r'$\\sum_{i=0}^\\infty x_i$', fontsize=20)\n",
    "plt.text(0.6, 0.6, r'$\\mathcal{A}\\mathrm{sin}(2 \\omega t)$',\n",
    "         fontsize=20)\n",
    "plt.xlabel('time (s)')\n",
    "plt.ylabel('volts (mV)')\n",
    "plt.show()"
   ]
  },
  {
   "cell_type": "markdown",
   "metadata": {},
   "source": [
    "## What about Images?"
   ]
  },
  {
   "cell_type": "code",
   "execution_count": null,
   "metadata": {},
   "outputs": [],
   "source": [
    "from scipy.misc import imread, imresize\n",
    "import matplotlib.pyplot as plt\n",
    "%matplotlib inline\n",
    "\n",
    "img = imread('./data/dog.jpeg')\n",
    "img_tinted = img * [1, 1, 0.95]\n",
    "print(img.shape)\n",
    "\n",
    "img_tinted = imresize(img_tinted, (500,600))\n",
    "\n",
    "# Show the original image\n",
    "plt.subplot(1, 2, 1)\n",
    "plt.imshow(img)\n",
    "\n",
    "# Show the tinted image\n",
    "plt.subplot(1, 2, 2)\n",
    "\n",
    "# A slight gotcha with imshow is that it might give strange results\n",
    "# if presented with data that is not uint8. To work around this, we\n",
    "# explicitly cast the image to uint8 before displaying it.\n",
    "plt.imshow(np.uint8(img_tinted))\n",
    "plt.show()"
   ]
  },
  {
   "cell_type": "markdown",
   "metadata": {
    "collapsed": true
   },
   "source": [
    "## other fun things"
   ]
  },
  {
   "cell_type": "code",
   "execution_count": null,
   "metadata": {},
   "outputs": [],
   "source": [
    "## Visit examples from: https://matplotlib.org/gallery/index.html"
   ]
  },
  {
   "cell_type": "code",
   "execution_count": null,
   "metadata": {},
   "outputs": [],
   "source": []
  },
  {
   "cell_type": "code",
   "execution_count": null,
   "metadata": {},
   "outputs": [],
   "source": []
  },
  {
   "cell_type": "code",
   "execution_count": null,
   "metadata": {},
   "outputs": [],
   "source": []
  },
  {
   "cell_type": "code",
   "execution_count": null,
   "metadata": {},
   "outputs": [],
   "source": []
  }
 ],
 "metadata": {
  "kernelspec": {
   "display_name": "Python 3",
   "language": "python",
   "name": "python3"
  },
  "language_info": {
   "codemirror_mode": {
    "name": "ipython",
    "version": 3
   },
   "file_extension": ".py",
   "mimetype": "text/x-python",
   "name": "python",
   "nbconvert_exporter": "python",
   "pygments_lexer": "ipython3",
   "version": "3.6.5"
  }
 },
 "nbformat": 4,
 "nbformat_minor": 1
}
