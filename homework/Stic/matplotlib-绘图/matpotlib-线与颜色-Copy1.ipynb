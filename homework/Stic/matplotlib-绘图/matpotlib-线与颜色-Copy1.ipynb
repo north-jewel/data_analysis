{
 "cells": [
  {
   "cell_type": "code",
   "execution_count": 1,
   "metadata": {},
   "outputs": [],
   "source": [
    "import numpy as np\n",
    "import pandas as pd\n",
    "import matplotlib.pyplot as plt"
   ]
  },
  {
   "cell_type": "markdown",
   "metadata": {},
   "source": [
    "# 绘制line"
   ]
  },
  {
   "cell_type": "code",
   "execution_count": 2,
   "metadata": {},
   "outputs": [],
   "source": [
    "x =np.linspace(-np.pi,np.pi,256,endpoint=True)\n",
    "#x =np.linspace(0,2*np.pi,256,endpoint=True)"
   ]
  },
  {
   "cell_type": "code",
   "execution_count": 3,
   "metadata": {},
   "outputs": [],
   "source": [
    "c,s = np.cos(x),np.sin(x)"
   ]
  },
  {
   "cell_type": "code",
   "execution_count": 16,
   "metadata": {},
   "outputs": [
    {
     "data": {
      "text/plain": [
       "([<matplotlib.axis.YTick at 0x96089e8>,\n",
       "  <matplotlib.axis.YTick at 0x99fce48>,\n",
       "  <matplotlib.axis.YTick at 0x9a1f5f8>,\n",
       "  <matplotlib.axis.YTick at 0x9a1fb38>,\n",
       "  <matplotlib.axis.YTick at 0xabc7240>],\n",
       " <a list of 5 Text yticklabel objects>)"
      ]
     },
     "execution_count": 16,
     "metadata": {},
     "output_type": "execute_result"
    },
    {
     "data": {
      "image/png": "[encoded data removed]",
      "text/plain": [
       "<matplotlib.figure.Figure at 0xb14c9e8>"
      ]
     },
     "metadata": {},
     "output_type": "display_data"
    }
   ],
   "source": [
    "plt.figure(1)\n",
    "plt.plot(x,c,color='blue',linewidth=2.0,linestyle='--',label='cos',alpha=0.5) # label 稍安勿躁\n",
    "plt.plot(x,s,'r--',label='sin')\n",
    "\n",
    "plt.title('sin & cos')\n",
    "ax = plt.gca()# get current ax\n",
    "ax.spines['right'].set_color('none')  # 将右边的轴去掉\n",
    "ax.spines['top'].set_color('none')\n",
    "#ax.spines['left'].set_position(('data',0))   # 将左边的轴移到0位置\n",
    "ax.spines['left'].set_position('center')\n",
    "#ax.spines['bottom'].set_position(('data',0)) \n",
    "ax.spines['bottom'].set_position('zero') # zero\n",
    "\n",
    "ax.xaxis.set_ticks_position('bottom')# 记号位置\n",
    "\n",
    "# plt.xticks([-np.pi,-np.pi/2,0,np.pi/2,np.pi])\n",
    "\n",
    "plt.xticks([-np.pi,-np.pi/2,0,np.pi/2,np.pi],\n",
    "         [r'$-\\pi$',r'$-\\pi/2$',r'$0$',r'$+\\pi/2$',r'$\\pi$']) #鬼知道你们不认真,标记的位置,标记格式化\n",
    "\n",
    "ax.yaxis.set_ticks_position('left')# 记号位置\n",
    "plt.yticks(np.linspace(-1,1,5))\n",
    "\n"
   ]
  },
  {
   "cell_type": "code",
   "execution_count": 12,
   "metadata": {},
   "outputs": [],
   "source": [
    "# help(ax.spines['left'].set_position)"
   ]
  },
  {
   "cell_type": "code",
   "execution_count": null,
   "metadata": {},
   "outputs": [],
   "source": []
  },
  {
   "cell_type": "code",
   "execution_count": 6,
   "metadata": {},
   "outputs": [],
   "source": [
    "plt.show()"
   ]
  },
  {
   "cell_type": "code",
   "execution_count": null,
   "metadata": {},
   "outputs": [],
   "source": []
  }
 ],
 "metadata": {
  "kernelspec": {
   "display_name": "Python 3",
   "language": "python",
   "name": "python3"
  },
  "language_info": {
   "codemirror_mode": {
    "name": "ipython",
    "version": 3
   },
   "file_extension": ".py",
   "mimetype": "text/x-python",
   "name": "python",
   "nbconvert_exporter": "python",
   "pygments_lexer": "ipython3",
   "version": "3.6.5"
  }
 },
 "nbformat": 4,
 "nbformat_minor": 2
}
