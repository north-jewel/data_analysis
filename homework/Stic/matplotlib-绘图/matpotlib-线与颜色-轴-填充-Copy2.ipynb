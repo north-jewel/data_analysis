{
 "cells": [
  {
   "cell_type": "code",
   "execution_count": 1,
   "metadata": {},
   "outputs": [],
   "source": [
    "import numpy as np\n",
    "import pandas as pd\n",
    "import matplotlib.pyplot as plt"
   ]
  },
  {
   "cell_type": "markdown",
   "metadata": {},
   "source": [
    "# 绘制line"
   ]
  },
  {
   "cell_type": "code",
   "execution_count": 81,
   "metadata": {},
   "outputs": [
    {
     "data": {
      "image/png": "[encoded data removed]",
      "text/plain": [
       "<matplotlib.figure.Figure at 0xaae1eb8>"
      ]
     },
     "metadata": {},
     "output_type": "display_data"
    }
   ],
   "source": [
    "x =np.linspace(-np.pi,np.pi,256,endpoint=True)\n",
    "\n",
    "c,s = np.cos(x),np.sin(x)\n",
    "\n",
    "plt.figure(1)\n",
    "\n",
    "#help(plt.plot)\n",
    "\n",
    "plt.plot(x,c,color='blue',linewidth=2.0,linestyle='--',label='cos1',alpha=0.5) # label 稍安勿躁 图例见\n",
    "\n",
    "plt.plot(x,s,'r--',label='sin')\n",
    "\n",
    "plt.title('sin & cos')\n",
    "\n",
    "ax = plt.gca()# get current ax\n",
    "\n",
    "ax.spines['right'].set_color('none')\n",
    "\n",
    "ax.spines['top'].set_color('none')\n",
    "\n",
    "ax.spines['left'].set_position(('data',0))\n",
    "\n",
    "ax.spines['bottom'].set_position(('data',0))\n",
    "\n",
    "ax.xaxis.set_ticks_position('bottom')# 记号位置\n",
    "\n",
    "ax.yaxis.set_ticks_position('right')\n",
    "\n",
    "plt.xticks([-np.pi,-np.pi/2,0.66,np.pi/2,np.pi],\n",
    "         [r'$-\\pi$',r'$-\\pi/2$',r'$0$',r'$+\\pi/2$',r'$\\pi$']) #鬼知道你们不认真,标记的位置,标记格式化\n",
    "\n",
    "#plt.xticks([-np.pi,-np.pi/2,0.66,np.pi/2,np.pi],) #鬼知道你们不认真\n",
    "\n",
    "plt.yticks(np.linspace(-1,1,5,endpoint=True))\n",
    "\n",
    "for label in ax.get_xticklabels()+ax.get_yticklabels():\n",
    "    label.set_fontsize(18)\n",
    "    label.set_bbox(dict(facecolor='green',edgecolor='red',alpha=0.9))\n",
    "\n",
    "plt.legend(loc='upper left') #图例\n",
    "\n",
    "plt.grid()  #加网格线, 和ticks有关系,\n",
    "\n",
    "#plt.axis([-1,1,0.5,1])# 指定显示范围\n",
    "\n",
    "plt.fill_between(x,abs(x)<0.5,np.cos(x),abs(x-0.25)<0.25,color='green',alpha='0.25')\n",
    "\n",
    "\n",
    "\n",
    "plt.show()"
   ]
  },
  {
   "cell_type": "markdown",
   "metadata": {
    "collapsed": true
   },
   "source": [
    "y = abs(x)\n",
    "x<0 ,y = -x\n",
    "x>=0, y = x"
   ]
  },
  {
   "cell_type": "code",
   "execution_count": 56,
   "metadata": {},
   "outputs": [
    {
     "name": "stdout",
     "output_type": "stream",
     "text": [
      "Help on function fill_between in module matplotlib.pyplot:\n",
      "\n",
      "fill_between(x, y1, y2=0, where=None, interpolate=False, step=None, hold=None, data=None, **kwargs)\n",
      "    Make filled polygons between two curves.\n",
      "    \n",
      "    \n",
      "    Create a :class:`~matplotlib.collections.PolyCollection`\n",
      "    filling the regions between *y1* and *y2* where\n",
      "    ``where==True``\n",
      "    \n",
      "    Parameters\n",
      "    ----------\n",
      "    x : array\n",
      "        An N-length array of the x data\n",
      "    \n",
      "    y1 : array\n",
      "        An N-length array (or scalar) of the y data\n",
      "    \n",
      "    y2 : array\n",
      "        An N-length array (or scalar) of the y data\n",
      "    \n",
      "    where : array, optional\n",
      "        If `None`, default to fill between everywhere.  If not `None`,\n",
      "        it is an N-length numpy boolean array and the fill will\n",
      "        only happen over the regions where ``where==True``.\n",
      "    \n",
      "    interpolate : bool, optional\n",
      "        If `True`, interpolate between the two lines to find the\n",
      "        precise point of intersection.  Otherwise, the start and\n",
      "        end points of the filled region will only occur on explicit\n",
      "        values in the *x* array.\n",
      "    \n",
      "    step : {'pre', 'post', 'mid'}, optional\n",
      "        If not None, fill with step logic.\n",
      "    \n",
      "    \n",
      "    Notes\n",
      "    -----\n",
      "    \n",
      "    Additional Keyword args passed on to the\n",
      "    :class:`~matplotlib.collections.PolyCollection`.\n",
      "    \n",
      "    kwargs control the :class:`~matplotlib.patches.Polygon` properties:\n",
      "    \n",
      "      agg_filter: a filter function, which takes a (m, n, 3) float array and a dpi value, and returns a (m, n, 3) array \n",
      "      alpha: float or None \n",
      "      animated: bool \n",
      "      antialiased or antialiaseds: Boolean or sequence of booleans \n",
      "      array: ndarray\n",
      "      clim: a length 2 sequence of floats \n",
      "      clip_box: a `~.Bbox` instance \n",
      "      clip_on: bool \n",
      "      clip_path: [(`~matplotlib.path.Path`, `~.Transform`) | `~.Patch` | None] \n",
      "      cmap: a colormap or registered colormap name \n",
      "      color: matplotlib color arg or sequence of rgba tuples\n",
      "      contains: a callable function \n",
      "      edgecolor or edgecolors: matplotlib color spec or sequence of specs \n",
      "      facecolor or facecolors: matplotlib color spec or sequence of specs \n",
      "      figure: a `~.Figure` instance \n",
      "      gid: an id string \n",
      "      hatch: [ '/' | '\\\\' | '|' | '-' | '+' | 'x' | 'o' | 'O' | '.' | '*' ] \n",
      "      label: object \n",
      "      linestyle or dashes or linestyles: ['solid' | 'dashed', 'dashdot', 'dotted' | (offset, on-off-dash-seq) | ``'-'`` | ``'--'`` | ``'-.'`` | ``':'`` | ``'None'`` | ``' '`` | ``''``]\n",
      "      linewidth or linewidths or lw: float or sequence of floats \n",
      "      norm: `~.Normalize`\n",
      "      offset_position: [ 'screen' | 'data' ] \n",
      "      offsets: float or sequence of floats \n",
      "      path_effects: `~.AbstractPathEffect` \n",
      "      picker: [None | bool | float | callable] \n",
      "      pickradius: float distance in points\n",
      "      rasterized: bool or None \n",
      "      sketch_params: (scale: float, length: float, randomness: float) \n",
      "      snap: bool or None \n",
      "      transform: `~.Transform` \n",
      "      url: a url string \n",
      "      urls: List[str] or None \n",
      "      visible: bool \n",
      "      zorder: float \n",
      "    \n",
      "    See Also\n",
      "    --------\n",
      "    \n",
      "        :meth:`fill_betweenx`\n",
      "            for filling between two sets of x-values\n",
      "    \n",
      "    .. note::\n",
      "        In addition to the above described arguments, this function can take a\n",
      "        **data** keyword argument. If such a **data** argument is given, the\n",
      "        following arguments are replaced by **data[<arg>]**:\n",
      "    \n",
      "        * All arguments with the following names: 'where', 'x', 'y1', 'y2'.\n",
      "\n"
     ]
    }
   ],
   "source": [
    "help(plt.fill_between)"
   ]
  },
  {
   "cell_type": "code",
   "execution_count": null,
   "metadata": {},
   "outputs": [],
   "source": []
  }
 ],
 "metadata": {
  "kernelspec": {
   "display_name": "Python 3",
   "language": "python",
   "name": "python3"
  },
  "language_info": {
   "codemirror_mode": {
    "name": "ipython",
    "version": 3
   },
   "file_extension": ".py",
   "mimetype": "text/x-python",
   "name": "python",
   "nbconvert_exporter": "python",
   "pygments_lexer": "ipython3",
   "version": "3.6.5"
  }
 },
 "nbformat": 4,
 "nbformat_minor": 2
}
