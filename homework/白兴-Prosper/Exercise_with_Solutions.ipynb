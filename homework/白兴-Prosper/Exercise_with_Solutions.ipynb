{
 "cells": [
  {
   "cell_type": "markdown",
   "metadata": {},
   "source": [
    "# Visualizing Chipotle's Data  图像化快餐店的数据"
   ]
  },
  {
   "cell_type": "markdown",
   "metadata": {},
   "source": [
    "This time we are going to pull data directly from the internet.\n",
    "Special thanks to: https://github.com/justmarkham for sharing the dataset and materials.\n",
    "\n",
    "### Step 1. Import the necessary libraries"
   ]
  },
  {
   "cell_type": "code",
   "execution_count": 7,
   "metadata": {},
   "outputs": [],
   "source": [
    "import pandas as pd\n",
    "from collections import Counter\n",
    "import matplotlib.pyplot as plt \n",
    "\n",
    "# set this so the \n",
    "%matplotlib inline"
   ]
  },
  {
   "cell_type": "markdown",
   "metadata": {},
   "source": [
    "### Step 2. Import the dataset from this [address](https://raw.githubusercontent.com/justmarkham/DAT8/master/data/chipotle.tsv). "
   ]
  },
  {
   "cell_type": "markdown",
   "metadata": {},
   "source": [
    "### Step 3. Assign it to a variable called chipo."
   ]
  },
  {
   "cell_type": "code",
   "execution_count": 2,
   "metadata": {},
   "outputs": [],
   "source": [
    "url = 'https://raw.githubusercontent.com/justmarkham/DAT8/master/data/chipotle.tsv'\n",
    "    \n",
    "chipo = pd.read_csv(url, sep = '\\t')"
   ]
  },
  {
   "cell_type": "markdown",
   "metadata": {},
   "source": [
    "### Step 4. See the first 10 entries"
   ]
  },
  {
   "cell_type": "code",
   "execution_count": 3,
   "metadata": {
    "scrolled": false
   },
   "outputs": [
    {
     "data": {
      "text/html": [
       "<div>\n",
       "<style scoped>\n",
       "    .dataframe tbody tr th:only-of-type {\n",
       "        vertical-align: middle;\n",
       "    }\n",
       "\n",
       "    .dataframe tbody tr th {\n",
       "        vertical-align: top;\n",
       "    }\n",
       "\n",
       "    .dataframe thead th {\n",
       "        text-align: right;\n",
       "    }\n",
       "</style>\n",
       "<table border=\"1\" class=\"dataframe\">\n",
       "  <thead>\n",
       "    <tr style=\"text-align: right;\">\n",
       "      <th></th>\n",
       "      <th>order_id</th>\n",
       "      <th>quantity</th>\n",
       "      <th>item_name</th>\n",
       "      <th>choice_description</th>\n",
       "      <th>item_price</th>\n",
       "    </tr>\n",
       "  </thead>\n",
       "  <tbody>\n",
       "    <tr>\n",
       "      <th>0</th>\n",
       "      <td>1</td>\n",
       "      <td>1</td>\n",
       "      <td>Chips and Fresh Tomato Salsa</td>\n",
       "      <td>NaN</td>\n",
       "      <td>$2.39</td>\n",
       "    </tr>\n",
       "    <tr>\n",
       "      <th>1</th>\n",
       "      <td>1</td>\n",
       "      <td>1</td>\n",
       "      <td>Izze</td>\n",
       "      <td>[Clementine]</td>\n",
       "      <td>$3.39</td>\n",
       "    </tr>\n",
       "    <tr>\n",
       "      <th>2</th>\n",
       "      <td>1</td>\n",
       "      <td>1</td>\n",
       "      <td>Nantucket Nectar</td>\n",
       "      <td>[Apple]</td>\n",
       "      <td>$3.39</td>\n",
       "    </tr>\n",
       "    <tr>\n",
       "      <th>3</th>\n",
       "      <td>1</td>\n",
       "      <td>1</td>\n",
       "      <td>Chips and Tomatillo-Green Chili Salsa</td>\n",
       "      <td>NaN</td>\n",
       "      <td>$2.39</td>\n",
       "    </tr>\n",
       "    <tr>\n",
       "      <th>4</th>\n",
       "      <td>2</td>\n",
       "      <td>2</td>\n",
       "      <td>Chicken Bowl</td>\n",
       "      <td>[Tomatillo-Red Chili Salsa (Hot), [Black Beans...</td>\n",
       "      <td>$16.98</td>\n",
       "    </tr>\n",
       "    <tr>\n",
       "      <th>5</th>\n",
       "      <td>3</td>\n",
       "      <td>1</td>\n",
       "      <td>Chicken Bowl</td>\n",
       "      <td>[Fresh Tomato Salsa (Mild), [Rice, Cheese, Sou...</td>\n",
       "      <td>$10.98</td>\n",
       "    </tr>\n",
       "    <tr>\n",
       "      <th>6</th>\n",
       "      <td>3</td>\n",
       "      <td>1</td>\n",
       "      <td>Side of Chips</td>\n",
       "      <td>NaN</td>\n",
       "      <td>$1.69</td>\n",
       "    </tr>\n",
       "    <tr>\n",
       "      <th>7</th>\n",
       "      <td>4</td>\n",
       "      <td>1</td>\n",
       "      <td>Steak Burrito</td>\n",
       "      <td>[Tomatillo Red Chili Salsa, [Fajita Vegetables...</td>\n",
       "      <td>$11.75</td>\n",
       "    </tr>\n",
       "    <tr>\n",
       "      <th>8</th>\n",
       "      <td>4</td>\n",
       "      <td>1</td>\n",
       "      <td>Steak Soft Tacos</td>\n",
       "      <td>[Tomatillo Green Chili Salsa, [Pinto Beans, Ch...</td>\n",
       "      <td>$9.25</td>\n",
       "    </tr>\n",
       "    <tr>\n",
       "      <th>9</th>\n",
       "      <td>5</td>\n",
       "      <td>1</td>\n",
       "      <td>Steak Burrito</td>\n",
       "      <td>[Fresh Tomato Salsa, [Rice, Black Beans, Pinto...</td>\n",
       "      <td>$9.25</td>\n",
       "    </tr>\n",
       "  </tbody>\n",
       "</table>\n",
       "</div>"
      ],
      "text/plain": [
       "   order_id  quantity                              item_name  \\\n",
       "0         1         1           Chips and Fresh Tomato Salsa   \n",
       "1         1         1                                   Izze   \n",
       "2         1         1                       Nantucket Nectar   \n",
       "3         1         1  Chips and Tomatillo-Green Chili Salsa   \n",
       "4         2         2                           Chicken Bowl   \n",
       "5         3         1                           Chicken Bowl   \n",
       "6         3         1                          Side of Chips   \n",
       "7         4         1                          Steak Burrito   \n",
       "8         4         1                       Steak Soft Tacos   \n",
       "9         5         1                          Steak Burrito   \n",
       "\n",
       "                                  choice_description item_price  \n",
       "0                                                NaN     $2.39   \n",
       "1                                       [Clementine]     $3.39   \n",
       "2                                            [Apple]     $3.39   \n",
       "3                                                NaN     $2.39   \n",
       "4  [Tomatillo-Red Chili Salsa (Hot), [Black Beans...    $16.98   \n",
       "5  [Fresh Tomato Salsa (Mild), [Rice, Cheese, Sou...    $10.98   \n",
       "6                                                NaN     $1.69   \n",
       "7  [Tomatillo Red Chili Salsa, [Fajita Vegetables...    $11.75   \n",
       "8  [Tomatillo Green Chili Salsa, [Pinto Beans, Ch...     $9.25   \n",
       "9  [Fresh Tomato Salsa, [Rice, Black Beans, Pinto...     $9.25   "
      ]
     },
     "execution_count": 3,
     "metadata": {},
     "output_type": "execute_result"
    }
   ],
   "source": [
    "chipo.head(10)"
   ]
  },
  {
   "cell_type": "markdown",
   "metadata": {},
   "source": [
    "### Step 5. Create a histogram of the top 5 items bought"
   ]
  },
  {
   "cell_type": "code",
   "execution_count": 5,
   "metadata": {},
   "outputs": [],
   "source": [
    "# x = chipo.item_name\n",
    "# letter_counts = Counter(x)"
   ]
  },
  {
   "cell_type": "code",
   "execution_count": 12,
   "metadata": {},
   "outputs": [
    {
     "name": "stdout",
     "output_type": "stream",
     "text": [
      "Chips and Fresh Tomato Salsa             110\n",
      "Izze                                      20\n",
      "Nantucket Nectar                          27\n",
      "Chips and Tomatillo-Green Chili Salsa     31\n",
      "Chicken Bowl                             726\n",
      "Side of Chips                            101\n",
      "Steak Burrito                            368\n",
      "Steak Soft Tacos                          55\n",
      "Chips and Guacamole                      479\n",
      "Chicken Crispy Tacos                      47\n",
      "Chicken Soft Tacos                       115\n",
      "Chicken Burrito                          553\n",
      "Canned Soda                              104\n",
      "Barbacoa Burrito                          91\n",
      "Carnitas Burrito                          59\n",
      "Carnitas Bowl                             68\n",
      "Bottled Water                            162\n",
      "Chips and Tomatillo Green Chili Salsa     43\n",
      "Barbacoa Bowl                             66\n",
      "Chips                                    211\n",
      "Chicken Salad Bowl                       110\n",
      "Steak Bowl                               211\n",
      "Barbacoa Soft Tacos                       25\n",
      "Veggie Burrito                            95\n",
      "Veggie Bowl                               85\n",
      "Steak Crispy Tacos                        35\n",
      "Chips and Tomatillo Red Chili Salsa       48\n",
      "Barbacoa Crispy Tacos                     11\n",
      "Veggie Salad Bowl                         18\n",
      "Chips and Roasted Chili-Corn Salsa        18\n",
      "Chips and Roasted Chili Corn Salsa        22\n",
      "Carnitas Soft Tacos                       40\n",
      "Chicken Salad                              9\n",
      "Canned Soft Drink                        301\n",
      "Steak Salad Bowl                          29\n",
      "6 Pack Soft Drink                         54\n",
      "Chips and Tomatillo-Red Chili Salsa       20\n",
      "Bowl                                       2\n",
      "Burrito                                    6\n",
      "Crispy Tacos                               2\n",
      "Carnitas Crispy Tacos                      7\n",
      "Steak Salad                                4\n",
      "Chips and Mild Fresh Tomato Salsa          1\n",
      "Veggie Soft Tacos                          7\n",
      "Carnitas Salad Bowl                        6\n",
      "Barbacoa Salad Bowl                       10\n",
      "Salad                                      2\n",
      "Veggie Crispy Tacos                        1\n",
      "Veggie Salad                               6\n",
      "Carnitas Salad                             1\n",
      "Name: 0, dtype: int64\n",
      "Canned Soft Drink      301\n",
      "Steak Burrito          368\n",
      "Chips and Guacamole    479\n",
      "Chicken Burrito        553\n",
      "Chicken Bowl           726\n",
      "Name: 0, dtype: int64\n"
     ]
    },
    {
     "data": {
      "image/png": "[encoded data removed]",
      "text/plain": [
       "<Figure size 432x288 with 1 Axes>"
      ]
     },
     "metadata": {},
     "output_type": "display_data"
    }
   ],
   "source": [
    "# get the Series of the names\n",
    "x = chipo.item_name\n",
    "\n",
    "# use the Counter class from collections to create a dictionary with keys(text) and frequency\n",
    "letter_counts = Counter(x)\n",
    "\n",
    "# convert the dictionary to a DataFrame\n",
    "df = pd.DataFrame.from_dict(letter_counts, orient='index')\n",
    "print(df[0])\n",
    "# sort the values from the top to the least value and slice the first 5 items\n",
    "df = df[0].sort_values(ascending = True)[45:50]\n",
    "print(df)\n",
    "# create the plot\n",
    "df.plot(kind='bar')\n",
    "\n",
    "# Set the title and labels\n",
    "plt.xlabel('Items')\n",
    "plt.ylabel('Price')\n",
    "plt.title('Most ordered Chipotle\\'s Items')\n",
    "\n",
    "# show the plot\n",
    "plt.show()"
   ]
  },
  {
   "cell_type": "markdown",
   "metadata": {},
   "source": [
    "### Step 6. Create a scatterplot with the number of items orderered per order price 创建一个散点图，显示每个订单价格下订单的商品数量\n",
    "#### Hint: Price should be in the X-axis and Items ordered in the Y-axis"
   ]
  },
  {
   "cell_type": "code",
   "execution_count": 9,
   "metadata": {},
   "outputs": [
    {
     "name": "stdout",
     "output_type": "stream",
     "text": [
      "          quantity  item_price\n",
      "order_id                      \n",
      "1                4       11.56\n",
      "2                2       16.98\n",
      "3                2       12.67\n",
      "4                2       21.00\n",
      "5                2       13.70\n",
      "6                2       17.50\n",
      "7                2       15.70\n",
      "8                2       10.88\n",
      "9                3       10.67\n",
      "10               2       13.20\n",
      "11               2       12.38\n",
      "12               2       14.37\n",
      "13               2       10.88\n",
      "14               2       10.08\n",
      "15               2       10.88\n",
      "16               2       10.68\n",
      "17               2       10.08\n",
      "18               4       24.90\n",
      "19               2       13.90\n",
      "20               4       36.20\n",
      "21               3       23.36\n",
      "22               2       12.98\n",
      "23               3       11.17\n",
      "24               2       12.07\n",
      "25               2       11.38\n",
      "26               2       20.50\n",
      "27               2       13.90\n",
      "28               4       33.70\n",
      "29               2       17.98\n",
      "30               3       23.36\n",
      "...            ...         ...\n",
      "1805             2       20.00\n",
      "1806             4       13.00\n",
      "1807             2       18.64\n",
      "1808             2       13.70\n",
      "1809             3       14.45\n",
      "1810             2       23.00\n",
      "1811             3       29.25\n",
      "1812             4       22.50\n",
      "1813             2       17.50\n",
      "1814             2       13.70\n",
      "1815             2       12.50\n",
      "1816             2       13.20\n",
      "1817             4       13.00\n",
      "1818             2       18.14\n",
      "1819             2       13.20\n",
      "1820             2       12.50\n",
      "1821             2       13.70\n",
      "1822             4       23.00\n",
      "1823             3       12.15\n",
      "1824             3       26.95\n",
      "1825             6       66.50\n",
      "1826             4       15.95\n",
      "1827             5       32.95\n",
      "1828             3       14.45\n",
      "1829             3       24.25\n",
      "1830             2       23.00\n",
      "1831             3       12.90\n",
      "1832             2       13.20\n",
      "1833             2       23.50\n",
      "1834             3       28.75\n",
      "\n",
      "[1834 rows x 2 columns]\n"
     ]
    },
    {
     "data": {
      "text/plain": [
       "(0, 36.7178857951459)"
      ]
     },
     "execution_count": 9,
     "metadata": {},
     "output_type": "execute_result"
    },
    {
     "data": {
      "image/png": "[encoded data removed]",
      "text/plain": [
       "<Figure size 432x288 with 1 Axes>"
      ]
     },
     "metadata": {},
     "output_type": "display_data"
    }
   ],
   "source": [
    "# create a list of prices\n",
    "chipo.item_price = [float(value[1:-1]) for value in chipo.item_price] # strip the dollar sign and trailing space\n",
    "# print(chipo.item_price)\n",
    "# then groupby the orders and sum\n",
    "orders = chipo.groupby('order_id').sum()\n",
    "print(orders)\n",
    "# creates the scatterplot\n",
    "# plt.scatter(orders.quantity, orders.item_price, s = 50, c = 'green')\n",
    "plt.scatter(x = orders.item_price, y = orders.quantity, s = 50, c = 'green')\n",
    "\n",
    "# Set the title and labels\n",
    "plt.xlabel('Order Price')\n",
    "plt.ylabel('Items ordered')\n",
    "plt.title('Number of items ordered per order price')\n",
    "plt.ylim(0)"
   ]
  },
  {
   "cell_type": "markdown",
   "metadata": {},
   "source": [
    "### BONUS: Create a question and a graph to answer your own question."
   ]
  },
  {
   "cell_type": "code",
   "execution_count": 13,
   "metadata": {},
   "outputs": [],
   "source": [
    "a=chipo.item_price.value_counts()"
   ]
  },
  {
   "cell_type": "code",
   "execution_count": 16,
   "metadata": {},
   "outputs": [
    {
     "data": {
      "text/plain": [
       "Float64Index([ 8.75, 11.25,  9.25,  4.45,  8.49, 11.75,  1.25,  8.99,  2.15,\n",
       "               2.95,   1.5,  1.09,  2.39, 10.98,  1.69,  3.99,  6.49, 11.48,\n",
       "               3.39,  17.5,   2.5, 11.89,  2.18,   8.9, 16.98,  8.69,  9.39,\n",
       "                4.3,  8.19,  22.5,  18.5,   7.4,   3.0, 11.08, 21.96,   5.9,\n",
       "               3.75, 17.98,  3.89,  23.5, 10.58,   4.5,   8.5,   5.0,  4.78,\n",
       "              26.25,  2.29,   4.0, 27.75,  3.27,  7.17, 22.16,   6.0, 23.78,\n",
       "               6.78,  35.0, 16.38,  22.2,  7.98,   7.5,  4.36,  15.0, 44.25,\n",
       "               1.99, 26.07, 33.75, 13.35, 12.98, 32.94,  6.45, 13.52,  5.07,\n",
       "               17.8,  10.5, 22.96, 11.49, 35.25,  11.8],\n",
       "             dtype='float64')"
      ]
     },
     "execution_count": 16,
     "metadata": {},
     "output_type": "execute_result"
    }
   ],
   "source": [
    "a.index"
   ]
  },
  {
   "cell_type": "code",
   "execution_count": 17,
   "metadata": {},
   "outputs": [
    {
     "data": {
      "text/plain": [
       "array([730, 521, 398, 349, 311, 284, 264, 246, 192, 174, 117, 106, 100,\n",
       "        99,  99,  98,  53,  51,  45,  40,  27,  26,  22,  20,  19,  19,\n",
       "        17,  17,  14,  13,  12,  11,  10,  10,  10,   8,   7,   7,   6,\n",
       "         6,   5,   4,   3,   3,   3,   3,   3,   2,   2,   2,   2,   2,\n",
       "         2,   2,   2,   2,   1,   1,   1,   1,   1,   1,   1,   1,   1,\n",
       "         1,   1,   1,   1,   1,   1,   1,   1,   1,   1,   1,   1,   1],\n",
       "      dtype=int64)"
      ]
     },
     "execution_count": 17,
     "metadata": {},
     "output_type": "execute_result"
    }
   ],
   "source": [
    "a.values"
   ]
  },
  {
   "cell_type": "code",
   "execution_count": 15,
   "metadata": {},
   "outputs": [
    {
     "data": {
      "text/plain": [
       "<matplotlib.axes._subplots.AxesSubplot at 0x1ab712b2198>"
      ]
     },
     "execution_count": 15,
     "metadata": {},
     "output_type": "execute_result"
    },
    {
     "data": {
      "image/png": "[encoded data removed]",
      "text/plain": [
       "<Figure size 432x288 with 1 Axes>"
      ]
     },
     "metadata": {},
     "output_type": "display_data"
    }
   ],
   "source": [
    "a.iloc[0:5].plot.bar()"
   ]
  },
  {
   "cell_type": "code",
   "execution_count": 31,
   "metadata": {},
   "outputs": [],
   "source": [
    "# chipo.item_price=chipo.item_price.sort_values(ascending=False)"
   ]
  },
  {
   "cell_type": "code",
   "execution_count": 29,
   "metadata": {},
   "outputs": [],
   "source": [
    "new_chipo=chipo.sort_values(by='item_price',ascending=False).head()"
   ]
  },
  {
   "cell_type": "code",
   "execution_count": 42,
   "metadata": {},
   "outputs": [
    {
     "data": {
      "image/png": "[encoded data removed]",
      "text/plain": [
       "<Figure size 432x288 with 1 Axes>"
      ]
     },
     "metadata": {},
     "output_type": "display_data"
    }
   ],
   "source": [
    "import pylab as pl\n",
    "plt.barh(new_chipo.item_name,new_chipo.item_price)\n",
    "pl.xticks(rotation=360)\n",
    "plt.show()"
   ]
  },
  {
   "cell_type": "code",
   "execution_count": 37,
   "metadata": {},
   "outputs": [],
   "source": []
  },
  {
   "cell_type": "code",
   "execution_count": null,
   "metadata": {},
   "outputs": [],
   "source": []
  },
  {
   "cell_type": "code",
   "execution_count": null,
   "metadata": {},
   "outputs": [],
   "source": []
  }
 ],
 "metadata": {
  "kernelspec": {
   "display_name": "Python 3",
   "language": "python",
   "name": "python3"
  },
  "language_info": {
   "codemirror_mode": {
    "name": "ipython",
    "version": 3
   },
   "file_extension": ".py",
   "mimetype": "text/x-python",
   "name": "python",
   "nbconvert_exporter": "python",
   "pygments_lexer": "ipython3",
   "version": "3.6.5"
  }
 },
 "nbformat": 4,
 "nbformat_minor": 1
}
