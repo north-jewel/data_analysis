{
 "cells": [
  {
   "cell_type": "code",
   "execution_count": null,
   "metadata": {},
   "outputs": [],
   "source": [
    "import numpy as np\n",
    "import pandas as pd\n",
    "import matplotlib.pyplot as plt\n",
    "np.linspace(-4,4,7)"
   ]
  },
  {
   "cell_type": "code",
   "execution_count": null,
   "metadata": {},
   "outputs": [],
   "source": []
  },
  {
   "cell_type": "code",
   "execution_count": null,
   "metadata": {},
   "outputs": [],
   "source": [
    "a=plt.figure()\n",
    "x=np.random.normal(0,1,100)\n",
    "y=x**2\n",
    "t=np.arctan2(x,y)\n",
    "t\n",
    "plt.scatter(x,y,c=t)\n",
    "plt.ylim([-3,3])"
   ]
  },
  {
   "cell_type": "markdown",
   "metadata": {},
   "source": [
    "# scatter 散点图"
   ]
  },
  {
   "cell_type": "code",
   "execution_count": null,
   "metadata": {},
   "outputs": [],
   "source": [
    "fig = plt.figure()\n",
    "\n",
    "#ax = fig.add_subplot(331)  # ax 和plt 就一样\n",
    "n=128\n",
    "X=np.random.normal(0,1,n)#随机0,1之间的正负数\n",
    "Y=np.random.normal(0,1,n)\n",
    "T=np.arctan2(Y,X) # 上色,atan2() 返回给定的 X 及 Y 坐标值的反正切值。可以上色\n",
    "T\n",
    "print(type(T))\n",
    "#plt.axes([0.025,0.025,0.95,0.95])\n",
    "plt.axes([1000,1000,1,1],alpha=.5) # 前两个参数 left bottom ,但是没效果  facecolor='b'\n",
    "plt.scatter(X,Y,s=15,c=T,alpha=.5) #  s -->size\n",
    "#plt.scatter(X,Y,s=75,c='#FF00FF') #   RGB 565   rgb8888 alpha RGB\n",
    "#np.random.rand(10)(X,Y,s=75,c=T,alpha=.5) #   RGB 565   rgb8888 alpha RGB\n",
    "plt.xlim(-1.5,1.5)#x 的范围\n",
    "#plt.xticks([])\n",
    "plt.ylim(-1.5,1.5) #y的范围\n",
    "plt.yticks([])\n",
    "#plt.axis()\n",
    "plt.title('scatter')\n",
    "plt.xlabel('x',fontsize=24)\n",
    "plt.ylabel('y',fontsize=10)#设置字体大小"
   ]
  },
  {
   "cell_type": "code",
   "execution_count": null,
   "metadata": {},
   "outputs": [],
   "source": [
    "a=np.arctan2(9,8.75)\n",
    "y=np.random.normal(0,1,128)\n",
    "x=[i**2 for i in y]\n",
    "plt.scatter(y,x,c=x)"
   ]
  },
  {
   "cell_type": "code",
   "execution_count": null,
   "metadata": {},
   "outputs": [],
   "source": [
    "Y=np.random.normal(0,1,12)\n",
    "Y"
   ]
  },
  {
   "cell_type": "code",
   "execution_count": null,
   "metadata": {},
   "outputs": [],
   "source": [
    "T=np.arctan2(Y[2],Y[1])\n",
    "T"
   ]
  },
  {
   "cell_type": "markdown",
   "metadata": {},
   "source": [
    "## 柱状体"
   ]
  },
  {
   "cell_type": "code",
   "execution_count": null,
   "metadata": {},
   "outputs": [],
   "source": [
    "fig=plt.figure()\n",
    "fig.add_subplot(111)\n",
    "n=10\n",
    "X=np.arange(n)\n",
    "Y1 = (1-X/float(n)*np.random.uniform(0.5,1.0,n))#在0.5到1之间取三个整数\n",
    "Y2 = (1-X/float(n)*np.random.uniform(0.5,1.0,n))\n",
    "plt.bar(X,+Y1,facecolor='#9999ff',edgecolor='yellow')\n",
    "plt.bar(X,-Y2,facecolor='#ff9999',edgecolor='black')#edgecolor边框,facecolor颜色\n",
    "for x,y in zip(X,Y1):\n",
    "    plt.text(x+0.1,y,'%.2f'%y,ha='center',va='bottom') # 给上边添加注释\n",
    "for x,y in zip(X,Y2):\n",
    "    plt.text(x+0.4,-y-0.05,'%.2f'%y,ha='center',va='top') # 给下边添加注释"
   ]
  },
  {
   "cell_type": "markdown",
   "metadata": {},
   "source": [
    "## 饼图"
   ]
  },
  {
   "cell_type": "code",
   "execution_count": null,
   "metadata": {},
   "outputs": [],
   "source": [
    "#figl=plt.figure()\n",
    "labels='a','b','c','d'\n",
    "size=[35,26,32,24]\n",
    "explode=(0,0,0.05,0)\n",
    "figl,axl=plt.subplots(3,3)#建立一个fig对象，建立一个axis对象。\n",
    "#在选择的子图上作画\n",
    "axl[0][2].pie(size,explode=explode,labels=labels,autopct='%1.1f%%',shadow=True,startangle=90)#startangle起始位置从哪画起,explode用来突显,shadow阴影,autopct控制饼图内百分比设置,可以使用format字符串或者format function'%1.1f'指小数点前后位数(没有用空格补齐)\n",
    "axl[0][2].axis('equal')#设置图像样式,分为椭圆,扁圆,就是xy轴的比值\n",
    "plt.show()"
   ]
  },
  {
   "cell_type": "code",
   "execution_count": null,
   "metadata": {},
   "outputs": [],
   "source": [
    "n=20\n",
    "z=np.ones(n)\n",
    "plt.pie(z,explode=z*.05,colors=['%f' % (i/float(n)) for i in range(n)],labels=['%1.2f'%(i/float(n)) for i in range(n)])\n",
    "plt.gca().set_aspect('equal',anchor='SW')#equal相等,就是xy轴的比值,同理plt.gca().axis('equal')相同,plt.gca()获取轴"
   ]
  },
  {
   "cell_type": "markdown",
   "metadata": {},
   "source": [
    "## 3D图"
   ]
  },
  {
   "cell_type": "code",
   "execution_count": null,
   "metadata": {},
   "outputs": [],
   "source": [
    "from mpl_toolkits.mplot3d import Axes3D\n",
    "fig=plt.figure()\n",
    "ax=fig.add_subplot(336,projection='3d')\n",
    "ax.scatter(2,3,4,s=100)#s为大小,3d三轴确定一个点\n",
    "\n",
    "x=[1,2,2]\n",
    "y=[1,3,2]\n",
    "z=[1,4,2]\n",
    "ax1=Axes3D(fig)\n",
    "ax1.plot(x,y,z)\n",
    "ax1.axis('equal')\n"
   ]
  },
  {
   "cell_type": "code",
   "execution_count": null,
   "metadata": {},
   "outputs": [],
   "source": []
  },
  {
   "cell_type": "code",
   "execution_count": null,
   "metadata": {},
   "outputs": [],
   "source": []
  },
  {
   "cell_type": "code",
   "execution_count": null,
   "metadata": {},
   "outputs": [],
   "source": []
  },
  {
   "cell_type": "code",
   "execution_count": null,
   "metadata": {},
   "outputs": [],
   "source": []
  },
  {
   "cell_type": "code",
   "execution_count": null,
   "metadata": {},
   "outputs": [],
   "source": []
  },
  {
   "cell_type": "code",
   "execution_count": null,
   "metadata": {},
   "outputs": [],
   "source": [
    "a=[0.9,2,3,4,5,6,7.2]\n",
    "b=[6,6,6,6,6,6,6,]\n",
    "plt.polar(a,b)\n",
    "plt.xticks(np.arange(6),['sdfa','sfdsfd','sdfsdf','hghfdf','gdfg','yt'])"
   ]
  },
  {
   "cell_type": "code",
   "execution_count": null,
   "metadata": {},
   "outputs": [],
   "source": [
    "from pylab import mpl\n",
    "\n",
    "\n",
    "mpl.rcParams['font.sans-serif'] = ['SimHei']\n",
    "a=np.arange(0,2*np.pi+np.pi/3,2*np.pi/6)\n",
    "b=[2,2,2,2,2,2,2]\n",
    "plt.polar(a,b)\n",
    "plt.xticks(np.arange(6),['sdfa','你哈','sdfsdf','hghfdf','gdfg','yt'])\n",
    "np.sum(a)"
   ]
  },
  {
   "cell_type": "code",
   "execution_count": null,
   "metadata": {},
   "outputs": [],
   "source": [
    "np.random.rand(10)"
   ]
  },
  {
   "cell_type": "code",
   "execution_count": null,
   "metadata": {},
   "outputs": [],
   "source": [
    "np.random.rand(10)"
   ]
  },
  {
   "cell_type": "code",
   "execution_count": null,
   "metadata": {},
   "outputs": [],
   "source": []
  },
  {
   "cell_type": "code",
   "execution_count": null,
   "metadata": {},
   "outputs": [],
   "source": []
  },
  {
   "cell_type": "code",
   "execution_count": null,
   "metadata": {},
   "outputs": [],
   "source": []
  }
 ],
 "metadata": {
  "kernelspec": {
   "display_name": "Python 3",
   "language": "python",
   "name": "python3"
  },
  "language_info": {
   "codemirror_mode": {
    "name": "ipython",
    "version": 3
   },
   "file_extension": ".py",
   "mimetype": "text/x-python",
   "name": "python",
   "nbconvert_exporter": "python",
   "pygments_lexer": "ipython3",
   "version": "3.6.5"
  }
 },
 "nbformat": 4,
 "nbformat_minor": 2
}
