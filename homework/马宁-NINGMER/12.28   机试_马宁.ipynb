{
 "cells": [
  {
   "cell_type": "code",
   "execution_count": 160,
   "metadata": {},
   "outputs": [],
   "source": [
    "import numpy as np\n",
    "import pandas as pd \n",
    "import matplotlib.pyplot as plt\n",
    "from pylab import mpl\n",
    "mpl.rcParams['font.sans-serif']=['SimHei']\n",
    "plt.rcParams['axes.unicode_minus']=False"
   ]
  },
  {
   "cell_type": "code",
   "execution_count": 163,
   "metadata": {},
   "outputs": [
    {
     "data": {
      "image/png": "[encoded data removed]",
      "text/plain": [
       "<Figure size 432x288 with 1 Axes>"
      ]
     },
     "metadata": {},
     "output_type": "display_data"
    }
   ],
   "source": [
    "def may():\n",
    "    \n",
    "    x = np.arange(5)\n",
    "    money = [39, 8,0, 5.1, 6]\n",
    "    \n",
    "    ax = plt.gca()\n",
    "    ax.spines['right'].set_color('none')\n",
    "    ax.spines['top'].set_color('none')\n",
    "    ax.spines['left'].set_color('none')\n",
    "    ax.set_ylim([0, 50])\n",
    "    # ax.spines['bottom'].set_color('none')\n",
    "    plt.grid(axis = 'y')\n",
    "    ax.set_axisbelow(True)\n",
    "    plt.bar(x, money)\n",
    "    plt.title('1802C班违纪情况')\n",
    "    plt.xticks(x, ('未带电脑总数', '未带手机总数', '未关投影仪次数', '未关门窗次数','校查违纪'))\n",
    "    for a,b in zip(x,money):\n",
    "        plt.text(a, b+0.05, '%.0f' % b, ha='center', va= 'bottom',fontsize=15)\n",
    "    plt.show()\n",
    "\n",
    "may()\n"
   ]
  },
  {
   "cell_type": "code",
   "execution_count": null,
   "metadata": {},
   "outputs": [],
   "source": []
  },
  {
   "cell_type": "code",
   "execution_count": null,
   "metadata": {},
   "outputs": [],
   "source": []
  }
 ],
 "metadata": {
  "kernelspec": {
   "display_name": "Python 3",
   "language": "python",
   "name": "python3"
  },
  "language_info": {
   "codemirror_mode": {
    "name": "ipython",
    "version": 3
   },
   "file_extension": ".py",
   "mimetype": "text/x-python",
   "name": "python",
   "nbconvert_exporter": "python",
   "pygments_lexer": "ipython3",
   "version": "3.6.5"
  }
 },
 "nbformat": 4,
 "nbformat_minor": 2
}
