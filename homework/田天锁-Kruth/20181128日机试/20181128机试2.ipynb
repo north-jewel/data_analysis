{
 "cells": [
  {
   "cell_type": "code",
   "execution_count": 1,
   "metadata": {},
   "outputs": [],
   "source": [
    "import numpy as np\n",
    "import pandas as pd\n",
    "import matplotlib.pyplot as plt\n",
    "from pylab import *\n",
    "mpl.rcParams['font.sans-serif'] =['SimHei']"
   ]
  },
  {
   "cell_type": "code",
   "execution_count": 71,
   "metadata": {},
   "outputs": [],
   "source": [
    "#'未带电脑总数','未带手机总数','未关投影次数','未关门窗次数','校查违纪'\n",
    "#1802c,1803c,1804c,1805c,1806c1,1806c2,1807c1,1807c2,1808c1,1808c2\n",
    "#9.25-10.25月度违纪\n",
    "def text_two(dn,sj,ty,mc,xc,tit):\n",
    "    x_class=['1802c','1803c','1804c','1805c','1806c1','1806c2','1807c1','1807c2','1808c1','1808c2']\n",
    "    no_dn = dn\n",
    "    no_sj = sj\n",
    "    no_ty = ty\n",
    "    no_mc = mc\n",
    "    no_xc = xc\n",
    "    xcwj = xc\n",
    "    ind = np.arange(10)\n",
    "    width = 0.4\n",
    "    df = pd.DataFrame(index=x_class,\n",
    "                        data={'未带电脑总数':no_dn,\n",
    "                             '未带手机总数':no_sj,\n",
    "                             '未关投影次数':no_ty,\n",
    "                             '未关门窗次数':no_mc,\n",
    "                             '校查违纪':no_xc})\n",
    "    ax = df.plot(kind = 'bar',stacked = True,title=tit)\n",
    "    \n",
    "    plt.show()"
   ]
  },
  {
   "cell_type": "code",
   "execution_count": 72,
   "metadata": {},
   "outputs": [
    {
     "data": {
      "image/png": "[encoded data removed]",
      "text/plain": [
       "<Figure size 432x288 with 1 Axes>"
      ]
     },
     "metadata": {},
     "output_type": "display_data"
    }
   ],
   "source": [
    "dn = [10,10,20,10,20,10,10,10,10,10]\n",
    "sj = [10,10,20,10,20,10,10,10,10,10]\n",
    "ty = [10,10,20,10,20,10,10,10,10,10]\n",
    "mc = [10,10,20,10,20,10,10,10,10,10]\n",
    "xc = [10,10,20,10,20,10,10,10,10,10]\n",
    "titl = '9.25-10.25月度违纪'\n",
    "text_two(dn,sj,ty,mc,xc,titl)"
   ]
  },
  {
   "cell_type": "code",
   "execution_count": null,
   "metadata": {},
   "outputs": [],
   "source": []
  },
  {
   "cell_type": "code",
   "execution_count": null,
   "metadata": {},
   "outputs": [],
   "source": []
  },
  {
   "cell_type": "code",
   "execution_count": null,
   "metadata": {},
   "outputs": [],
   "source": []
  },
  {
   "cell_type": "code",
   "execution_count": 73,
   "metadata": {},
   "outputs": [],
   "source": [
    "    \n",
    "    \n",
    "#     p1 = plt.bar(x_class,no_dn,width,color= 'blue')\n",
    "#     p2 = plt.bar(x_class,no_sj,width,bottom = no_sj,color='yellow')\n",
    "#     p3 = plt.bar(x_class,no_ty,width,bottom = no_ty,color = 'gray')\n",
    "#     p4 = plt.bar(x_class,no_mc,width,bottom = no_mc,color = 'orange')\n",
    "#     p5 = plt.bar(x_class,no_xc,width,bottom = no_xc,color = 'red')\n",
    "#     ax.title(tit)\n",
    "#     ax.xticks(x_class)\n",
    "#     ,p3[0],p4[0],p5[0]\n",
    "#     ,'未关投影次数','未关门窗次数','校查违纪'\n",
    "#     plt.legend((p1[0],p2[0])\n",
    "#               ,('未带电脑总数','未带手机总数'))"
   ]
  },
  {
   "cell_type": "code",
   "execution_count": 97,
   "metadata": {},
   "outputs": [],
   "source": [
    "def text_two2(dn,sj,ty,mc,xc,tit):\n",
    "    x_class=['1802c','1803c','1804c','1805c','1806c1','1806c2','1807c1','1807c2','1808c1','1808c2']\n",
    "    no_dn = dn\n",
    "    no_sj = sj\n",
    "    no_ty = ty\n",
    "    no_mc = mc\n",
    "    no_xc = xc\n",
    "    xcwj = xc\n",
    "    ind = np.arange(10)\n",
    "    width = 0.4\n",
    "    aa = [no_dn,no_sj,no_ty,no_mc,no_xc]\n",
    "\n",
    "    p1 = plt.bar(x_class,aa[0],width,color= 'blue')\n",
    "    for i in aa[1:5]:\n",
    "        sum_s = aa[0:i]\n",
    "        print(sum_s)\n",
    "        csum = map(sum,zip(*sum_s))\n",
    "        plt.bar(x_class,i,bottom=csum)\n",
    "#     p2 = plt.bar(x_class,no_sj,width,bottom = no_dn,color='yellow')\n",
    "#     p3 = plt.bar(x_class,no_ty,width,bottom = no_sj,color = 'gray')\n",
    "#     p4 = plt.bar(x_class,no_mc,width,bottom = no_ty,color = 'orange')\n",
    "#     p5 = plt.bar(x_class,no_xc,width,bottom = no_mc,color = 'red')\n",
    "\n",
    "    \n",
    "    \n",
    "#     plt.legend((p1[0],p2[0],p3[0],p4[0],p5[0])\n",
    "#              ,('未带电脑总数','未带手机总数','未关投影次数','未关门窗次数','校查违纪'))    \n",
    "    \n",
    "    plt.show()"
   ]
  },
  {
   "cell_type": "code",
   "execution_count": 98,
   "metadata": {},
   "outputs": [
    {
     "ename": "TypeError",
     "evalue": "slice indices must be integers or None or have an __index__ method",
     "output_type": "error",
     "traceback": [
      "\u001b[1;31m---------------------------------------------------------------------------\u001b[0m",
      "\u001b[1;31mTypeError\u001b[0m                                 Traceback (most recent call last)",
      "\u001b[1;32m<ipython-input-98-faa781932a45>\u001b[0m in \u001b[0;36m<module>\u001b[1;34m()\u001b[0m\n\u001b[0;32m      5\u001b[0m \u001b[0mxc\u001b[0m \u001b[1;33m=\u001b[0m \u001b[1;33m[\u001b[0m\u001b[1;36m10\u001b[0m\u001b[1;33m,\u001b[0m\u001b[1;36m10\u001b[0m\u001b[1;33m,\u001b[0m\u001b[1;36m20\u001b[0m\u001b[1;33m,\u001b[0m\u001b[1;36m10\u001b[0m\u001b[1;33m,\u001b[0m\u001b[1;36m20\u001b[0m\u001b[1;33m,\u001b[0m\u001b[1;36m10\u001b[0m\u001b[1;33m,\u001b[0m\u001b[1;36m10\u001b[0m\u001b[1;33m,\u001b[0m\u001b[1;36m10\u001b[0m\u001b[1;33m,\u001b[0m\u001b[1;36m10\u001b[0m\u001b[1;33m,\u001b[0m\u001b[1;36m10\u001b[0m\u001b[1;33m]\u001b[0m\u001b[1;33m\u001b[0m\u001b[0m\n\u001b[0;32m      6\u001b[0m \u001b[0mtitl\u001b[0m \u001b[1;33m=\u001b[0m \u001b[1;34m'9.25-10.25月度违纪'\u001b[0m\u001b[1;33m\u001b[0m\u001b[0m\n\u001b[1;32m----> 7\u001b[1;33m \u001b[0mtext_two2\u001b[0m\u001b[1;33m(\u001b[0m\u001b[0mdn\u001b[0m\u001b[1;33m,\u001b[0m\u001b[0msj\u001b[0m\u001b[1;33m,\u001b[0m\u001b[0mty\u001b[0m\u001b[1;33m,\u001b[0m\u001b[0mmc\u001b[0m\u001b[1;33m,\u001b[0m\u001b[0mxc\u001b[0m\u001b[1;33m,\u001b[0m\u001b[0mtitl\u001b[0m\u001b[1;33m)\u001b[0m\u001b[1;33m\u001b[0m\u001b[0m\n\u001b[0m",
      "\u001b[1;32m<ipython-input-97-02e8f073bee5>\u001b[0m in \u001b[0;36mtext_two2\u001b[1;34m(dn, sj, ty, mc, xc, tit)\u001b[0m\n\u001b[0;32m     13\u001b[0m     \u001b[0mp1\u001b[0m \u001b[1;33m=\u001b[0m \u001b[0mplt\u001b[0m\u001b[1;33m.\u001b[0m\u001b[0mbar\u001b[0m\u001b[1;33m(\u001b[0m\u001b[0mx_class\u001b[0m\u001b[1;33m,\u001b[0m\u001b[0maa\u001b[0m\u001b[1;33m[\u001b[0m\u001b[1;36m0\u001b[0m\u001b[1;33m]\u001b[0m\u001b[1;33m,\u001b[0m\u001b[0mwidth\u001b[0m\u001b[1;33m,\u001b[0m\u001b[0mcolor\u001b[0m\u001b[1;33m=\u001b[0m \u001b[1;34m'blue'\u001b[0m\u001b[1;33m)\u001b[0m\u001b[1;33m\u001b[0m\u001b[0m\n\u001b[0;32m     14\u001b[0m     \u001b[1;32mfor\u001b[0m \u001b[0mi\u001b[0m \u001b[1;32min\u001b[0m \u001b[0maa\u001b[0m\u001b[1;33m[\u001b[0m\u001b[1;36m1\u001b[0m\u001b[1;33m:\u001b[0m\u001b[1;36m5\u001b[0m\u001b[1;33m]\u001b[0m\u001b[1;33m:\u001b[0m\u001b[1;33m\u001b[0m\u001b[0m\n\u001b[1;32m---> 15\u001b[1;33m         \u001b[0msum_s\u001b[0m \u001b[1;33m=\u001b[0m \u001b[0maa\u001b[0m\u001b[1;33m[\u001b[0m\u001b[1;36m0\u001b[0m\u001b[1;33m:\u001b[0m\u001b[0mi\u001b[0m\u001b[1;33m]\u001b[0m\u001b[1;33m\u001b[0m\u001b[0m\n\u001b[0m\u001b[0;32m     16\u001b[0m         \u001b[0mprint\u001b[0m\u001b[1;33m(\u001b[0m\u001b[0msum_s\u001b[0m\u001b[1;33m)\u001b[0m\u001b[1;33m\u001b[0m\u001b[0m\n\u001b[0;32m     17\u001b[0m         \u001b[0mcsum\u001b[0m \u001b[1;33m=\u001b[0m \u001b[0mmap\u001b[0m\u001b[1;33m(\u001b[0m\u001b[0msum\u001b[0m\u001b[1;33m,\u001b[0m\u001b[0mzip\u001b[0m\u001b[1;33m(\u001b[0m\u001b[1;33m*\u001b[0m\u001b[0msum_s\u001b[0m\u001b[1;33m)\u001b[0m\u001b[1;33m)\u001b[0m\u001b[1;33m\u001b[0m\u001b[0m\n",
      "\u001b[1;31mTypeError\u001b[0m: slice indices must be integers or None or have an __index__ method"
     ]
    },
    {
     "data": {
      "image/png": "[encoded data removed]",
      "text/plain": [
       "<Figure size 432x288 with 1 Axes>"
      ]
     },
     "metadata": {},
     "output_type": "display_data"
    }
   ],
   "source": [
    "dn = [10,10,20,10,20,10,10,10,10,10]\n",
    "sj = [10,10,20,10,20,10,10,10,10,10]\n",
    "ty = [10,10,20,10,20,10,10,10,10,10]\n",
    "mc = [10,10,20,10,20,10,10,10,10,10]\n",
    "xc = [10,10,20,10,20,10,10,10,10,10]\n",
    "titl = '9.25-10.25月度违纪'\n",
    "text_two2(dn,sj,ty,mc,xc,titl)"
   ]
  },
  {
   "cell_type": "code",
   "execution_count": null,
   "metadata": {},
   "outputs": [],
   "source": [
    "for i in range(1,4): ",
    "    \n",
    "    sub_matrix = y[0:i] ",
    "        \n",
    "    print sub_matrix ",
    "        \n",
    "    csum = map(sum,zip(*sub_matrix)) ",
    "        \n",
    "    print csum ",
    "        \n",
    "    p3 = plt.bar(np.arange(3), y[i], width,bottom=csum,color=set2[i]) ",
    "        \n",
    "    bar.append(p3)\n",
    "--------------------- \n"
   ]
  }
 ],
 "metadata": {
  "kernelspec": {
   "display_name": "Python 3",
   "language": "python",
   "name": "python3"
  },
  "language_info": {
   "codemirror_mode": {
    "name": "ipython",
    "version": 3
   },
   "file_extension": ".py",
   "mimetype": "text/x-python",
   "name": "python",
   "nbconvert_exporter": "python",
   "pygments_lexer": "ipython3",
   "version": "3.6.5"
  }
 },
 "nbformat": 4,
 "nbformat_minor": 2
}
