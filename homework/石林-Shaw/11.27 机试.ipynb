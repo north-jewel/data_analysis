{
 "cells": [
  {
   "cell_type": "code",
   "execution_count": 2,
   "metadata": {},
   "outputs": [],
   "source": [
    "import numpy as np\n",
    "import pandas as pd\n",
    "import matplotlib.pyplot as plt\n",
    "from pylab import * #显示中文\n",
    "mpl.rcParams['font.sans-serif']=['SimHei']\n",
    "matplotlib.rcParams['axes.unicode_minus']=False"
   ]
  },
  {
   "cell_type": "code",
   "execution_count": 44,
   "metadata": {},
   "outputs": [
    {
     "data": {
      "text/plain": [
       "()"
      ]
     },
     "execution_count": 44,
     "metadata": {},
     "output_type": "execute_result"
    },
    {
     "data": {
      "image/png": "[encoded data removed]",
      "text/plain": [
       "<Figure size 432x288 with 1 Axes>"
      ]
     },
     "metadata": {},
     "output_type": "display_data"
    }
   ],
   "source": [
    "def em():\n",
    "    num_list = [39,8,0,1,6]\n",
    "    num_list_1 = [0,1,2,3,4]\n",
    "    num_name = ['未带电脑总数','未带手机总数','未关投影仪次数','未关门窗次数','校查违纪']\n",
    "    num_bq = ['未带电脑总数39','未带手机总数8','未关投影仪0','未关门窗次数1','校查违纪6']\n",
    "    plt.title('1802C班违纪情况')\n",
    "    ax = plt.gca()\n",
    "    plt.yticks([0,5,10,15,20,25,30,35,40,45])\n",
    "    plt.xticks(num_list_1,num_name)\n",
    "    for i in range(5):\n",
    "        plt.text(num_list_1[i]-0.5,num_list[i],s = num_bq[i])\n",
    "    ax.spines['right'].set_color('none')\n",
    "    ax.spines['left'].set_color('none')\n",
    "    ax.spines['top'].set_color('none')\n",
    "    plt.grid(axis='y',alpha = 0.5)\n",
    "\n",
    "    plt.bar(range(len(num_list)),num_list)\n",
    "    return ()\n",
    "em()\n"
   ]
  },
  {
   "cell_type": "code",
   "execution_count": 33,
   "metadata": {},
   "outputs": [
    {
     "name": "stdout",
     "output_type": "stream",
     "text": [
      "Help on function grid in module matplotlib.pyplot:\n",
      "\n",
      "grid(b=None, which='major', axis='both', **kwargs)\n",
      "    Turn the axes grids on or off.\n",
      "    \n",
      "    Set the axes grids on or off; *b* is a boolean.\n",
      "    \n",
      "    If *b* is *None* and ``len(kwargs)==0``, toggle the grid state.  If\n",
      "    *kwargs* are supplied, it is assumed that you want a grid and *b*\n",
      "    is thus set to *True*.\n",
      "    \n",
      "    *which* can be 'major' (default), 'minor', or 'both' to control\n",
      "    whether major tick grids, minor tick grids, or both are affected.\n",
      "    \n",
      "    *axis* can be 'both' (default), 'x', or 'y' to control which\n",
      "    set of gridlines are drawn.\n",
      "    \n",
      "    *kwargs* are used to set the grid line properties, e.g.,::\n",
      "    \n",
      "       ax.grid(color='r', linestyle='-', linewidth=2)\n",
      "    \n",
      "    Valid :class:`~matplotlib.lines.Line2D` kwargs are\n",
      "    \n",
      "      agg_filter: a filter function, which takes a (m, n, 3) float array and a dpi value, and returns a (m, n, 3) array \n",
      "      alpha: float (0.0 transparent through 1.0 opaque) \n",
      "      animated: bool \n",
      "      antialiased or aa: bool \n",
      "      clip_box: a `.Bbox` instance \n",
      "      clip_on: bool \n",
      "      clip_path: [(`~matplotlib.path.Path`, `.Transform`) | `.Patch` | None] \n",
      "      color or c: any matplotlib color \n",
      "      contains: a callable function \n",
      "      dash_capstyle: ['butt' | 'round' | 'projecting'] \n",
      "      dash_joinstyle: ['miter' | 'round' | 'bevel'] \n",
      "      dashes: sequence of on/off ink in points \n",
      "      drawstyle: ['default' | 'steps' | 'steps-pre' | 'steps-mid' | 'steps-post'] \n",
      "      figure: a `.Figure` instance \n",
      "      fillstyle: ['full' | 'left' | 'right' | 'bottom' | 'top' | 'none'] \n",
      "      gid: an id string \n",
      "      label: object \n",
      "      linestyle or ls: ['solid' | 'dashed', 'dashdot', 'dotted' | (offset, on-off-dash-seq) | ``'-'`` | ``'--'`` | ``'-.'`` | ``':'`` | ``'None'`` | ``' '`` | ``''``]\n",
      "      linewidth or lw: float value in points \n",
      "      marker: :mod:`A valid marker style <matplotlib.markers>`\n",
      "      markeredgecolor or mec: any matplotlib color \n",
      "      markeredgewidth or mew: float value in points \n",
      "      markerfacecolor or mfc: any matplotlib color \n",
      "      markerfacecoloralt or mfcalt: any matplotlib color \n",
      "      markersize or ms: float \n",
      "      markevery: [None | int | length-2 tuple of int | slice | list/array of int | float | length-2 tuple of float]\n",
      "      path_effects: `.AbstractPathEffect` \n",
      "      picker: float distance in points or callable pick function ``fn(artist, event)`` \n",
      "      pickradius: float distance in points\n",
      "      rasterized: bool or None \n",
      "      sketch_params: (scale: float, length: float, randomness: float) \n",
      "      snap: bool or None \n",
      "      solid_capstyle: ['butt' | 'round' |  'projecting'] \n",
      "      solid_joinstyle: ['miter' | 'round' | 'bevel'] \n",
      "      transform: a :class:`matplotlib.transforms.Transform` instance \n",
      "      url: a url string \n",
      "      visible: bool \n",
      "      xdata: 1D array \n",
      "      ydata: 1D array \n",
      "      zorder: float\n",
      "\n"
     ]
    }
   ],
   "source": [
    "help(plt.grid)"
   ]
  },
  {
   "cell_type": "code",
   "execution_count": null,
   "metadata": {},
   "outputs": [],
   "source": []
  }
 ],
 "metadata": {
  "kernelspec": {
   "display_name": "Python 3",
   "language": "python",
   "name": "python3"
  },
  "language_info": {
   "codemirror_mode": {
    "name": "ipython",
    "version": 3
   },
   "file_extension": ".py",
   "mimetype": "text/x-python",
   "name": "python",
   "nbconvert_exporter": "python",
   "pygments_lexer": "ipython3",
   "version": "3.6.5"
  }
 },
 "nbformat": 4,
 "nbformat_minor": 2
}
