{
 "cells": [
  {
   "cell_type": "code",
   "execution_count": 1,
   "metadata": {},
   "outputs": [],
   "source": [
    "import numpy as np\n",
    "import pandas as pd\n",
    "import matplotlib.pyplot as plt"
   ]
  },
  {
   "cell_type": "markdown",
   "metadata": {},
   "source": [
    "# 绘制line"
   ]
  },
  {
   "cell_type": "code",
   "execution_count": 2,
   "metadata": {},
   "outputs": [],
   "source": [
    "x =np.linspace(-np.pi,np.pi,256,endpoint=True)\n",
    "#x =np.linspace(0,2*np.pi,256,endpoint=True)"
   ]
  },
  {
   "cell_type": "code",
   "execution_count": 3,
   "metadata": {},
   "outputs": [],
   "source": [
    "c,s = np.cos(x),np.sin(x)"
   ]
  },
  {
   "cell_type": "code",
   "execution_count": 10,
   "metadata": {},
   "outputs": [
    {
     "data": {
      "text/plain": [
       "<matplotlib.collections.PolyCollection at 0xa5724e0>"
      ]
     },
     "execution_count": 10,
     "metadata": {},
     "output_type": "execute_result"
    },
    {
     "data": {
      "image/png": "[encoded data removed]",
      "text/plain": [
       "<matplotlib.figure.Figure at 0x9514d68>"
      ]
     },
     "metadata": {},
     "output_type": "display_data"
    }
   ],
   "source": [
    "plt.figure(1)\n",
    "plt.plot(x,c,color='blue',linewidth=2.0,linestyle='--',label='cos',alpha=0.5) # label 稍安勿躁\n",
    "plt.plot(x,s,'r--',label='sin')\n",
    "\n",
    "plt.title('sin & cos')\n",
    "ax = plt.gca()# get current ax\n",
    "# print(type(ax))\n",
    "# print(ax)\n",
    "ax.spines['right'].set_color('none')  # 将右边的轴去掉\n",
    "ax.spines['top'].set_color('none')\n",
    "#ax.spines['left'].set_position(('data',0))   # 将左边的轴移到0位置\n",
    "ax.spines['left'].set_position('center')\n",
    "#ax.spines['bottom'].set_position(('data',0)) \n",
    "ax.spines['bottom'].set_position('zero') # zero\n",
    "\n",
    "ax.xaxis.set_ticks_position('bottom')# 记号位置\n",
    "\n",
    "# plt.xticks([-np.pi,-np.pi/2,0,np.pi/2,np.pi])\n",
    "\n",
    "plt.xticks([-np.pi,-np.pi/2,0.5,np.pi/2,np.pi],\n",
    "         [r'$-\\pi$',r'$-\\pi/2$',r'$0.5$',r'$+\\pi/2$',r'$\\pi$']) #鬼知道你们不认真,标记的位置,标记格式化\n",
    "\n",
    "ax.yaxis.set_ticks_position('left')# 记号位置\n",
    "plt.yticks(np.linspace(-1,1,5))\n",
    "\n",
    "plt.legend(loc=2)  # upper left\n",
    "# plt.legend(loc='upper left')\n",
    "# plt.legend(loc=(1,1))\n",
    "# print(type(ax.get_xticklabels()))\n",
    "for label in ax.get_xticklabels():\n",
    "    #print(type(label),'-----')\n",
    "    label.set_fontsize(18)\n",
    "    label.set_bbox(dict(facecolor='green',edgecolor='red',alpha=0.9))\n",
    "    \n",
    "ax.grid() # 网格根据标记来加的\n",
    "\n",
    "# ax.axis([0,np.pi,0,1])  # 取某一范围,[x_min,x_max,y_min,y_max]\n",
    "\n",
    "#plt.fill_between(x,np.abs(x)<0.5,c,c>0.6,color='green',alpha='0.25')\n",
    "# plt.fill_between(x,np.abs(x)<0.5,color='green',alpha='0.25')\n",
    "plt.fill_between(x,x>0,c,c<0.5,color='green',alpha='0.25')"
   ]
  },
  {
   "cell_type": "code",
   "execution_count": 5,
   "metadata": {},
   "outputs": [],
   "source": [
    "# for label in ax.get_xticklabels()+ax.get_yticklabels():  # 两个list连起来\n",
    "#     #print(type(label),'-----')\n",
    "#     label.set_fontsize(18)\n",
    "#     label.set_bbox(dict(facecolor='green',edgecolor='red',alpha=0.9))"
   ]
  },
  {
   "cell_type": "code",
   "execution_count": 6,
   "metadata": {},
   "outputs": [
    {
     "name": "stdout",
     "output_type": "stream",
     "text": [
      "Help on function fill_between in module matplotlib.pyplot:\n",
      "\n",
      "fill_between(x, y1, y2=0, where=None, interpolate=False, step=None, hold=None, data=None, **kwargs)\n",
      "    Make filled polygons between two curves.\n",
      "    \n",
      "    \n",
      "    Create a :class:`~matplotlib.collections.PolyCollection`\n",
      "    filling the regions between *y1* and *y2* where\n",
      "    ``where==True``\n",
      "    \n",
      "    Parameters\n",
      "    ----------\n",
      "    x : array\n",
      "        An N-length array of the x data\n",
      "    \n",
      "    y1 : array\n",
      "        An N-length array (or scalar) of the y data\n",
      "    \n",
      "    y2 : array\n",
      "        An N-length array (or scalar) of the y data\n",
      "    \n",
      "    where : array, optional\n",
      "        If `None`, default to fill between everywhere.  If not `None`,\n",
      "        it is an N-length numpy boolean array and the fill will\n",
      "        only happen over the regions where ``where==True``.\n",
      "    \n",
      "    interpolate : bool, optional\n",
      "        If `True`, interpolate between the two lines to find the\n",
      "        precise point of intersection.  Otherwise, the start and\n",
      "        end points of the filled region will only occur on explicit\n",
      "        values in the *x* array.\n",
      "    \n",
      "    step : {'pre', 'post', 'mid'}, optional\n",
      "        If not None, fill with step logic.\n",
      "    \n",
      "    \n",
      "    Notes\n",
      "    -----\n",
      "    \n",
      "    Additional Keyword args passed on to the\n",
      "    :class:`~matplotlib.collections.PolyCollection`.\n",
      "    \n",
      "    kwargs control the :class:`~matplotlib.patches.Polygon` properties:\n",
      "    \n",
      "      agg_filter: a filter function, which takes a (m, n, 3) float array and a dpi value, and returns a (m, n, 3) array \n",
      "      alpha: float or None \n",
      "      animated: bool \n",
      "      antialiased or antialiaseds: Boolean or sequence of booleans \n",
      "      array: ndarray\n",
      "      clim: a length 2 sequence of floats \n",
      "      clip_box: a `~.Bbox` instance \n",
      "      clip_on: bool \n",
      "      clip_path: [(`~matplotlib.path.Path`, `~.Transform`) | `~.Patch` | None] \n",
      "      cmap: a colormap or registered colormap name \n",
      "      color: matplotlib color arg or sequence of rgba tuples\n",
      "      contains: a callable function \n",
      "      edgecolor or edgecolors: matplotlib color spec or sequence of specs \n",
      "      facecolor or facecolors: matplotlib color spec or sequence of specs \n",
      "      figure: a `~.Figure` instance \n",
      "      gid: an id string \n",
      "      hatch: [ '/' | '\\\\' | '|' | '-' | '+' | 'x' | 'o' | 'O' | '.' | '*' ] \n",
      "      label: object \n",
      "      linestyle or dashes or linestyles: ['solid' | 'dashed', 'dashdot', 'dotted' | (offset, on-off-dash-seq) | ``'-'`` | ``'--'`` | ``'-.'`` | ``':'`` | ``'None'`` | ``' '`` | ``''``]\n",
      "      linewidth or linewidths or lw: float or sequence of floats \n",
      "      norm: `~.Normalize`\n",
      "      offset_position: [ 'screen' | 'data' ] \n",
      "      offsets: float or sequence of floats \n",
      "      path_effects: `~.AbstractPathEffect` \n",
      "      picker: [None | bool | float | callable] \n",
      "      pickradius: float distance in points\n",
      "      rasterized: bool or None \n",
      "      sketch_params: (scale: float, length: float, randomness: float) \n",
      "      snap: bool or None \n",
      "      transform: `~.Transform` \n",
      "      url: a url string \n",
      "      urls: List[str] or None \n",
      "      visible: bool \n",
      "      zorder: float \n",
      "    \n",
      "    See Also\n",
      "    --------\n",
      "    \n",
      "        :meth:`fill_betweenx`\n",
      "            for filling between two sets of x-values\n",
      "    \n",
      "    .. note::\n",
      "        In addition to the above described arguments, this function can take a\n",
      "        **data** keyword argument. If such a **data** argument is given, the\n",
      "        following arguments are replaced by **data[<arg>]**:\n",
      "    \n",
      "        * All arguments with the following names: 'where', 'x', 'y1', 'y2'.\n",
      "\n"
     ]
    }
   ],
   "source": [
    "#help(plt.xticks)\n",
    "help(plt.fill_between)"
   ]
  },
  {
   "cell_type": "code",
   "execution_count": 7,
   "metadata": {},
   "outputs": [],
   "source": [
    "# help(ax.spines['left'].set_position)"
   ]
  },
  {
   "cell_type": "code",
   "execution_count": 8,
   "metadata": {},
   "outputs": [],
   "source": [
    "# help(plt.legend)"
   ]
  },
  {
   "cell_type": "code",
   "execution_count": 9,
   "metadata": {},
   "outputs": [],
   "source": [
    "plt.show()"
   ]
  },
  {
   "cell_type": "code",
   "execution_count": null,
   "metadata": {},
   "outputs": [],
   "source": []
  }
 ],
 "metadata": {
  "kernelspec": {
   "display_name": "Python 3",
   "language": "python",
   "name": "python3"
  },
  "language_info": {
   "codemirror_mode": {
    "name": "ipython",
    "version": 3
   },
   "file_extension": ".py",
   "mimetype": "text/x-python",
   "name": "python",
   "nbconvert_exporter": "python",
   "pygments_lexer": "ipython3",
   "version": "3.6.5"
  }
 },
 "nbformat": 4,
 "nbformat_minor": 2
}
